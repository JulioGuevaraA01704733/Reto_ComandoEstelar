{
 "cells": [
  {
   "cell_type": "markdown",
   "id": "c99bc01d",
   "metadata": {},
   "source": [
    "# Data Wrangling\n",
    "## Análisis de Calidad de Datos\n",
    "Equipo: Comando Estelar"
   ]
  },
  {
   "cell_type": "markdown",
   "id": "eaa7ca56",
   "metadata": {},
   "source": [
    "#### Instalación de paquetes necesarios"
   ]
  },
  {
   "cell_type": "code",
   "execution_count": 16,
   "id": "aaab94e6",
   "metadata": {},
   "outputs": [
    {
     "name": "stdout",
     "output_type": "stream",
     "text": [
      "Requirement already satisfied: Pandas in /opt/homebrew/lib/python3.11/site-packages (2.2.3)\n",
      "Requirement already satisfied: numpy>=1.23.2 in /opt/homebrew/lib/python3.11/site-packages (from Pandas) (2.1.3)\n",
      "Requirement already satisfied: python-dateutil>=2.8.2 in /Users/danielamarquez/Library/Python/3.11/lib/python/site-packages (from Pandas) (2.9.0.post0)\n",
      "Requirement already satisfied: pytz>=2020.1 in /opt/homebrew/lib/python3.11/site-packages (from Pandas) (2025.2)\n",
      "Requirement already satisfied: tzdata>=2022.7 in /opt/homebrew/lib/python3.11/site-packages (from Pandas) (2025.2)\n",
      "Requirement already satisfied: six>=1.5 in /Users/danielamarquez/Library/Python/3.11/lib/python/site-packages (from python-dateutil>=2.8.2->Pandas) (1.17.0)\n",
      "\n",
      "\u001b[1m[\u001b[0m\u001b[34;49mnotice\u001b[0m\u001b[1;39;49m]\u001b[0m\u001b[39;49m A new release of pip is available: \u001b[0m\u001b[31;49m24.3.1\u001b[0m\u001b[39;49m -> \u001b[0m\u001b[32;49m25.1.1\u001b[0m\n",
      "\u001b[1m[\u001b[0m\u001b[34;49mnotice\u001b[0m\u001b[1;39;49m]\u001b[0m\u001b[39;49m To update, run: \u001b[0m\u001b[32;49mpython3.11 -m pip install --upgrade pip\u001b[0m\n",
      "Note: you may need to restart the kernel to use updated packages.\n"
     ]
    }
   ],
   "source": [
    "%pip install Pandas"
   ]
  },
  {
   "cell_type": "code",
   "execution_count": 3,
   "id": "ad4f601a",
   "metadata": {},
   "outputs": [
    {
     "name": "stdout",
     "output_type": "stream",
     "text": [
      "Requirement already satisfied: ydata_profiling in /opt/homebrew/lib/python3.11/site-packages (4.16.1)\n",
      "Requirement already satisfied: scipy<1.16,>=1.4.1 in /opt/homebrew/lib/python3.11/site-packages (from ydata_profiling) (1.15.2)\n",
      "Requirement already satisfied: pandas!=1.4.0,<3.0,>1.1 in /opt/homebrew/lib/python3.11/site-packages (from ydata_profiling) (2.2.3)\n",
      "Requirement already satisfied: matplotlib<=3.10,>=3.5 in /opt/homebrew/lib/python3.11/site-packages (from ydata_profiling) (3.10.0)\n",
      "Requirement already satisfied: pydantic>=2 in /opt/homebrew/lib/python3.11/site-packages (from ydata_profiling) (2.11.4)\n",
      "Requirement already satisfied: PyYAML<6.1,>=5.0.0 in /opt/homebrew/lib/python3.11/site-packages (from ydata_profiling) (6.0.2)\n",
      "Requirement already satisfied: jinja2<3.2,>=2.11.1 in /opt/homebrew/lib/python3.11/site-packages (from ydata_profiling) (3.1.6)\n",
      "Requirement already satisfied: visions<0.8.2,>=0.7.5 in /opt/homebrew/lib/python3.11/site-packages (from visions[type_image_path]<0.8.2,>=0.7.5->ydata_profiling) (0.8.1)\n",
      "Requirement already satisfied: numpy<2.2,>=1.16.0 in /opt/homebrew/lib/python3.11/site-packages (from ydata_profiling) (2.1.3)\n",
      "Requirement already satisfied: htmlmin==0.1.12 in /opt/homebrew/lib/python3.11/site-packages (from ydata_profiling) (0.1.12)\n",
      "Requirement already satisfied: phik<0.13,>=0.11.1 in /opt/homebrew/lib/python3.11/site-packages (from ydata_profiling) (0.12.4)\n",
      "Requirement already satisfied: requests<3,>=2.24.0 in /opt/homebrew/lib/python3.11/site-packages (from ydata_profiling) (2.32.3)\n",
      "Requirement already satisfied: tqdm<5,>=4.48.2 in /opt/homebrew/lib/python3.11/site-packages (from ydata_profiling) (4.67.1)\n",
      "Requirement already satisfied: seaborn<0.14,>=0.10.1 in /opt/homebrew/lib/python3.11/site-packages (from ydata_profiling) (0.13.2)\n",
      "Requirement already satisfied: multimethod<2,>=1.4 in /opt/homebrew/lib/python3.11/site-packages (from ydata_profiling) (1.12)\n",
      "Requirement already satisfied: statsmodels<1,>=0.13.2 in /opt/homebrew/lib/python3.11/site-packages (from ydata_profiling) (0.14.4)\n",
      "Requirement already satisfied: typeguard<5,>=3 in /opt/homebrew/lib/python3.11/site-packages (from ydata_profiling) (4.4.2)\n",
      "Requirement already satisfied: imagehash==4.3.1 in /opt/homebrew/lib/python3.11/site-packages (from ydata_profiling) (4.3.1)\n",
      "Requirement already satisfied: wordcloud>=1.9.3 in /opt/homebrew/lib/python3.11/site-packages (from ydata_profiling) (1.9.4)\n",
      "Requirement already satisfied: dacite>=1.8 in /opt/homebrew/lib/python3.11/site-packages (from ydata_profiling) (1.9.2)\n",
      "Requirement already satisfied: numba<=0.61,>=0.56.0 in /opt/homebrew/lib/python3.11/site-packages (from ydata_profiling) (0.61.0)\n",
      "Requirement already satisfied: PyWavelets in /opt/homebrew/lib/python3.11/site-packages (from imagehash==4.3.1->ydata_profiling) (1.8.0)\n",
      "Requirement already satisfied: pillow in /opt/homebrew/lib/python3.11/site-packages (from imagehash==4.3.1->ydata_profiling) (11.2.1)\n",
      "Requirement already satisfied: MarkupSafe>=2.0 in /opt/homebrew/lib/python3.11/site-packages (from jinja2<3.2,>=2.11.1->ydata_profiling) (3.0.2)\n",
      "Requirement already satisfied: contourpy>=1.0.1 in /opt/homebrew/lib/python3.11/site-packages (from matplotlib<=3.10,>=3.5->ydata_profiling) (1.3.2)\n",
      "Requirement already satisfied: cycler>=0.10 in /opt/homebrew/lib/python3.11/site-packages (from matplotlib<=3.10,>=3.5->ydata_profiling) (0.12.1)\n",
      "Requirement already satisfied: fonttools>=4.22.0 in /opt/homebrew/lib/python3.11/site-packages (from matplotlib<=3.10,>=3.5->ydata_profiling) (4.57.0)\n",
      "Requirement already satisfied: kiwisolver>=1.3.1 in /opt/homebrew/lib/python3.11/site-packages (from matplotlib<=3.10,>=3.5->ydata_profiling) (1.4.8)\n",
      "Requirement already satisfied: packaging>=20.0 in /Users/danielamarquez/Library/Python/3.11/lib/python/site-packages (from matplotlib<=3.10,>=3.5->ydata_profiling) (24.2)\n",
      "Requirement already satisfied: pyparsing>=2.3.1 in /opt/homebrew/lib/python3.11/site-packages (from matplotlib<=3.10,>=3.5->ydata_profiling) (3.2.3)\n",
      "Requirement already satisfied: python-dateutil>=2.7 in /Users/danielamarquez/Library/Python/3.11/lib/python/site-packages (from matplotlib<=3.10,>=3.5->ydata_profiling) (2.9.0.post0)\n",
      "Requirement already satisfied: llvmlite<0.45,>=0.44.0dev0 in /opt/homebrew/lib/python3.11/site-packages (from numba<=0.61,>=0.56.0->ydata_profiling) (0.44.0)\n",
      "Requirement already satisfied: pytz>=2020.1 in /opt/homebrew/lib/python3.11/site-packages (from pandas!=1.4.0,<3.0,>1.1->ydata_profiling) (2025.2)\n",
      "Requirement already satisfied: tzdata>=2022.7 in /opt/homebrew/lib/python3.11/site-packages (from pandas!=1.4.0,<3.0,>1.1->ydata_profiling) (2025.2)\n",
      "Requirement already satisfied: joblib>=0.14.1 in /opt/homebrew/lib/python3.11/site-packages (from phik<0.13,>=0.11.1->ydata_profiling) (1.4.2)\n",
      "Requirement already satisfied: charset-normalizer<4,>=2 in /opt/homebrew/lib/python3.11/site-packages (from requests<3,>=2.24.0->ydata_profiling) (3.4.1)\n",
      "Requirement already satisfied: idna<4,>=2.5 in /opt/homebrew/lib/python3.11/site-packages (from requests<3,>=2.24.0->ydata_profiling) (3.10)\n",
      "Requirement already satisfied: urllib3<3,>=1.21.1 in /opt/homebrew/lib/python3.11/site-packages (from requests<3,>=2.24.0->ydata_profiling) (2.4.0)\n",
      "Requirement already satisfied: certifi>=2017.4.17 in /opt/homebrew/lib/python3.11/site-packages (from requests<3,>=2.24.0->ydata_profiling) (2025.4.26)\n",
      "Requirement already satisfied: patsy>=0.5.6 in /opt/homebrew/lib/python3.11/site-packages (from statsmodels<1,>=0.13.2->ydata_profiling) (1.0.1)\n",
      "Requirement already satisfied: typing_extensions>=4.10.0 in /Users/danielamarquez/Library/Python/3.11/lib/python/site-packages (from typeguard<5,>=3->ydata_profiling) (4.13.0)\n",
      "Requirement already satisfied: attrs>=19.3.0 in /opt/homebrew/lib/python3.11/site-packages (from visions<0.8.2,>=0.7.5->visions[type_image_path]<0.8.2,>=0.7.5->ydata_profiling) (25.3.0)\n",
      "Requirement already satisfied: networkx>=2.4 in /opt/homebrew/lib/python3.11/site-packages (from visions<0.8.2,>=0.7.5->visions[type_image_path]<0.8.2,>=0.7.5->ydata_profiling) (3.4.2)\n",
      "Requirement already satisfied: puremagic in /opt/homebrew/lib/python3.11/site-packages (from visions<0.8.2,>=0.7.5->visions[type_image_path]<0.8.2,>=0.7.5->ydata_profiling) (1.29)\n",
      "Requirement already satisfied: annotated-types>=0.6.0 in /opt/homebrew/lib/python3.11/site-packages (from pydantic>=2->ydata_profiling) (0.7.0)\n",
      "Requirement already satisfied: pydantic-core==2.33.2 in /opt/homebrew/lib/python3.11/site-packages (from pydantic>=2->ydata_profiling) (2.33.2)\n",
      "Requirement already satisfied: typing-inspection>=0.4.0 in /opt/homebrew/lib/python3.11/site-packages (from pydantic>=2->ydata_profiling) (0.4.0)\n",
      "Requirement already satisfied: six>=1.5 in /Users/danielamarquez/Library/Python/3.11/lib/python/site-packages (from python-dateutil>=2.7->matplotlib<=3.10,>=3.5->ydata_profiling) (1.17.0)\n",
      "Note: you may need to restart the kernel to use updated packages.\n"
     ]
    }
   ],
   "source": [
    "%pip install ydata_profiling"
   ]
  },
  {
   "cell_type": "code",
   "execution_count": 25,
   "id": "6007457e",
   "metadata": {},
   "outputs": [
    {
     "name": "stdout",
     "output_type": "stream",
     "text": [
      "Collecting dython\n",
      "  Downloading dython-0.7.9-py3-none-any.whl.metadata (2.9 kB)\n",
      "Requirement already satisfied: numpy>=1.23.0 in /opt/homebrew/lib/python3.11/site-packages (from dython) (2.1.3)\n",
      "Requirement already satisfied: pandas>=1.4.2 in /opt/homebrew/lib/python3.11/site-packages (from dython) (2.2.3)\n",
      "Requirement already satisfied: seaborn>=0.12.0 in /opt/homebrew/lib/python3.11/site-packages (from dython) (0.13.2)\n",
      "Requirement already satisfied: scipy>=1.7.1 in /opt/homebrew/lib/python3.11/site-packages (from dython) (1.15.2)\n",
      "Requirement already satisfied: matplotlib>=3.6.0 in /opt/homebrew/lib/python3.11/site-packages (from dython) (3.10.0)\n",
      "Requirement already satisfied: scikit-learn>=0.24.2 in /opt/homebrew/lib/python3.11/site-packages (from dython) (1.6.1)\n",
      "Requirement already satisfied: psutil>=5.9.1 in /Users/danielamarquez/Library/Python/3.11/lib/python/site-packages (from dython) (7.0.0)\n",
      "Requirement already satisfied: setuptools in /opt/homebrew/lib/python3.11/site-packages (from dython) (75.6.0)\n",
      "Requirement already satisfied: contourpy>=1.0.1 in /opt/homebrew/lib/python3.11/site-packages (from matplotlib>=3.6.0->dython) (1.3.2)\n",
      "Requirement already satisfied: cycler>=0.10 in /opt/homebrew/lib/python3.11/site-packages (from matplotlib>=3.6.0->dython) (0.12.1)\n",
      "Requirement already satisfied: fonttools>=4.22.0 in /opt/homebrew/lib/python3.11/site-packages (from matplotlib>=3.6.0->dython) (4.57.0)\n",
      "Requirement already satisfied: kiwisolver>=1.3.1 in /opt/homebrew/lib/python3.11/site-packages (from matplotlib>=3.6.0->dython) (1.4.8)\n",
      "Requirement already satisfied: packaging>=20.0 in /Users/danielamarquez/Library/Python/3.11/lib/python/site-packages (from matplotlib>=3.6.0->dython) (24.2)\n",
      "Requirement already satisfied: pillow>=8 in /opt/homebrew/lib/python3.11/site-packages (from matplotlib>=3.6.0->dython) (11.2.1)\n",
      "Requirement already satisfied: pyparsing>=2.3.1 in /opt/homebrew/lib/python3.11/site-packages (from matplotlib>=3.6.0->dython) (3.2.3)\n",
      "Requirement already satisfied: python-dateutil>=2.7 in /Users/danielamarquez/Library/Python/3.11/lib/python/site-packages (from matplotlib>=3.6.0->dython) (2.9.0.post0)\n",
      "Requirement already satisfied: pytz>=2020.1 in /opt/homebrew/lib/python3.11/site-packages (from pandas>=1.4.2->dython) (2025.2)\n",
      "Requirement already satisfied: tzdata>=2022.7 in /opt/homebrew/lib/python3.11/site-packages (from pandas>=1.4.2->dython) (2025.2)\n",
      "Requirement already satisfied: six>=1.5 in /Users/danielamarquez/Library/Python/3.11/lib/python/site-packages (from python-dateutil>=2.7->matplotlib>=3.6.0->dython) (1.17.0)\n",
      "Requirement already satisfied: joblib>=1.2.0 in /opt/homebrew/lib/python3.11/site-packages (from scikit-learn>=0.24.2->dython) (1.4.2)\n",
      "Requirement already satisfied: threadpoolctl>=3.1.0 in /opt/homebrew/lib/python3.11/site-packages (from scikit-learn>=0.24.2->dython) (3.6.0)\n",
      "Downloading dython-0.7.9-py3-none-any.whl (26 kB)\n",
      "Installing collected packages: dython\n",
      "Successfully installed dython-0.7.9\n",
      "Note: you may need to restart the kernel to use updated packages.\n"
     ]
    }
   ],
   "source": [
    "%pip install  dython"
   ]
  },
  {
   "cell_type": "markdown",
   "id": "b94d6c66",
   "metadata": {},
   "source": [
    "#### Importación de las librerías necesarias"
   ]
  },
  {
   "cell_type": "code",
   "execution_count": 62,
   "id": "81cc60e4",
   "metadata": {},
   "outputs": [],
   "source": [
    "import pandas as pd\n",
    "import numpy as np\n",
    "import warnings\n",
    "import seaborn as sns\n",
    "import matplotlib.pyplot as plt\n",
    "%matplotlib inline\n",
    "from sklearn.preprocessing import RobustScaler\n",
    "from ydata_profiling import ProfileReport\n",
    "from dython.nominal import associations\n",
    "import scipy.stats as stats"
   ]
  },
  {
   "cell_type": "markdown",
   "id": "e0f08ecd",
   "metadata": {},
   "source": [
    "## Importación de archivos"
   ]
  },
  {
   "cell_type": "code",
   "execution_count": 180,
   "id": "cd2cc0db",
   "metadata": {},
   "outputs": [
    {
     "name": "stderr",
     "output_type": "stream",
     "text": [
      "/var/folders/by/zjps0pld1k3grf79nwzwkw440000gn/T/ipykernel_2736/2627998811.py:1: DtypeWarning: Columns (22,28) have mixed types. Specify dtype option on import or set low_memory=False.\n",
      "  df = pd.read_csv('iar_Reservaciones.csv')\n"
     ]
    }
   ],
   "source": [
    "df = pd.read_csv('iar_Reservaciones.csv')\n"
   ]
  },
  {
   "cell_type": "code",
   "execution_count": 113,
   "id": "ba788a6b",
   "metadata": {},
   "outputs": [
    {
     "data": {
      "application/vnd.microsoft.datawrangler.viewer.v0+json": {
       "columns": [
        {
         "name": "index",
         "rawType": "int64",
         "type": "integer"
        },
        {
         "name": "ID_Reserva",
         "rawType": "int64",
         "type": "integer"
        },
        {
         "name": "Fecha_hoy",
         "rawType": "object",
         "type": "string"
        },
        {
         "name": "h_res_fec",
         "rawType": "int64",
         "type": "integer"
        },
        {
         "name": "h_res_fec_ok",
         "rawType": "object",
         "type": "string"
        },
        {
         "name": "h_res_fec_okt",
         "rawType": "object",
         "type": "string"
        },
        {
         "name": "h_num_per",
         "rawType": "int64",
         "type": "integer"
        },
        {
         "name": "aa_h_num_per",
         "rawType": "int64",
         "type": "integer"
        },
        {
         "name": "h_num_adu",
         "rawType": "int64",
         "type": "integer"
        },
        {
         "name": "aa_h_num_adu",
         "rawType": "int64",
         "type": "integer"
        },
        {
         "name": "h_num_men",
         "rawType": "int64",
         "type": "integer"
        },
        {
         "name": "aa_h_num_men",
         "rawType": "int64",
         "type": "integer"
        },
        {
         "name": "h_num_noc",
         "rawType": "int64",
         "type": "integer"
        },
        {
         "name": "aa_h_num_noc",
         "rawType": "int64",
         "type": "integer"
        },
        {
         "name": "h_tot_hab",
         "rawType": "int64",
         "type": "integer"
        },
        {
         "name": "aa_h_tot_hab",
         "rawType": "int64",
         "type": "integer"
        },
        {
         "name": "ID_Programa",
         "rawType": "int64",
         "type": "integer"
        },
        {
         "name": "ID_Paquete",
         "rawType": "int64",
         "type": "integer"
        },
        {
         "name": "ID_Segmento_Comp",
         "rawType": "int64",
         "type": "integer"
        },
        {
         "name": "ID_Agencia",
         "rawType": "int64",
         "type": "integer"
        },
        {
         "name": "ID_empresa",
         "rawType": "int64",
         "type": "integer"
        },
        {
         "name": "ID_Tipo_Habitacion",
         "rawType": "int64",
         "type": "integer"
        },
        {
         "name": "ID_canal",
         "rawType": "int64",
         "type": "integer"
        },
        {
         "name": "h_fec_lld",
         "rawType": "object",
         "type": "unknown"
        },
        {
         "name": "h_fec_lld_ok",
         "rawType": "object",
         "type": "string"
        },
        {
         "name": "h_fec_lld_okt",
         "rawType": "object",
         "type": "string"
        },
        {
         "name": "h_fec_reg",
         "rawType": "object",
         "type": "string"
        },
        {
         "name": "h_fec_reg_ok",
         "rawType": "object",
         "type": "string"
        },
        {
         "name": "h_fec_reg_okt",
         "rawType": "object",
         "type": "string"
        },
        {
         "name": "h_fec_sda",
         "rawType": "object",
         "type": "unknown"
        },
        {
         "name": "h_fec_sda_ok",
         "rawType": "object",
         "type": "string"
        },
        {
         "name": "h_fec_sda_okt",
         "rawType": "object",
         "type": "string"
        },
        {
         "name": "ID_Pais_Origen",
         "rawType": "int64",
         "type": "integer"
        },
        {
         "name": "Cliente_Disp",
         "rawType": "int64",
         "type": "integer"
        },
        {
         "name": "aa_Cliente_Disp",
         "rawType": "int64",
         "type": "integer"
        },
        {
         "name": "Reservacion",
         "rawType": "int64",
         "type": "integer"
        },
        {
         "name": "aa_Reservacion",
         "rawType": "int64",
         "type": "integer"
        },
        {
         "name": "ID_estatus_reservaciones",
         "rawType": "int64",
         "type": "integer"
        },
        {
         "name": "h_can_res",
         "rawType": "object",
         "type": "string"
        },
        {
         "name": "h_cod_reserva",
         "rawType": "object",
         "type": "string"
        },
        {
         "name": "h_edo",
         "rawType": "object",
         "type": "string"
        },
        {
         "name": "h_codigop",
         "rawType": "object",
         "type": "string"
        },
        {
         "name": "h_correo_e",
         "rawType": "float64",
         "type": "float"
        },
        {
         "name": "h_nom",
         "rawType": "float64",
         "type": "float"
        },
        {
         "name": "h_tfa_total",
         "rawType": "float64",
         "type": "float"
        },
        {
         "name": "aa_h_tfa_total",
         "rawType": "float64",
         "type": "float"
        },
        {
         "name": "moneda_cve",
         "rawType": "int64",
         "type": "integer"
        },
        {
         "name": "h_ult_cam_fec",
         "rawType": "object",
         "type": "string"
        },
        {
         "name": "h_ult_cam_fec_ok",
         "rawType": "object",
         "type": "string"
        },
        {
         "name": "h_ult_cam_fec_okt",
         "rawType": "object",
         "type": "string"
        }
       ],
       "conversionMethod": "pd.DataFrame",
       "ref": "64d69a1c-7bf6-4ff8-b33e-6b56dcf7f8d0",
       "rows": [
        [
         "0",
         "0",
         "2019-08-16",
         "20190816",
         "2019-08-16 ",
         "2019-08-16",
         "2",
         "0",
         "2",
         "0",
         "0",
         "0",
         "3",
         "0",
         "1",
         "0",
         "1",
         "1",
         "14",
         "112",
         "1",
         "25",
         "10",
         "20191107",
         "2019-11-07 ",
         "2019-11-07",
         "20190816",
         "2019-08-16 ",
         "2019-08-16",
         "20191110",
         "2019-11-10 ",
         "2019-11-10",
         "157",
         "2",
         "0",
         "1",
         "0",
         "9",
         "09",
         "                ",
         "EMX   ",
         "01500               ",
         null,
         null,
         "2659.98",
         "0.0",
         "1",
         "20191110",
         "2019-11-10 ",
         "2019-11-10"
        ],
        [
         "1",
         "1",
         "2019-10-22",
         "20191022",
         "2019-10-22 ",
         "2019-10-22",
         "4",
         "0",
         "4",
         "0",
         "0",
         "0",
         "4",
         "0",
         "1",
         "0",
         "1",
         "2",
         "14",
         "112",
         "1",
         "25",
         "10",
         "20191201",
         "2019-12-01 ",
         "2019-12-01",
         "20191022",
         "2019-10-22 ",
         "2019-10-22",
         "20191205",
         "2019-12-05 ",
         "2019-12-05",
         "157",
         "4",
         "0",
         "1",
         "0",
         "9",
         "09",
         "                ",
         "EGT   ",
         "023541              ",
         null,
         null,
         "1764.0",
         "0.0",
         "1",
         "20191205",
         "2019-12-05 ",
         "2019-12-05"
        ],
        [
         "2",
         "2",
         "2019-10-28",
         "20191028",
         "2019-10-28 ",
         "2019-10-28",
         "2",
         "0",
         "2",
         "0",
         "0",
         "0",
         "4",
         "0",
         "1",
         "0",
         "1",
         "1",
         "14",
         "112",
         "1",
         "23",
         "10",
         "20191201",
         "2019-12-01 ",
         "2019-12-01",
         "20191028",
         "2019-10-28 ",
         "2019-10-28",
         "20191205",
         "2019-12-05 ",
         "2019-12-05",
         "157",
         "2",
         "0",
         "1",
         "0",
         "9",
         "09",
         "                ",
         "EMC   ",
         "59800               ",
         null,
         null,
         "2660.04",
         "0.0",
         "1",
         "20191205",
         "2019-12-05 ",
         "2019-12-05"
        ],
        [
         "3",
         "3",
         "2019-10-28",
         "20191028",
         "2019-10-28 ",
         "2019-10-28",
         "4",
         "0",
         "3",
         "0",
         "0",
         "0",
         "3",
         "0",
         "1",
         "0",
         "1",
         "2",
         "14",
         "112",
         "1",
         "24",
         "10",
         "20191208",
         "2019-12-08 ",
         "2019-12-08",
         "20191028",
         "2019-10-28 ",
         "2019-10-28",
         "20191211",
         "2019-12-11 ",
         "2019-12-11",
         "157",
         "3",
         "0",
         "1",
         "0",
         "9",
         "09",
         "                ",
         "EGT   ",
         "37219               ",
         null,
         null,
         "1995.03",
         "0.0",
         "1",
         "20191211",
         "2019-12-11 ",
         "2019-12-11"
        ],
        [
         "4",
         "4",
         "2019-10-28",
         "20191028",
         "2019-10-28 ",
         "2019-10-28",
         "2",
         "0",
         "2",
         "0",
         "0",
         "0",
         "4",
         "0",
         "1",
         "0",
         "1",
         "1",
         "5",
         "14",
         "1",
         "4",
         "13",
         "20191208",
         "2019-12-08 ",
         "2019-12-08",
         "20191208",
         "2019-12-08 ",
         "2019-12-08",
         "20191212",
         "2019-12-12 ",
         "2019-12-12",
         "157",
         "2",
         "0",
         "1",
         "0",
         "9",
         "12",
         "74101652-3_2394 ",
         "EMX   ",
         "15300               ",
         null,
         null,
         "13369.92",
         "0.0",
         "1",
         "20191212",
         "2019-12-12 ",
         "2019-12-12"
        ]
       ],
       "shape": {
        "columns": 49,
        "rows": 5
       }
      },
      "text/html": [
       "<div>\n",
       "<style scoped>\n",
       "    .dataframe tbody tr th:only-of-type {\n",
       "        vertical-align: middle;\n",
       "    }\n",
       "\n",
       "    .dataframe tbody tr th {\n",
       "        vertical-align: top;\n",
       "    }\n",
       "\n",
       "    .dataframe thead th {\n",
       "        text-align: right;\n",
       "    }\n",
       "</style>\n",
       "<table border=\"1\" class=\"dataframe\">\n",
       "  <thead>\n",
       "    <tr style=\"text-align: right;\">\n",
       "      <th></th>\n",
       "      <th>ID_Reserva</th>\n",
       "      <th>Fecha_hoy</th>\n",
       "      <th>h_res_fec</th>\n",
       "      <th>h_res_fec_ok</th>\n",
       "      <th>h_res_fec_okt</th>\n",
       "      <th>h_num_per</th>\n",
       "      <th>aa_h_num_per</th>\n",
       "      <th>h_num_adu</th>\n",
       "      <th>aa_h_num_adu</th>\n",
       "      <th>h_num_men</th>\n",
       "      <th>...</th>\n",
       "      <th>h_edo</th>\n",
       "      <th>h_codigop</th>\n",
       "      <th>h_correo_e</th>\n",
       "      <th>h_nom</th>\n",
       "      <th>h_tfa_total</th>\n",
       "      <th>aa_h_tfa_total</th>\n",
       "      <th>moneda_cve</th>\n",
       "      <th>h_ult_cam_fec</th>\n",
       "      <th>h_ult_cam_fec_ok</th>\n",
       "      <th>h_ult_cam_fec_okt</th>\n",
       "    </tr>\n",
       "  </thead>\n",
       "  <tbody>\n",
       "    <tr>\n",
       "      <th>0</th>\n",
       "      <td>0</td>\n",
       "      <td>2019-08-16</td>\n",
       "      <td>20190816</td>\n",
       "      <td>2019-08-16</td>\n",
       "      <td>2019-08-16</td>\n",
       "      <td>2</td>\n",
       "      <td>0</td>\n",
       "      <td>2</td>\n",
       "      <td>0</td>\n",
       "      <td>0</td>\n",
       "      <td>...</td>\n",
       "      <td>EMX</td>\n",
       "      <td>01500</td>\n",
       "      <td>NaN</td>\n",
       "      <td>NaN</td>\n",
       "      <td>2659.98</td>\n",
       "      <td>0.0</td>\n",
       "      <td>1</td>\n",
       "      <td>20191110</td>\n",
       "      <td>2019-11-10</td>\n",
       "      <td>2019-11-10</td>\n",
       "    </tr>\n",
       "    <tr>\n",
       "      <th>1</th>\n",
       "      <td>1</td>\n",
       "      <td>2019-10-22</td>\n",
       "      <td>20191022</td>\n",
       "      <td>2019-10-22</td>\n",
       "      <td>2019-10-22</td>\n",
       "      <td>4</td>\n",
       "      <td>0</td>\n",
       "      <td>4</td>\n",
       "      <td>0</td>\n",
       "      <td>0</td>\n",
       "      <td>...</td>\n",
       "      <td>EGT</td>\n",
       "      <td>023541</td>\n",
       "      <td>NaN</td>\n",
       "      <td>NaN</td>\n",
       "      <td>1764.00</td>\n",
       "      <td>0.0</td>\n",
       "      <td>1</td>\n",
       "      <td>20191205</td>\n",
       "      <td>2019-12-05</td>\n",
       "      <td>2019-12-05</td>\n",
       "    </tr>\n",
       "    <tr>\n",
       "      <th>2</th>\n",
       "      <td>2</td>\n",
       "      <td>2019-10-28</td>\n",
       "      <td>20191028</td>\n",
       "      <td>2019-10-28</td>\n",
       "      <td>2019-10-28</td>\n",
       "      <td>2</td>\n",
       "      <td>0</td>\n",
       "      <td>2</td>\n",
       "      <td>0</td>\n",
       "      <td>0</td>\n",
       "      <td>...</td>\n",
       "      <td>EMC</td>\n",
       "      <td>59800</td>\n",
       "      <td>NaN</td>\n",
       "      <td>NaN</td>\n",
       "      <td>2660.04</td>\n",
       "      <td>0.0</td>\n",
       "      <td>1</td>\n",
       "      <td>20191205</td>\n",
       "      <td>2019-12-05</td>\n",
       "      <td>2019-12-05</td>\n",
       "    </tr>\n",
       "    <tr>\n",
       "      <th>3</th>\n",
       "      <td>3</td>\n",
       "      <td>2019-10-28</td>\n",
       "      <td>20191028</td>\n",
       "      <td>2019-10-28</td>\n",
       "      <td>2019-10-28</td>\n",
       "      <td>4</td>\n",
       "      <td>0</td>\n",
       "      <td>3</td>\n",
       "      <td>0</td>\n",
       "      <td>0</td>\n",
       "      <td>...</td>\n",
       "      <td>EGT</td>\n",
       "      <td>37219</td>\n",
       "      <td>NaN</td>\n",
       "      <td>NaN</td>\n",
       "      <td>1995.03</td>\n",
       "      <td>0.0</td>\n",
       "      <td>1</td>\n",
       "      <td>20191211</td>\n",
       "      <td>2019-12-11</td>\n",
       "      <td>2019-12-11</td>\n",
       "    </tr>\n",
       "    <tr>\n",
       "      <th>4</th>\n",
       "      <td>4</td>\n",
       "      <td>2019-10-28</td>\n",
       "      <td>20191028</td>\n",
       "      <td>2019-10-28</td>\n",
       "      <td>2019-10-28</td>\n",
       "      <td>2</td>\n",
       "      <td>0</td>\n",
       "      <td>2</td>\n",
       "      <td>0</td>\n",
       "      <td>0</td>\n",
       "      <td>...</td>\n",
       "      <td>EMX</td>\n",
       "      <td>15300</td>\n",
       "      <td>NaN</td>\n",
       "      <td>NaN</td>\n",
       "      <td>13369.92</td>\n",
       "      <td>0.0</td>\n",
       "      <td>1</td>\n",
       "      <td>20191212</td>\n",
       "      <td>2019-12-12</td>\n",
       "      <td>2019-12-12</td>\n",
       "    </tr>\n",
       "  </tbody>\n",
       "</table>\n",
       "<p>5 rows × 49 columns</p>\n",
       "</div>"
      ],
      "text/plain": [
       "   ID_Reserva   Fecha_hoy  h_res_fec h_res_fec_ok h_res_fec_okt  h_num_per  \\\n",
       "0           0  2019-08-16   20190816  2019-08-16     2019-08-16          2   \n",
       "1           1  2019-10-22   20191022  2019-10-22     2019-10-22          4   \n",
       "2           2  2019-10-28   20191028  2019-10-28     2019-10-28          2   \n",
       "3           3  2019-10-28   20191028  2019-10-28     2019-10-28          4   \n",
       "4           4  2019-10-28   20191028  2019-10-28     2019-10-28          2   \n",
       "\n",
       "   aa_h_num_per  h_num_adu  aa_h_num_adu  h_num_men  ...   h_edo  \\\n",
       "0             0          2             0          0  ...  EMX      \n",
       "1             0          4             0          0  ...  EGT      \n",
       "2             0          2             0          0  ...  EMC      \n",
       "3             0          3             0          0  ...  EGT      \n",
       "4             0          2             0          0  ...  EMX      \n",
       "\n",
       "              h_codigop  h_correo_e  h_nom  h_tfa_total  aa_h_tfa_total  \\\n",
       "0  01500                        NaN    NaN      2659.98             0.0   \n",
       "1  023541                       NaN    NaN      1764.00             0.0   \n",
       "2  59800                        NaN    NaN      2660.04             0.0   \n",
       "3  37219                        NaN    NaN      1995.03             0.0   \n",
       "4  15300                        NaN    NaN     13369.92             0.0   \n",
       "\n",
       "   moneda_cve  h_ult_cam_fec  h_ult_cam_fec_ok  h_ult_cam_fec_okt  \n",
       "0           1       20191110       2019-11-10          2019-11-10  \n",
       "1           1       20191205       2019-12-05          2019-12-05  \n",
       "2           1       20191205       2019-12-05          2019-12-05  \n",
       "3           1       20191211       2019-12-11          2019-12-11  \n",
       "4           1       20191212       2019-12-12          2019-12-12  \n",
       "\n",
       "[5 rows x 49 columns]"
      ]
     },
     "execution_count": 113,
     "metadata": {},
     "output_type": "execute_result"
    }
   ],
   "source": [
    "df.head()"
   ]
  },
  {
   "cell_type": "code",
   "execution_count": 66,
   "id": "87772af3",
   "metadata": {},
   "outputs": [
    {
     "name": "stdout",
     "output_type": "stream",
     "text": [
      "<class 'pandas.core.frame.DataFrame'>\n",
      "RangeIndex: 203002 entries, 0 to 203001\n",
      "Data columns (total 49 columns):\n",
      " #   Column                    Non-Null Count   Dtype  \n",
      "---  ------                    --------------   -----  \n",
      " 0   ID_Reserva                203002 non-null  int64  \n",
      " 1   Fecha_hoy                 203002 non-null  object \n",
      " 2   h_res_fec                 203002 non-null  int64  \n",
      " 3   h_res_fec_ok              203002 non-null  object \n",
      " 4   h_res_fec_okt             203002 non-null  object \n",
      " 5   h_num_per                 203002 non-null  int64  \n",
      " 6   aa_h_num_per              203002 non-null  int64  \n",
      " 7   h_num_adu                 203002 non-null  int64  \n",
      " 8   aa_h_num_adu              203002 non-null  int64  \n",
      " 9   h_num_men                 203002 non-null  int64  \n",
      " 10  aa_h_num_men              203002 non-null  int64  \n",
      " 11  h_num_noc                 203002 non-null  int64  \n",
      " 12  aa_h_num_noc              203002 non-null  int64  \n",
      " 13  h_tot_hab                 203002 non-null  int64  \n",
      " 14  aa_h_tot_hab              203002 non-null  int64  \n",
      " 15  ID_Programa               203002 non-null  int64  \n",
      " 16  ID_Paquete                203002 non-null  int64  \n",
      " 17  ID_Segmento_Comp          203002 non-null  int64  \n",
      " 18  ID_Agencia                203002 non-null  int64  \n",
      " 19  ID_empresa                203002 non-null  int64  \n",
      " 20  ID_Tipo_Habitacion        203002 non-null  int64  \n",
      " 21  ID_canal                  203002 non-null  int64  \n",
      " 22  h_fec_lld                 203002 non-null  object \n",
      " 23  h_fec_lld_ok              203002 non-null  object \n",
      " 24  h_fec_lld_okt             203002 non-null  object \n",
      " 25  h_fec_reg                 203002 non-null  object \n",
      " 26  h_fec_reg_ok              203002 non-null  object \n",
      " 27  h_fec_reg_okt             203002 non-null  object \n",
      " 28  h_fec_sda                 203002 non-null  object \n",
      " 29  h_fec_sda_ok              203002 non-null  object \n",
      " 30  h_fec_sda_okt             203002 non-null  object \n",
      " 31  ID_Pais_Origen            203002 non-null  int64  \n",
      " 32  Cliente_Disp              203002 non-null  int64  \n",
      " 33  aa_Cliente_Disp           203002 non-null  int64  \n",
      " 34  Reservacion               203002 non-null  int64  \n",
      " 35  aa_Reservacion            203002 non-null  int64  \n",
      " 36  ID_estatus_reservaciones  203002 non-null  int64  \n",
      " 37  h_can_res                 203002 non-null  object \n",
      " 38  h_cod_reserva             203002 non-null  object \n",
      " 39  h_edo                     203002 non-null  object \n",
      " 40  h_codigop                 203002 non-null  object \n",
      " 41  h_correo_e                0 non-null       float64\n",
      " 42  h_nom                     0 non-null       float64\n",
      " 43  h_tfa_total               203002 non-null  float64\n",
      " 44  aa_h_tfa_total            203002 non-null  float64\n",
      " 45  moneda_cve                203002 non-null  int64  \n",
      " 46  h_ult_cam_fec             203002 non-null  object \n",
      " 47  h_ult_cam_fec_ok          203002 non-null  object \n",
      " 48  h_ult_cam_fec_okt         203002 non-null  object \n",
      "dtypes: float64(4), int64(26), object(19)\n",
      "memory usage: 75.9+ MB\n"
     ]
    }
   ],
   "source": [
    "df.info()"
   ]
  },
  {
   "cell_type": "code",
   "execution_count": 67,
   "id": "a60ce2de",
   "metadata": {},
   "outputs": [
    {
     "data": {
      "application/vnd.microsoft.datawrangler.viewer.v0+json": {
       "columns": [
        {
         "name": "index",
         "rawType": "object",
         "type": "string"
        },
        {
         "name": "ID_Reserva",
         "rawType": "float64",
         "type": "float"
        },
        {
         "name": "h_res_fec",
         "rawType": "float64",
         "type": "float"
        },
        {
         "name": "h_num_per",
         "rawType": "float64",
         "type": "float"
        },
        {
         "name": "aa_h_num_per",
         "rawType": "float64",
         "type": "float"
        },
        {
         "name": "h_num_adu",
         "rawType": "float64",
         "type": "float"
        },
        {
         "name": "aa_h_num_adu",
         "rawType": "float64",
         "type": "float"
        },
        {
         "name": "h_num_men",
         "rawType": "float64",
         "type": "float"
        },
        {
         "name": "aa_h_num_men",
         "rawType": "float64",
         "type": "float"
        },
        {
         "name": "h_num_noc",
         "rawType": "float64",
         "type": "float"
        },
        {
         "name": "aa_h_num_noc",
         "rawType": "float64",
         "type": "float"
        },
        {
         "name": "h_tot_hab",
         "rawType": "float64",
         "type": "float"
        },
        {
         "name": "aa_h_tot_hab",
         "rawType": "float64",
         "type": "float"
        },
        {
         "name": "ID_Programa",
         "rawType": "float64",
         "type": "float"
        },
        {
         "name": "ID_Paquete",
         "rawType": "float64",
         "type": "float"
        },
        {
         "name": "ID_Segmento_Comp",
         "rawType": "float64",
         "type": "float"
        },
        {
         "name": "ID_Agencia",
         "rawType": "float64",
         "type": "float"
        },
        {
         "name": "ID_empresa",
         "rawType": "float64",
         "type": "float"
        },
        {
         "name": "ID_Tipo_Habitacion",
         "rawType": "float64",
         "type": "float"
        },
        {
         "name": "ID_canal",
         "rawType": "float64",
         "type": "float"
        },
        {
         "name": "ID_Pais_Origen",
         "rawType": "float64",
         "type": "float"
        },
        {
         "name": "Cliente_Disp",
         "rawType": "float64",
         "type": "float"
        },
        {
         "name": "aa_Cliente_Disp",
         "rawType": "float64",
         "type": "float"
        },
        {
         "name": "Reservacion",
         "rawType": "float64",
         "type": "float"
        },
        {
         "name": "aa_Reservacion",
         "rawType": "float64",
         "type": "float"
        },
        {
         "name": "ID_estatus_reservaciones",
         "rawType": "float64",
         "type": "float"
        },
        {
         "name": "h_correo_e",
         "rawType": "float64",
         "type": "float"
        },
        {
         "name": "h_nom",
         "rawType": "float64",
         "type": "float"
        },
        {
         "name": "h_tfa_total",
         "rawType": "float64",
         "type": "float"
        },
        {
         "name": "aa_h_tfa_total",
         "rawType": "float64",
         "type": "float"
        },
        {
         "name": "moneda_cve",
         "rawType": "float64",
         "type": "float"
        }
       ],
       "conversionMethod": "pd.DataFrame",
       "ref": "b4d3abef-1e05-4463-93a5-424857d4595c",
       "rows": [
        [
         "count",
         "203002.0",
         "203002.0",
         "203002.0",
         "203002.0",
         "203002.0",
         "203002.0",
         "203002.0",
         "203002.0",
         "203002.0",
         "203002.0",
         "203002.0",
         "203002.0",
         "203002.0",
         "203002.0",
         "203002.0",
         "203002.0",
         "203002.0",
         "203002.0",
         "203002.0",
         "203002.0",
         "203002.0",
         "203002.0",
         "203002.0",
         "203002.0",
         "203002.0",
         "0.0",
         "0.0",
         "203002.0",
         "203002.0",
         "203002.0"
        ],
        [
         "mean",
         "101500.5",
         "20192914.104772367",
         "1.1858651638900108",
         "1.1705500438419325",
         "1.0947084265179654",
         "1.0796937961202353",
         "0.03410803834444981",
         "0.033733657796474914",
         "1.6800277829775077",
         "1.6560427976079053",
         "0.5055812258007311",
         "0.4985862208254106",
         "0.9975763785578468",
         "1.4171387474015034",
         "13.205057093033567",
         "72.99205919153506",
         "1.0",
         "13.722382045497088",
         "3.5160293987251356",
         "156.59727490369553",
         "1.0947084265179654",
         "1.0796937961202353",
         "0.5034383897695589",
         "0.4965616102304411",
         "6.733406567422981",
         null,
         null,
         "4106.728347553221",
         "4039.3690505019613",
         "1.0"
        ],
        [
         "std",
         "58601.774010405745",
         "4109.582783788104",
         "1.3696287757422791",
         "1.3680725083046217",
         "1.2070761783292625",
         "1.2046937400383075",
         "0.26518666739526925",
         "0.264043232321684",
         "2.866188995452832",
         "2.847957890314579",
         "0.5087506073826867",
         "0.5084887087431351",
         "0.04917071701008597",
         "0.5038591805968785",
         "4.869281098499682",
         "37.25486097649649",
         "0.0",
         "7.646869609793183",
         "2.984189400668944",
         "10.558055813512826",
         "1.2070761783292625",
         "1.2046937400383075",
         "0.4999894088264081",
         "0.4999894088264081",
         "3.19377398467282",
         null,
         null,
         "6501.707209421637",
         "6443.026731646924",
         "0.0"
        ],
        [
         "min",
         "0.0",
         "20190102.0",
         "0.0",
         "0.0",
         "0.0",
         "0.0",
         "0.0",
         "0.0",
         "0.0",
         "0.0",
         "0.0",
         "0.0",
         "0.0",
         "0.0",
         "0.0",
         "1.0",
         "1.0",
         "0.0",
         "0.0",
         "0.0",
         "0.0",
         "0.0",
         "0.0",
         "0.0",
         "1.0",
         null,
         null,
         "-30910.0",
         "-30910.0",
         "1.0"
        ],
        [
         "25%",
         "50750.25",
         "20190410.0",
         "0.0",
         "0.0",
         "0.0",
         "0.0",
         "0.0",
         "0.0",
         "0.0",
         "0.0",
         "0.0",
         "0.0",
         "1.0",
         "1.0",
         "11.0",
         "33.0",
         "1.0",
         "4.0",
         "1.0",
         "157.0",
         "0.0",
         "0.0",
         "0.0",
         "0.0",
         "3.0",
         null,
         null,
         "0.0",
         "0.0",
         "1.0"
        ],
        [
         "50%",
         "101500.5",
         "20190719.0",
         "1.0",
         "0.0",
         "1.0",
         "0.0",
         "0.0",
         "0.0",
         "1.0",
         "0.0",
         "1.0",
         "0.0",
         "1.0",
         "1.0",
         "16.0",
         "89.0",
         "1.0",
         "17.0",
         "4.0",
         "157.0",
         "1.0",
         "0.0",
         "1.0",
         "0.0",
         "9.0",
         null,
         null,
         "0.0",
         "0.0",
         "1.0"
        ],
        [
         "75%",
         "152250.75",
         "20191227.0",
         "2.0",
         "2.0",
         "2.0",
         "2.0",
         "0.0",
         "0.0",
         "3.0",
         "3.0",
         "1.0",
         "1.0",
         "1.0",
         "2.0",
         "17.0",
         "99.0",
         "1.0",
         "19.0",
         "4.0",
         "157.0",
         "2.0",
         "2.0",
         "1.0",
         "1.0",
         "9.0",
         null,
         null,
         "7592.0",
         "7494.0",
         "1.0"
        ],
        [
         "max",
         "203001.0",
         "20200430.0",
         "32.0",
         "32.0",
         "15.0",
         "15.0",
         "15.0",
         "15.0",
         "687.0",
         "687.0",
         "6.0",
         "6.0",
         "1.0",
         "5.0",
         "19.0",
         "132.0",
         "1.0",
         "27.0",
         "13.0",
         "232.0",
         "15.0",
         "15.0",
         "1.0",
         "1.0",
         "9.0",
         null,
         null,
         "1033056.0",
         "1033056.0",
         "1.0"
        ]
       ],
       "shape": {
        "columns": 30,
        "rows": 8
       }
      },
      "text/html": [
       "<div>\n",
       "<style scoped>\n",
       "    .dataframe tbody tr th:only-of-type {\n",
       "        vertical-align: middle;\n",
       "    }\n",
       "\n",
       "    .dataframe tbody tr th {\n",
       "        vertical-align: top;\n",
       "    }\n",
       "\n",
       "    .dataframe thead th {\n",
       "        text-align: right;\n",
       "    }\n",
       "</style>\n",
       "<table border=\"1\" class=\"dataframe\">\n",
       "  <thead>\n",
       "    <tr style=\"text-align: right;\">\n",
       "      <th></th>\n",
       "      <th>ID_Reserva</th>\n",
       "      <th>h_res_fec</th>\n",
       "      <th>h_num_per</th>\n",
       "      <th>aa_h_num_per</th>\n",
       "      <th>h_num_adu</th>\n",
       "      <th>aa_h_num_adu</th>\n",
       "      <th>h_num_men</th>\n",
       "      <th>aa_h_num_men</th>\n",
       "      <th>h_num_noc</th>\n",
       "      <th>aa_h_num_noc</th>\n",
       "      <th>...</th>\n",
       "      <th>Cliente_Disp</th>\n",
       "      <th>aa_Cliente_Disp</th>\n",
       "      <th>Reservacion</th>\n",
       "      <th>aa_Reservacion</th>\n",
       "      <th>ID_estatus_reservaciones</th>\n",
       "      <th>h_correo_e</th>\n",
       "      <th>h_nom</th>\n",
       "      <th>h_tfa_total</th>\n",
       "      <th>aa_h_tfa_total</th>\n",
       "      <th>moneda_cve</th>\n",
       "    </tr>\n",
       "  </thead>\n",
       "  <tbody>\n",
       "    <tr>\n",
       "      <th>count</th>\n",
       "      <td>203002.00000</td>\n",
       "      <td>2.030020e+05</td>\n",
       "      <td>203002.000000</td>\n",
       "      <td>203002.000000</td>\n",
       "      <td>203002.000000</td>\n",
       "      <td>203002.000000</td>\n",
       "      <td>203002.000000</td>\n",
       "      <td>203002.000000</td>\n",
       "      <td>203002.000000</td>\n",
       "      <td>203002.000000</td>\n",
       "      <td>...</td>\n",
       "      <td>203002.000000</td>\n",
       "      <td>203002.000000</td>\n",
       "      <td>203002.000000</td>\n",
       "      <td>203002.000000</td>\n",
       "      <td>203002.000000</td>\n",
       "      <td>0.0</td>\n",
       "      <td>0.0</td>\n",
       "      <td>2.030020e+05</td>\n",
       "      <td>2.030020e+05</td>\n",
       "      <td>203002.0</td>\n",
       "    </tr>\n",
       "    <tr>\n",
       "      <th>mean</th>\n",
       "      <td>101500.50000</td>\n",
       "      <td>2.019291e+07</td>\n",
       "      <td>1.185865</td>\n",
       "      <td>1.170550</td>\n",
       "      <td>1.094708</td>\n",
       "      <td>1.079694</td>\n",
       "      <td>0.034108</td>\n",
       "      <td>0.033734</td>\n",
       "      <td>1.680028</td>\n",
       "      <td>1.656043</td>\n",
       "      <td>...</td>\n",
       "      <td>1.094708</td>\n",
       "      <td>1.079694</td>\n",
       "      <td>0.503438</td>\n",
       "      <td>0.496562</td>\n",
       "      <td>6.733407</td>\n",
       "      <td>NaN</td>\n",
       "      <td>NaN</td>\n",
       "      <td>4.106728e+03</td>\n",
       "      <td>4.039369e+03</td>\n",
       "      <td>1.0</td>\n",
       "    </tr>\n",
       "    <tr>\n",
       "      <th>std</th>\n",
       "      <td>58601.77401</td>\n",
       "      <td>4.109583e+03</td>\n",
       "      <td>1.369629</td>\n",
       "      <td>1.368073</td>\n",
       "      <td>1.207076</td>\n",
       "      <td>1.204694</td>\n",
       "      <td>0.265187</td>\n",
       "      <td>0.264043</td>\n",
       "      <td>2.866189</td>\n",
       "      <td>2.847958</td>\n",
       "      <td>...</td>\n",
       "      <td>1.207076</td>\n",
       "      <td>1.204694</td>\n",
       "      <td>0.499989</td>\n",
       "      <td>0.499989</td>\n",
       "      <td>3.193774</td>\n",
       "      <td>NaN</td>\n",
       "      <td>NaN</td>\n",
       "      <td>6.501707e+03</td>\n",
       "      <td>6.443027e+03</td>\n",
       "      <td>0.0</td>\n",
       "    </tr>\n",
       "    <tr>\n",
       "      <th>min</th>\n",
       "      <td>0.00000</td>\n",
       "      <td>2.019010e+07</td>\n",
       "      <td>0.000000</td>\n",
       "      <td>0.000000</td>\n",
       "      <td>0.000000</td>\n",
       "      <td>0.000000</td>\n",
       "      <td>0.000000</td>\n",
       "      <td>0.000000</td>\n",
       "      <td>0.000000</td>\n",
       "      <td>0.000000</td>\n",
       "      <td>...</td>\n",
       "      <td>0.000000</td>\n",
       "      <td>0.000000</td>\n",
       "      <td>0.000000</td>\n",
       "      <td>0.000000</td>\n",
       "      <td>1.000000</td>\n",
       "      <td>NaN</td>\n",
       "      <td>NaN</td>\n",
       "      <td>-3.091000e+04</td>\n",
       "      <td>-3.091000e+04</td>\n",
       "      <td>1.0</td>\n",
       "    </tr>\n",
       "    <tr>\n",
       "      <th>25%</th>\n",
       "      <td>50750.25000</td>\n",
       "      <td>2.019041e+07</td>\n",
       "      <td>0.000000</td>\n",
       "      <td>0.000000</td>\n",
       "      <td>0.000000</td>\n",
       "      <td>0.000000</td>\n",
       "      <td>0.000000</td>\n",
       "      <td>0.000000</td>\n",
       "      <td>0.000000</td>\n",
       "      <td>0.000000</td>\n",
       "      <td>...</td>\n",
       "      <td>0.000000</td>\n",
       "      <td>0.000000</td>\n",
       "      <td>0.000000</td>\n",
       "      <td>0.000000</td>\n",
       "      <td>3.000000</td>\n",
       "      <td>NaN</td>\n",
       "      <td>NaN</td>\n",
       "      <td>0.000000e+00</td>\n",
       "      <td>0.000000e+00</td>\n",
       "      <td>1.0</td>\n",
       "    </tr>\n",
       "    <tr>\n",
       "      <th>50%</th>\n",
       "      <td>101500.50000</td>\n",
       "      <td>2.019072e+07</td>\n",
       "      <td>1.000000</td>\n",
       "      <td>0.000000</td>\n",
       "      <td>1.000000</td>\n",
       "      <td>0.000000</td>\n",
       "      <td>0.000000</td>\n",
       "      <td>0.000000</td>\n",
       "      <td>1.000000</td>\n",
       "      <td>0.000000</td>\n",
       "      <td>...</td>\n",
       "      <td>1.000000</td>\n",
       "      <td>0.000000</td>\n",
       "      <td>1.000000</td>\n",
       "      <td>0.000000</td>\n",
       "      <td>9.000000</td>\n",
       "      <td>NaN</td>\n",
       "      <td>NaN</td>\n",
       "      <td>0.000000e+00</td>\n",
       "      <td>0.000000e+00</td>\n",
       "      <td>1.0</td>\n",
       "    </tr>\n",
       "    <tr>\n",
       "      <th>75%</th>\n",
       "      <td>152250.75000</td>\n",
       "      <td>2.019123e+07</td>\n",
       "      <td>2.000000</td>\n",
       "      <td>2.000000</td>\n",
       "      <td>2.000000</td>\n",
       "      <td>2.000000</td>\n",
       "      <td>0.000000</td>\n",
       "      <td>0.000000</td>\n",
       "      <td>3.000000</td>\n",
       "      <td>3.000000</td>\n",
       "      <td>...</td>\n",
       "      <td>2.000000</td>\n",
       "      <td>2.000000</td>\n",
       "      <td>1.000000</td>\n",
       "      <td>1.000000</td>\n",
       "      <td>9.000000</td>\n",
       "      <td>NaN</td>\n",
       "      <td>NaN</td>\n",
       "      <td>7.592000e+03</td>\n",
       "      <td>7.494000e+03</td>\n",
       "      <td>1.0</td>\n",
       "    </tr>\n",
       "    <tr>\n",
       "      <th>max</th>\n",
       "      <td>203001.00000</td>\n",
       "      <td>2.020043e+07</td>\n",
       "      <td>32.000000</td>\n",
       "      <td>32.000000</td>\n",
       "      <td>15.000000</td>\n",
       "      <td>15.000000</td>\n",
       "      <td>15.000000</td>\n",
       "      <td>15.000000</td>\n",
       "      <td>687.000000</td>\n",
       "      <td>687.000000</td>\n",
       "      <td>...</td>\n",
       "      <td>15.000000</td>\n",
       "      <td>15.000000</td>\n",
       "      <td>1.000000</td>\n",
       "      <td>1.000000</td>\n",
       "      <td>9.000000</td>\n",
       "      <td>NaN</td>\n",
       "      <td>NaN</td>\n",
       "      <td>1.033056e+06</td>\n",
       "      <td>1.033056e+06</td>\n",
       "      <td>1.0</td>\n",
       "    </tr>\n",
       "  </tbody>\n",
       "</table>\n",
       "<p>8 rows × 30 columns</p>\n",
       "</div>"
      ],
      "text/plain": [
       "         ID_Reserva     h_res_fec      h_num_per   aa_h_num_per  \\\n",
       "count  203002.00000  2.030020e+05  203002.000000  203002.000000   \n",
       "mean   101500.50000  2.019291e+07       1.185865       1.170550   \n",
       "std     58601.77401  4.109583e+03       1.369629       1.368073   \n",
       "min         0.00000  2.019010e+07       0.000000       0.000000   \n",
       "25%     50750.25000  2.019041e+07       0.000000       0.000000   \n",
       "50%    101500.50000  2.019072e+07       1.000000       0.000000   \n",
       "75%    152250.75000  2.019123e+07       2.000000       2.000000   \n",
       "max    203001.00000  2.020043e+07      32.000000      32.000000   \n",
       "\n",
       "           h_num_adu   aa_h_num_adu      h_num_men   aa_h_num_men  \\\n",
       "count  203002.000000  203002.000000  203002.000000  203002.000000   \n",
       "mean        1.094708       1.079694       0.034108       0.033734   \n",
       "std         1.207076       1.204694       0.265187       0.264043   \n",
       "min         0.000000       0.000000       0.000000       0.000000   \n",
       "25%         0.000000       0.000000       0.000000       0.000000   \n",
       "50%         1.000000       0.000000       0.000000       0.000000   \n",
       "75%         2.000000       2.000000       0.000000       0.000000   \n",
       "max        15.000000      15.000000      15.000000      15.000000   \n",
       "\n",
       "           h_num_noc   aa_h_num_noc  ...   Cliente_Disp  aa_Cliente_Disp  \\\n",
       "count  203002.000000  203002.000000  ...  203002.000000    203002.000000   \n",
       "mean        1.680028       1.656043  ...       1.094708         1.079694   \n",
       "std         2.866189       2.847958  ...       1.207076         1.204694   \n",
       "min         0.000000       0.000000  ...       0.000000         0.000000   \n",
       "25%         0.000000       0.000000  ...       0.000000         0.000000   \n",
       "50%         1.000000       0.000000  ...       1.000000         0.000000   \n",
       "75%         3.000000       3.000000  ...       2.000000         2.000000   \n",
       "max       687.000000     687.000000  ...      15.000000        15.000000   \n",
       "\n",
       "         Reservacion  aa_Reservacion  ID_estatus_reservaciones  h_correo_e  \\\n",
       "count  203002.000000   203002.000000             203002.000000         0.0   \n",
       "mean        0.503438        0.496562                  6.733407         NaN   \n",
       "std         0.499989        0.499989                  3.193774         NaN   \n",
       "min         0.000000        0.000000                  1.000000         NaN   \n",
       "25%         0.000000        0.000000                  3.000000         NaN   \n",
       "50%         1.000000        0.000000                  9.000000         NaN   \n",
       "75%         1.000000        1.000000                  9.000000         NaN   \n",
       "max         1.000000        1.000000                  9.000000         NaN   \n",
       "\n",
       "       h_nom   h_tfa_total  aa_h_tfa_total  moneda_cve  \n",
       "count    0.0  2.030020e+05    2.030020e+05    203002.0  \n",
       "mean     NaN  4.106728e+03    4.039369e+03         1.0  \n",
       "std      NaN  6.501707e+03    6.443027e+03         0.0  \n",
       "min      NaN -3.091000e+04   -3.091000e+04         1.0  \n",
       "25%      NaN  0.000000e+00    0.000000e+00         1.0  \n",
       "50%      NaN  0.000000e+00    0.000000e+00         1.0  \n",
       "75%      NaN  7.592000e+03    7.494000e+03         1.0  \n",
       "max      NaN  1.033056e+06    1.033056e+06         1.0  \n",
       "\n",
       "[8 rows x 30 columns]"
      ]
     },
     "execution_count": 67,
     "metadata": {},
     "output_type": "execute_result"
    }
   ],
   "source": [
    "df.describe()"
   ]
  },
  {
   "cell_type": "code",
   "execution_count": 68,
   "id": "56401de6",
   "metadata": {},
   "outputs": [
    {
     "data": {
      "text/plain": [
       "(203002, 49)"
      ]
     },
     "execution_count": 68,
     "metadata": {},
     "output_type": "execute_result"
    }
   ],
   "source": [
    "df.shape"
   ]
  },
  {
   "cell_type": "markdown",
   "id": "7311b060",
   "metadata": {},
   "source": [
    "## Pandas Data Profiling\n",
    "Aplicamos esta herramienta de Pandas antes de realizar el análisis"
   ]
  },
  {
   "cell_type": "code",
   "execution_count": 32,
   "id": "852d1b12",
   "metadata": {},
   "outputs": [
    {
     "name": "stderr",
     "output_type": "stream",
     "text": [
      "100%|██████████| 49/49 [00:06<00:00,  7.59it/s]7<00:01,  4.74it/s, Describe variable: h_ult_cam_fec_okt]       \n",
      "Summarize dataset: 100%|██████████| 542/542 [00:48<00:00, 11.19it/s, Completed]                                                 \n",
      "Generate report structure: 100%|██████████| 1/1 [00:06<00:00,  6.78s/it]\n",
      "Render HTML: 100%|██████████| 1/1 [00:06<00:00,  6.78s/it]\n",
      "Export report to file: 100%|██████████| 1/1 [00:00<00:00, 21.21it/s]\n"
     ]
    }
   ],
   "source": [
    "profile_report = ProfileReport(df, title=\"Profiling Report\")\n",
    "profile_report.to_file(\"Profile_report.html\")"
   ]
  },
  {
   "cell_type": "markdown",
   "id": "0db6c48f",
   "metadata": {},
   "source": [
    "## Identificación de Variables"
   ]
  },
  {
   "cell_type": "markdown",
   "id": "d1429a9e",
   "metadata": {},
   "source": [
    "## Validadción de Datos :Tipos de Datos"
   ]
  },
  {
   "cell_type": "code",
   "execution_count": 181,
   "id": "bcc9d276",
   "metadata": {},
   "outputs": [
    {
     "data": {
      "text/plain": [
       "ID_Reserva                    int64\n",
       "Fecha_hoy                    object\n",
       "h_res_fec                     int64\n",
       "h_res_fec_ok                 object\n",
       "h_res_fec_okt                object\n",
       "h_num_per                     int64\n",
       "aa_h_num_per                  int64\n",
       "h_num_adu                     int64\n",
       "aa_h_num_adu                  int64\n",
       "h_num_men                     int64\n",
       "aa_h_num_men                  int64\n",
       "h_num_noc                     int64\n",
       "aa_h_num_noc                  int64\n",
       "h_tot_hab                     int64\n",
       "aa_h_tot_hab                  int64\n",
       "ID_Programa                   int64\n",
       "ID_Paquete                    int64\n",
       "ID_Segmento_Comp              int64\n",
       "ID_Agencia                    int64\n",
       "ID_empresa                    int64\n",
       "ID_Tipo_Habitacion            int64\n",
       "ID_canal                      int64\n",
       "h_fec_lld                    object\n",
       "h_fec_lld_ok                 object\n",
       "h_fec_lld_okt                object\n",
       "h_fec_reg                    object\n",
       "h_fec_reg_ok                 object\n",
       "h_fec_reg_okt                object\n",
       "h_fec_sda                    object\n",
       "h_fec_sda_ok                 object\n",
       "h_fec_sda_okt                object\n",
       "ID_Pais_Origen                int64\n",
       "Cliente_Disp                  int64\n",
       "aa_Cliente_Disp               int64\n",
       "Reservacion                   int64\n",
       "aa_Reservacion                int64\n",
       "ID_estatus_reservaciones      int64\n",
       "h_can_res                    object\n",
       "h_cod_reserva                object\n",
       "h_edo                        object\n",
       "h_codigop                    object\n",
       "h_correo_e                  float64\n",
       "h_nom                       float64\n",
       "h_tfa_total                 float64\n",
       "aa_h_tfa_total              float64\n",
       "moneda_cve                    int64\n",
       "h_ult_cam_fec                object\n",
       "h_ult_cam_fec_ok             object\n",
       "h_ult_cam_fec_okt            object\n",
       "dtype: object"
      ]
     },
     "execution_count": 181,
     "metadata": {},
     "output_type": "execute_result"
    }
   ],
   "source": [
    "df.dtypes"
   ]
  },
  {
   "cell_type": "markdown",
   "id": "91cee892",
   "metadata": {},
   "source": [
    "### Correción de tipos de datos\n",
    "Convertimos a tipo de dato fecha todas las columnas en las que corresponda, haciendo distinción dependiendo de su formato"
   ]
  },
  {
   "cell_type": "code",
   "execution_count": 182,
   "id": "1a771f1f",
   "metadata": {},
   "outputs": [],
   "source": [
    "columnas_fechas = ['Fecha_hoy', 'h_fec_reg_ok', 'h_fec_reg_okt', 'h_res_fec_ok', 'h_res_fec_okt', 'h_fec_lld_ok', 'h_fec_lld_okt', 'h_ult_cam_fec_ok', 'h_ult_cam_fec_okt', 'h_fec_sda_ok', 'h_fec_sda_okt']\n",
    "columnas_fechas_sin_guion = ['h_fec_reg', 'h_fec_lld', 'h_res_fec','h_ult_cam_fec', 'h_fec_sda', ]\n",
    "\n",
    "for fecha in columnas_fechas:\n",
    "    df[fecha] = pd.to_datetime(df[fecha], errors='coerce')\n",
    "\n",
    "for fecha in columnas_fechas_sin_guion:\n",
    "    df[fecha] = pd.to_datetime(df[fecha], format='%Y%m%d', errors='coerce')"
   ]
  },
  {
   "cell_type": "markdown",
   "id": "c5baa928",
   "metadata": {},
   "source": [
    "Identificar las variables continuas y las variables categóricas"
   ]
  },
  {
   "cell_type": "code",
   "execution_count": 183,
   "id": "a658d76c",
   "metadata": {},
   "outputs": [
    {
     "name": "stdout",
     "output_type": "stream",
     "text": [
      "ID_Reserva : 203002\n",
      "Fecha_hoy : 824\n",
      "h_res_fec : 482\n",
      "h_res_fec_ok : 482\n",
      "h_res_fec_okt : 482\n",
      "h_num_per : 22\n",
      "aa_h_num_per : 22\n",
      "h_num_adu : 16\n",
      "aa_h_num_adu : 16\n",
      "h_num_men : 10\n",
      "aa_h_num_men : 10\n",
      "h_num_noc : 42\n",
      "aa_h_num_noc : 41\n",
      "h_tot_hab : 7\n",
      "aa_h_tot_hab : 7\n",
      "ID_Programa : 2\n",
      "ID_Paquete : 6\n",
      "ID_Segmento_Comp : 20\n",
      "ID_Agencia : 120\n",
      "ID_empresa : 1\n",
      "ID_Tipo_Habitacion : 28\n",
      "ID_canal : 14\n",
      "h_fec_lld : 713\n",
      "h_fec_lld_ok : 714\n",
      "h_fec_lld_okt : 714\n",
      "h_fec_reg : 514\n",
      "h_fec_reg_ok : 515\n",
      "h_fec_reg_okt : 515\n",
      "h_fec_sda : 722\n",
      "h_fec_sda_ok : 723\n",
      "h_fec_sda_okt : 723\n",
      "ID_Pais_Origen : 4\n",
      "Cliente_Disp : 16\n",
      "aa_Cliente_Disp : 16\n",
      "Reservacion : 2\n",
      "aa_Reservacion : 2\n",
      "ID_estatus_reservaciones : 8\n",
      "h_can_res : 15\n",
      "h_cod_reserva : 32724\n",
      "h_edo : 148\n",
      "h_codigop : 10893\n",
      "h_correo_e : 0\n",
      "h_nom : 0\n",
      "h_tfa_total : 11596\n",
      "aa_h_tfa_total : 11522\n",
      "moneda_cve : 1\n",
      "h_ult_cam_fec : 512\n",
      "h_ult_cam_fec_ok : 521\n",
      "h_ult_cam_fec_okt : 521\n"
     ]
    }
   ],
   "source": [
    "for column_name in df.columns:\n",
    "    unique_count = df[column_name].nunique()\n",
    "    print(column_name, \":\", unique_count)"
   ]
  },
  {
   "cell_type": "code",
   "execution_count": 184,
   "id": "f49c3ee8",
   "metadata": {},
   "outputs": [],
   "source": [
    "var_categoricas = ['ID_Programa', 'ID_Paquete', 'ID_Segmento_Comp', 'ID_Agencia', 'ID_empresa', 'ID_Tipo_Habitacion', 'ID_canal', 'ID_estatus_reservaciones', \n",
    "                   'ID_Pais_Origen', 'Reservacion', 'aa_Reservacion', 'h_edo', 'h_codigop', 'moneda_cve']\n",
    "\n",
    "df[var_categoricas] = df[var_categoricas].astype(\"category\")"
   ]
  },
  {
   "cell_type": "code",
   "execution_count": 185,
   "id": "3d2481d4",
   "metadata": {},
   "outputs": [
    {
     "data": {
      "text/plain": [
       "ID_Reserva                           int64\n",
       "Fecha_hoy                   datetime64[ns]\n",
       "h_res_fec                   datetime64[ns]\n",
       "h_res_fec_ok                datetime64[ns]\n",
       "h_res_fec_okt               datetime64[ns]\n",
       "h_num_per                            int64\n",
       "aa_h_num_per                         int64\n",
       "h_num_adu                            int64\n",
       "aa_h_num_adu                         int64\n",
       "h_num_men                            int64\n",
       "aa_h_num_men                         int64\n",
       "h_num_noc                            int64\n",
       "aa_h_num_noc                         int64\n",
       "h_tot_hab                            int64\n",
       "aa_h_tot_hab                         int64\n",
       "ID_Programa                       category\n",
       "ID_Paquete                        category\n",
       "ID_Segmento_Comp                  category\n",
       "ID_Agencia                        category\n",
       "ID_empresa                        category\n",
       "ID_Tipo_Habitacion                category\n",
       "ID_canal                          category\n",
       "h_fec_lld                   datetime64[ns]\n",
       "h_fec_lld_ok                datetime64[ns]\n",
       "h_fec_lld_okt               datetime64[ns]\n",
       "h_fec_reg                   datetime64[ns]\n",
       "h_fec_reg_ok                datetime64[ns]\n",
       "h_fec_reg_okt               datetime64[ns]\n",
       "h_fec_sda                   datetime64[ns]\n",
       "h_fec_sda_ok                datetime64[ns]\n",
       "h_fec_sda_okt               datetime64[ns]\n",
       "ID_Pais_Origen                    category\n",
       "Cliente_Disp                         int64\n",
       "aa_Cliente_Disp                      int64\n",
       "Reservacion                       category\n",
       "aa_Reservacion                    category\n",
       "ID_estatus_reservaciones          category\n",
       "h_can_res                           object\n",
       "h_cod_reserva                       object\n",
       "h_edo                             category\n",
       "h_codigop                         category\n",
       "h_correo_e                         float64\n",
       "h_nom                              float64\n",
       "h_tfa_total                        float64\n",
       "aa_h_tfa_total                     float64\n",
       "moneda_cve                        category\n",
       "h_ult_cam_fec               datetime64[ns]\n",
       "h_ult_cam_fec_ok            datetime64[ns]\n",
       "h_ult_cam_fec_okt           datetime64[ns]\n",
       "dtype: object"
      ]
     },
     "execution_count": 185,
     "metadata": {},
     "output_type": "execute_result"
    }
   ],
   "source": [
    "df.dtypes"
   ]
  },
  {
   "cell_type": "markdown",
   "id": "16e489e6",
   "metadata": {},
   "source": [
    "## Corrección de Nombres de Datos"
   ]
  },
  {
   "cell_type": "code",
   "execution_count": 186,
   "id": "3efbfeae",
   "metadata": {},
   "outputs": [],
   "source": [
    "# Reemplazos específicos en los nombres de las columnas\n",
    "df.columns = [\n",
    "    col.replace(\"num_noc\", \"num_noches\")\n",
    "       .replace(\"sda\", \"salida\")\n",
    "       .replace(\"reg\", \"region\")\n",
    "       .replace(\"num_adu\", \"num_adultos\")\n",
    "       .replace(\"ID_Segmento_Comp\", \"ID_Segmento_Alterno\")\n",
    "       .replace(\"tfa_total\", \"tarifa_total\")\n",
    "    for col in df.columns\n",
    "]"
   ]
  },
  {
   "cell_type": "markdown",
   "id": "81289559",
   "metadata": {},
   "source": [
    "## Corrección de Datos Incoherentes\n",
    "Revisamos las filas en las que el número total de personas 'h_num_per' no es igual a la suma de adultos 'h_num_adultos' y menores 'h_num_men'. \n",
    "Si el resultado es incoherente, lo actualizamos con el resultado correcto de dicha suma.\n"
   ]
  },
  {
   "cell_type": "code",
   "execution_count": 187,
   "id": "39e08387",
   "metadata": {},
   "outputs": [],
   "source": [
    "# Para las columnas del año actual\n",
    "df.loc[df['h_num_per'] != df['h_num_adultos'] + df['h_num_men'], 'h_num_per'] = df['h_num_adultos'] + df['h_num_men']\n",
    "\n",
    "# Para las columnas del año anterior\n",
    "df.loc[df['aa_h_num_per'] != df['aa_h_num_adultos'] + df['aa_h_num_men'], 'aa_h_num_per'] = df['aa_h_num_adultos'] + df['aa_h_num_men']\n"
   ]
  },
  {
   "cell_type": "markdown",
   "id": "1e490504",
   "metadata": {},
   "source": [
    "Verificando el conteo de número de noches 'h_num_noches' que es igual a 0"
   ]
  },
  {
   "cell_type": "code",
   "execution_count": 196,
   "id": "4f63753f",
   "metadata": {},
   "outputs": [
    {
     "data": {
      "text/plain": [
       "np.int64(101006)"
      ]
     },
     "execution_count": 196,
     "metadata": {},
     "output_type": "execute_result"
    }
   ],
   "source": [
    "(df['h_num_noches'] == 0).sum()"
   ]
  },
  {
   "cell_type": "code",
   "execution_count": 197,
   "id": "083b7225",
   "metadata": {},
   "outputs": [
    {
     "data": {
      "text/plain": [
       "np.int64(1040)"
      ]
     },
     "execution_count": 197,
     "metadata": {},
     "output_type": "execute_result"
    }
   ],
   "source": [
    "(df['h_fec_salida'] == df['h_fec_lld']).sum()"
   ]
  },
  {
   "cell_type": "code",
   "execution_count": 203,
   "id": "92ece3ca",
   "metadata": {},
   "outputs": [
    {
     "data": {
      "text/plain": [
       "np.int64(723)"
      ]
     },
     "execution_count": 203,
     "metadata": {},
     "output_type": "execute_result"
    }
   ],
   "source": [
    "((df['h_num_noches'] == 0) & (df['h_fec_salida'] == df['h_fec_lld'])) .sum()"
   ]
  },
  {
   "cell_type": "markdown",
   "id": "99d7a064",
   "metadata": {},
   "source": [
    "Recalculando el número de "
   ]
  },
  {
   "cell_type": "code",
   "execution_count": 199,
   "id": "f9ca6281",
   "metadata": {},
   "outputs": [],
   "source": [
    "# Caso 1: Cuando h_num_noches == 0 y la fecha de salida es posterior a la fecha de llegada\n",
    "mask_valid = (df['h_num_noches'] == 0) & (df['h_fec_salida'] > df['h_fec_lld'])\n",
    "df.loc[mask_valid, 'h_num_noches'] = (df['h_fec_salida'] - df['h_fec_lld']).dt.days.astype('Int64')\n",
    "\n",
    "# Caso 2: Cuando la fecha de salida es anterior a la de llegada \n",
    "mask_error = (df['h_fec_salida'] == df['h_fec_lld']) & (df['h_num_noches'] > 0)\n",
    "df.loc[mask_error, 'h_fec_salida'] = df.loc[mask_error, 'h_fec_lld'] + pd.to_timedelta(df.loc[mask_error, 'h_num_noches'], unit='D')\n",
    "\n"
   ]
  },
  {
   "cell_type": "code",
   "execution_count": 200,
   "id": "46ec8842",
   "metadata": {},
   "outputs": [
    {
     "data": {
      "text/plain": [
       "np.int64(740)"
      ]
     },
     "execution_count": 200,
     "metadata": {},
     "output_type": "execute_result"
    }
   ],
   "source": [
    "(df['h_num_noches'] == 0).sum()"
   ]
  },
  {
   "cell_type": "code",
   "execution_count": 201,
   "id": "dfab6583",
   "metadata": {},
   "outputs": [
    {
     "data": {
      "text/plain": [
       "np.int64(723)"
      ]
     },
     "execution_count": 201,
     "metadata": {},
     "output_type": "execute_result"
    }
   ],
   "source": [
    "(df['h_fec_salida'] == df['h_fec_lld']).sum()"
   ]
  },
  {
   "cell_type": "code",
   "execution_count": 101,
   "id": "e8b32ab0",
   "metadata": {},
   "outputs": [
    {
     "data": {
      "application/vnd.microsoft.datawrangler.viewer.v0+json": {
       "columns": [
        {
         "name": "index",
         "rawType": "int64",
         "type": "integer"
        },
        {
         "name": "ID_Reserva",
         "rawType": "int64",
         "type": "integer"
        },
        {
         "name": "Fecha_hoy",
         "rawType": "datetime64[ns]",
         "type": "datetime"
        },
        {
         "name": "h_res_fec",
         "rawType": "datetime64[ns]",
         "type": "datetime"
        },
        {
         "name": "h_res_fec_ok",
         "rawType": "datetime64[ns]",
         "type": "datetime"
        },
        {
         "name": "h_res_fec_okt",
         "rawType": "datetime64[ns]",
         "type": "datetime"
        },
        {
         "name": "h_num_per",
         "rawType": "int64",
         "type": "integer"
        },
        {
         "name": "aa_h_num_per",
         "rawType": "int64",
         "type": "integer"
        },
        {
         "name": "h_num_adultos",
         "rawType": "int64",
         "type": "integer"
        },
        {
         "name": "aa_h_num_adultos",
         "rawType": "int64",
         "type": "integer"
        },
        {
         "name": "h_num_men",
         "rawType": "int64",
         "type": "integer"
        },
        {
         "name": "aa_h_num_men",
         "rawType": "int64",
         "type": "integer"
        },
        {
         "name": "h_num_noches",
         "rawType": "int64",
         "type": "integer"
        },
        {
         "name": "aa_h_num_noches",
         "rawType": "int64",
         "type": "integer"
        },
        {
         "name": "h_tot_hab",
         "rawType": "int64",
         "type": "integer"
        },
        {
         "name": "aa_h_tot_hab",
         "rawType": "int64",
         "type": "integer"
        },
        {
         "name": "ID_Programa",
         "rawType": "category",
         "type": "unknown"
        },
        {
         "name": "ID_Paquete",
         "rawType": "category",
         "type": "unknown"
        },
        {
         "name": "ID_Segmento_Alterno",
         "rawType": "category",
         "type": "unknown"
        },
        {
         "name": "ID_Agencia",
         "rawType": "category",
         "type": "unknown"
        },
        {
         "name": "ID_empresa",
         "rawType": "category",
         "type": "unknown"
        },
        {
         "name": "ID_Tipo_Habitacion",
         "rawType": "category",
         "type": "unknown"
        },
        {
         "name": "ID_canal",
         "rawType": "category",
         "type": "unknown"
        },
        {
         "name": "h_fec_lld",
         "rawType": "datetime64[ns]",
         "type": "datetime"
        },
        {
         "name": "h_fec_lld_ok",
         "rawType": "datetime64[ns]",
         "type": "datetime"
        },
        {
         "name": "h_fec_lld_okt",
         "rawType": "datetime64[ns]",
         "type": "datetime"
        },
        {
         "name": "h_fec_region",
         "rawType": "datetime64[ns]",
         "type": "datetime"
        },
        {
         "name": "h_fec_region_ok",
         "rawType": "datetime64[ns]",
         "type": "datetime"
        },
        {
         "name": "h_fec_region_okt",
         "rawType": "datetime64[ns]",
         "type": "datetime"
        },
        {
         "name": "h_fec_salida",
         "rawType": "datetime64[ns]",
         "type": "datetime"
        },
        {
         "name": "h_fec_salida_ok",
         "rawType": "datetime64[ns]",
         "type": "datetime"
        },
        {
         "name": "h_fec_salida_okt",
         "rawType": "datetime64[ns]",
         "type": "datetime"
        },
        {
         "name": "ID_Pais_Origen",
         "rawType": "category",
         "type": "unknown"
        },
        {
         "name": "Cliente_Disp",
         "rawType": "int64",
         "type": "integer"
        },
        {
         "name": "aa_Cliente_Disp",
         "rawType": "int64",
         "type": "integer"
        },
        {
         "name": "Reservacion",
         "rawType": "category",
         "type": "unknown"
        },
        {
         "name": "aa_Reservacion",
         "rawType": "category",
         "type": "unknown"
        },
        {
         "name": "ID_estatus_reservaciones",
         "rawType": "category",
         "type": "unknown"
        },
        {
         "name": "h_can_res",
         "rawType": "object",
         "type": "string"
        },
        {
         "name": "h_edo",
         "rawType": "category",
         "type": "unknown"
        },
        {
         "name": "h_tarifa_total",
         "rawType": "float64",
         "type": "float"
        },
        {
         "name": "aa_h_tarifa_total",
         "rawType": "float64",
         "type": "float"
        },
        {
         "name": "moneda_cve",
         "rawType": "category",
         "type": "unknown"
        },
        {
         "name": "h_ult_cam_fec",
         "rawType": "datetime64[ns]",
         "type": "datetime"
        },
        {
         "name": "h_ult_cam_fec_ok",
         "rawType": "datetime64[ns]",
         "type": "datetime"
        },
        {
         "name": "h_ult_cam_fec_okt",
         "rawType": "datetime64[ns]",
         "type": "datetime"
        }
       ],
       "conversionMethod": "pd.DataFrame",
       "ref": "9769a0d5-8907-460f-938f-44b8cbfa1974",
       "rows": [
        [
         "0",
         "0",
         "2019-08-16 00:00:00",
         "2019-08-16 00:00:00",
         "2019-08-16 00:00:00",
         "2019-08-16 00:00:00",
         "2",
         "0",
         "2",
         "0",
         "0",
         "0",
         "3",
         "0",
         "1",
         "0",
         "1",
         "1",
         "14",
         "112",
         "1",
         "25",
         "10",
         "2019-11-07 00:00:00",
         "2019-11-07 00:00:00",
         "2019-11-07 00:00:00",
         "2019-08-16 00:00:00",
         "2019-08-16 00:00:00",
         "2019-08-16 00:00:00",
         "2019-11-10 00:00:00",
         "2019-11-10 00:00:00",
         "2019-11-10 00:00:00",
         "157",
         "2",
         "0",
         "1",
         "0",
         "9",
         "09",
         "EMX   ",
         "2659.98",
         "0.0",
         "1",
         "2019-11-10 00:00:00",
         "2019-11-10 00:00:00",
         "2019-11-10 00:00:00"
        ],
        [
         "1",
         "1",
         "2019-10-22 00:00:00",
         "2019-10-22 00:00:00",
         "2019-10-22 00:00:00",
         "2019-10-22 00:00:00",
         "4",
         "0",
         "4",
         "0",
         "0",
         "0",
         "4",
         "0",
         "1",
         "0",
         "1",
         "2",
         "14",
         "112",
         "1",
         "25",
         "10",
         "2019-12-01 00:00:00",
         "2019-12-01 00:00:00",
         "2019-12-01 00:00:00",
         "2019-10-22 00:00:00",
         "2019-10-22 00:00:00",
         "2019-10-22 00:00:00",
         "2019-12-05 00:00:00",
         "2019-12-05 00:00:00",
         "2019-12-05 00:00:00",
         "157",
         "4",
         "0",
         "1",
         "0",
         "9",
         "09",
         "EGT   ",
         "1764.0",
         "0.0",
         "1",
         "2019-12-05 00:00:00",
         "2019-12-05 00:00:00",
         "2019-12-05 00:00:00"
        ],
        [
         "2",
         "2",
         "2019-10-28 00:00:00",
         "2019-10-28 00:00:00",
         "2019-10-28 00:00:00",
         "2019-10-28 00:00:00",
         "2",
         "0",
         "2",
         "0",
         "0",
         "0",
         "4",
         "0",
         "1",
         "0",
         "1",
         "1",
         "14",
         "112",
         "1",
         "23",
         "10",
         "2019-12-01 00:00:00",
         "2019-12-01 00:00:00",
         "2019-12-01 00:00:00",
         "2019-10-28 00:00:00",
         "2019-10-28 00:00:00",
         "2019-10-28 00:00:00",
         "2019-12-05 00:00:00",
         "2019-12-05 00:00:00",
         "2019-12-05 00:00:00",
         "157",
         "2",
         "0",
         "1",
         "0",
         "9",
         "09",
         "EMC   ",
         "2660.04",
         "0.0",
         "1",
         "2019-12-05 00:00:00",
         "2019-12-05 00:00:00",
         "2019-12-05 00:00:00"
        ],
        [
         "3",
         "3",
         "2019-10-28 00:00:00",
         "2019-10-28 00:00:00",
         "2019-10-28 00:00:00",
         "2019-10-28 00:00:00",
         "3",
         "0",
         "3",
         "0",
         "0",
         "0",
         "3",
         "0",
         "1",
         "0",
         "1",
         "2",
         "14",
         "112",
         "1",
         "24",
         "10",
         "2019-12-08 00:00:00",
         "2019-12-08 00:00:00",
         "2019-12-08 00:00:00",
         "2019-10-28 00:00:00",
         "2019-10-28 00:00:00",
         "2019-10-28 00:00:00",
         "2019-12-11 00:00:00",
         "2019-12-11 00:00:00",
         "2019-12-11 00:00:00",
         "157",
         "3",
         "0",
         "1",
         "0",
         "9",
         "09",
         "EGT   ",
         "1995.03",
         "0.0",
         "1",
         "2019-12-11 00:00:00",
         "2019-12-11 00:00:00",
         "2019-12-11 00:00:00"
        ],
        [
         "4",
         "4",
         "2019-10-28 00:00:00",
         "2019-10-28 00:00:00",
         "2019-10-28 00:00:00",
         "2019-10-28 00:00:00",
         "2",
         "0",
         "2",
         "0",
         "0",
         "0",
         "4",
         "0",
         "1",
         "0",
         "1",
         "1",
         "5",
         "14",
         "1",
         "4",
         "13",
         "2019-12-08 00:00:00",
         "2019-12-08 00:00:00",
         "2019-12-08 00:00:00",
         "2019-12-08 00:00:00",
         "2019-12-08 00:00:00",
         "2019-12-08 00:00:00",
         "2019-12-12 00:00:00",
         "2019-12-12 00:00:00",
         "2019-12-12 00:00:00",
         "157",
         "2",
         "0",
         "1",
         "0",
         "9",
         "12",
         "EMX   ",
         "13369.92",
         "0.0",
         "1",
         "2019-12-12 00:00:00",
         "2019-12-12 00:00:00",
         "2019-12-12 00:00:00"
        ]
       ],
       "shape": {
        "columns": 45,
        "rows": 5
       }
      },
      "text/html": [
       "<div>\n",
       "<style scoped>\n",
       "    .dataframe tbody tr th:only-of-type {\n",
       "        vertical-align: middle;\n",
       "    }\n",
       "\n",
       "    .dataframe tbody tr th {\n",
       "        vertical-align: top;\n",
       "    }\n",
       "\n",
       "    .dataframe thead th {\n",
       "        text-align: right;\n",
       "    }\n",
       "</style>\n",
       "<table border=\"1\" class=\"dataframe\">\n",
       "  <thead>\n",
       "    <tr style=\"text-align: right;\">\n",
       "      <th></th>\n",
       "      <th>ID_Reserva</th>\n",
       "      <th>Fecha_hoy</th>\n",
       "      <th>h_res_fec</th>\n",
       "      <th>h_res_fec_ok</th>\n",
       "      <th>h_res_fec_okt</th>\n",
       "      <th>h_num_per</th>\n",
       "      <th>aa_h_num_per</th>\n",
       "      <th>h_num_adultos</th>\n",
       "      <th>aa_h_num_adultos</th>\n",
       "      <th>h_num_men</th>\n",
       "      <th>...</th>\n",
       "      <th>aa_Reservacion</th>\n",
       "      <th>ID_estatus_reservaciones</th>\n",
       "      <th>h_can_res</th>\n",
       "      <th>h_edo</th>\n",
       "      <th>h_tarifa_total</th>\n",
       "      <th>aa_h_tarifa_total</th>\n",
       "      <th>moneda_cve</th>\n",
       "      <th>h_ult_cam_fec</th>\n",
       "      <th>h_ult_cam_fec_ok</th>\n",
       "      <th>h_ult_cam_fec_okt</th>\n",
       "    </tr>\n",
       "  </thead>\n",
       "  <tbody>\n",
       "    <tr>\n",
       "      <th>0</th>\n",
       "      <td>0</td>\n",
       "      <td>2019-08-16</td>\n",
       "      <td>2019-08-16</td>\n",
       "      <td>2019-08-16</td>\n",
       "      <td>2019-08-16</td>\n",
       "      <td>2</td>\n",
       "      <td>0</td>\n",
       "      <td>2</td>\n",
       "      <td>0</td>\n",
       "      <td>0</td>\n",
       "      <td>...</td>\n",
       "      <td>0</td>\n",
       "      <td>9</td>\n",
       "      <td>09</td>\n",
       "      <td>EMX</td>\n",
       "      <td>2659.98</td>\n",
       "      <td>0.0</td>\n",
       "      <td>1</td>\n",
       "      <td>2019-11-10</td>\n",
       "      <td>2019-11-10</td>\n",
       "      <td>2019-11-10</td>\n",
       "    </tr>\n",
       "    <tr>\n",
       "      <th>1</th>\n",
       "      <td>1</td>\n",
       "      <td>2019-10-22</td>\n",
       "      <td>2019-10-22</td>\n",
       "      <td>2019-10-22</td>\n",
       "      <td>2019-10-22</td>\n",
       "      <td>4</td>\n",
       "      <td>0</td>\n",
       "      <td>4</td>\n",
       "      <td>0</td>\n",
       "      <td>0</td>\n",
       "      <td>...</td>\n",
       "      <td>0</td>\n",
       "      <td>9</td>\n",
       "      <td>09</td>\n",
       "      <td>EGT</td>\n",
       "      <td>1764.00</td>\n",
       "      <td>0.0</td>\n",
       "      <td>1</td>\n",
       "      <td>2019-12-05</td>\n",
       "      <td>2019-12-05</td>\n",
       "      <td>2019-12-05</td>\n",
       "    </tr>\n",
       "    <tr>\n",
       "      <th>2</th>\n",
       "      <td>2</td>\n",
       "      <td>2019-10-28</td>\n",
       "      <td>2019-10-28</td>\n",
       "      <td>2019-10-28</td>\n",
       "      <td>2019-10-28</td>\n",
       "      <td>2</td>\n",
       "      <td>0</td>\n",
       "      <td>2</td>\n",
       "      <td>0</td>\n",
       "      <td>0</td>\n",
       "      <td>...</td>\n",
       "      <td>0</td>\n",
       "      <td>9</td>\n",
       "      <td>09</td>\n",
       "      <td>EMC</td>\n",
       "      <td>2660.04</td>\n",
       "      <td>0.0</td>\n",
       "      <td>1</td>\n",
       "      <td>2019-12-05</td>\n",
       "      <td>2019-12-05</td>\n",
       "      <td>2019-12-05</td>\n",
       "    </tr>\n",
       "    <tr>\n",
       "      <th>3</th>\n",
       "      <td>3</td>\n",
       "      <td>2019-10-28</td>\n",
       "      <td>2019-10-28</td>\n",
       "      <td>2019-10-28</td>\n",
       "      <td>2019-10-28</td>\n",
       "      <td>3</td>\n",
       "      <td>0</td>\n",
       "      <td>3</td>\n",
       "      <td>0</td>\n",
       "      <td>0</td>\n",
       "      <td>...</td>\n",
       "      <td>0</td>\n",
       "      <td>9</td>\n",
       "      <td>09</td>\n",
       "      <td>EGT</td>\n",
       "      <td>1995.03</td>\n",
       "      <td>0.0</td>\n",
       "      <td>1</td>\n",
       "      <td>2019-12-11</td>\n",
       "      <td>2019-12-11</td>\n",
       "      <td>2019-12-11</td>\n",
       "    </tr>\n",
       "    <tr>\n",
       "      <th>4</th>\n",
       "      <td>4</td>\n",
       "      <td>2019-10-28</td>\n",
       "      <td>2019-10-28</td>\n",
       "      <td>2019-10-28</td>\n",
       "      <td>2019-10-28</td>\n",
       "      <td>2</td>\n",
       "      <td>0</td>\n",
       "      <td>2</td>\n",
       "      <td>0</td>\n",
       "      <td>0</td>\n",
       "      <td>...</td>\n",
       "      <td>0</td>\n",
       "      <td>9</td>\n",
       "      <td>12</td>\n",
       "      <td>EMX</td>\n",
       "      <td>13369.92</td>\n",
       "      <td>0.0</td>\n",
       "      <td>1</td>\n",
       "      <td>2019-12-12</td>\n",
       "      <td>2019-12-12</td>\n",
       "      <td>2019-12-12</td>\n",
       "    </tr>\n",
       "  </tbody>\n",
       "</table>\n",
       "<p>5 rows × 45 columns</p>\n",
       "</div>"
      ],
      "text/plain": [
       "   ID_Reserva  Fecha_hoy  h_res_fec h_res_fec_ok h_res_fec_okt  h_num_per  \\\n",
       "0           0 2019-08-16 2019-08-16   2019-08-16    2019-08-16          2   \n",
       "1           1 2019-10-22 2019-10-22   2019-10-22    2019-10-22          4   \n",
       "2           2 2019-10-28 2019-10-28   2019-10-28    2019-10-28          2   \n",
       "3           3 2019-10-28 2019-10-28   2019-10-28    2019-10-28          3   \n",
       "4           4 2019-10-28 2019-10-28   2019-10-28    2019-10-28          2   \n",
       "\n",
       "   aa_h_num_per  h_num_adultos  aa_h_num_adultos  h_num_men  ...  \\\n",
       "0             0              2                 0          0  ...   \n",
       "1             0              4                 0          0  ...   \n",
       "2             0              2                 0          0  ...   \n",
       "3             0              3                 0          0  ...   \n",
       "4             0              2                 0          0  ...   \n",
       "\n",
       "   aa_Reservacion  ID_estatus_reservaciones  h_can_res   h_edo  \\\n",
       "0               0                         9         09  EMX      \n",
       "1               0                         9         09  EGT      \n",
       "2               0                         9         09  EMC      \n",
       "3               0                         9         09  EGT      \n",
       "4               0                         9         12  EMX      \n",
       "\n",
       "   h_tarifa_total aa_h_tarifa_total moneda_cve h_ult_cam_fec h_ult_cam_fec_ok  \\\n",
       "0         2659.98               0.0          1    2019-11-10       2019-11-10   \n",
       "1         1764.00               0.0          1    2019-12-05       2019-12-05   \n",
       "2         2660.04               0.0          1    2019-12-05       2019-12-05   \n",
       "3         1995.03               0.0          1    2019-12-11       2019-12-11   \n",
       "4        13369.92               0.0          1    2019-12-12       2019-12-12   \n",
       "\n",
       "  h_ult_cam_fec_okt  \n",
       "0        2019-11-10  \n",
       "1        2019-12-05  \n",
       "2        2019-12-05  \n",
       "3        2019-12-11  \n",
       "4        2019-12-12  \n",
       "\n",
       "[5 rows x 45 columns]"
      ]
     },
     "execution_count": 101,
     "metadata": {},
     "output_type": "execute_result"
    }
   ],
   "source": [
    "df.head()"
   ]
  },
  {
   "cell_type": "code",
   "execution_count": 139,
   "id": "246c731e",
   "metadata": {},
   "outputs": [
    {
     "data": {
      "text/plain": [
       "Timestamp('2019-11-13 00:00:00')"
      ]
     },
     "execution_count": 139,
     "metadata": {},
     "output_type": "execute_result"
    }
   ],
   "source": [
    "#df['h_fec_salida'][0] > df['h_fec_lld'][0] \n",
    "df['h_fec_salida'][0] + pd.Timedelta(days=3) "
   ]
  },
  {
   "cell_type": "markdown",
   "id": "b8ff0fd1",
   "metadata": {},
   "source": [
    "# Análisis Univariado"
   ]
  },
  {
   "cell_type": "markdown",
   "id": "7c60daaa",
   "metadata": {},
   "source": [
    "## Valores Continuos - Distribución de Frecuencias - Centralidad, Rango y Simetría"
   ]
  },
  {
   "cell_type": "markdown",
   "id": "c8e904f6",
   "metadata": {},
   "source": [
    "## Identificacipon de Valores Nulos "
   ]
  },
  {
   "cell_type": "code",
   "execution_count": 77,
   "id": "9a60cc20",
   "metadata": {},
   "outputs": [
    {
     "data": {
      "image/png": "[encoded data removed]",
      "text/plain": [
       "<Figure size 1500x4500 with 45 Axes>"
      ]
     },
     "metadata": {},
     "output_type": "display_data"
    }
   ],
   "source": [
    "plt.style.use('seaborn-v0_8-colorblind')\n",
    "df.hist(figsize=(15,45),histtype='stepfilled',layout=(15,3),bins=50)\n",
    "plt.show()"
   ]
  },
  {
   "cell_type": "code",
   "execution_count": 78,
   "id": "7045d3e7",
   "metadata": {},
   "outputs": [
    {
     "name": "stdout",
     "output_type": "stream",
     "text": [
      "h_fec_lld             2\n",
      "h_fec_region       1550\n",
      "h_fec_salida         34\n",
      "h_correo_e       203002\n",
      "h_nom            203002\n",
      "h_ult_cam_fec       533\n",
      "dtype: int64\n"
     ]
    }
   ],
   "source": [
    "# Verificar valores nulos \n",
    "missing_counts = df.isnull().sum()\n",
    "print(missing_counts[missing_counts > 0])"
   ]
  },
  {
   "cell_type": "code",
   "execution_count": 79,
   "id": "c45a9875",
   "metadata": {},
   "outputs": [],
   "source": [
    "# Eliminar columnas con valores nulos\n",
    "df = df.drop(columns=['h_correo_e', 'h_nom'])"
   ]
  },
  {
   "cell_type": "code",
   "execution_count": 80,
   "id": "b8b460d8",
   "metadata": {},
   "outputs": [],
   "source": [
    "# Eliminar filas con valores nulos\n",
    "df = df.dropna()"
   ]
  },
  {
   "cell_type": "code",
   "execution_count": 81,
   "id": "681ccfa4",
   "metadata": {},
   "outputs": [
    {
     "name": "stdout",
     "output_type": "stream",
     "text": [
      "0\n"
     ]
    }
   ],
   "source": [
    "# Total de valores faltantes\n",
    "print(df.isnull().sum().sum())  "
   ]
  },
  {
   "cell_type": "markdown",
   "id": "be9a0562",
   "metadata": {},
   "source": [
    "Reemplazamos los campos vacíos (con solo espacios) por valores nulos para mayor control"
   ]
  },
  {
   "cell_type": "code",
   "execution_count": 82,
   "id": "16d1145a",
   "metadata": {},
   "outputs": [],
   "source": [
    "# Convertir valores con espacios en blanco en NaN\n",
    "df = df.replace(r'^\\s*$', pd.NA, regex=True)"
   ]
  },
  {
   "cell_type": "code",
   "execution_count": 83,
   "id": "b5b866ac",
   "metadata": {},
   "outputs": [
    {
     "name": "stdout",
     "output_type": "stream",
     "text": [
      "h_cod_reserva    127612\n",
      "h_edo                 2\n",
      "h_codigop         55742\n",
      "dtype: int64\n"
     ]
    }
   ],
   "source": [
    "# Nuevos valores nulos\n",
    "missing_counts = df.isnull().sum()\n",
    "print(missing_counts[missing_counts > 0])"
   ]
  },
  {
   "cell_type": "code",
   "execution_count": 84,
   "id": "a59ece96",
   "metadata": {},
   "outputs": [],
   "source": [
    "# Eliminar columnas con gran numero de valores nulos\n",
    "df = df.drop(columns=['h_cod_reserva', 'h_codigop'])"
   ]
  },
  {
   "cell_type": "code",
   "execution_count": 85,
   "id": "25200443",
   "metadata": {},
   "outputs": [],
   "source": [
    "# Eliminar filas con valores nulos\n",
    "df = df.dropna()"
   ]
  },
  {
   "cell_type": "markdown",
   "id": "6056db04",
   "metadata": {},
   "source": [
    "## Identificación de Filas Duplicadas"
   ]
  },
  {
   "cell_type": "code",
   "execution_count": 86,
   "id": "a33014b0",
   "metadata": {},
   "outputs": [
    {
     "name": "stdout",
     "output_type": "stream",
     "text": [
      "\n",
      "Número de filas duplicadas: 0\n"
     ]
    }
   ],
   "source": [
    "# Verificar y eliminar filas duplicadas\n",
    "duplicados = df.duplicated()\n",
    "print(f\"\\nNúmero de filas duplicadas: {duplicados.sum()}\")\n",
    "df = df.drop_duplicates()"
   ]
  },
  {
   "cell_type": "code",
   "execution_count": 87,
   "id": "77a37ae1",
   "metadata": {},
   "outputs": [
    {
     "data": {
      "text/plain": [
       "(201412, 45)"
      ]
     },
     "execution_count": 87,
     "metadata": {},
     "output_type": "execute_result"
    }
   ],
   "source": [
    "# Nuevas dimensiones del dataset\n",
    "df.shape"
   ]
  },
  {
   "cell_type": "markdown",
   "id": "e6b896ba",
   "metadata": {},
   "source": [
    "## Identificación de Outliers"
   ]
  },
  {
   "cell_type": "code",
   "execution_count": 92,
   "id": "c6e3a2a6",
   "metadata": {},
   "outputs": [
    {
     "data": {
      "image/png": "[encoded data removed]",
      "text/plain": [
       "<Figure size 1000x600 with 1 Axes>"
      ]
     },
     "metadata": {},
     "output_type": "display_data"
    }
   ],
   "source": [
    "sns.set_style(\"whitegrid\")\n",
    "plt.figure(figsize=(10, 6))\n",
    "sns.boxplot(x = 'h_num_per', y = 'h_tarifa_total', data = df)\n",
    "plt.show()"
   ]
  },
  {
   "cell_type": "code",
   "execution_count": 94,
   "id": "68acff2d",
   "metadata": {},
   "outputs": [
    {
     "data": {
      "text/plain": [
       "<seaborn.axisgrid.FacetGrid at 0x29660c6d0>"
      ]
     },
     "execution_count": 94,
     "metadata": {},
     "output_type": "execute_result"
    },
    {
     "data": {
      "text/plain": [
       "<Figure size 1000x300 with 0 Axes>"
      ]
     },
     "metadata": {},
     "output_type": "display_data"
    },
    {
     "data": {
      "image/png": "[encoded data removed]",
      "text/plain": [
       "<Figure size 632.736x500 with 1 Axes>"
      ]
     },
     "metadata": {},
     "output_type": "display_data"
    }
   ],
   "source": [
    "plt.figure(figsize=(10, 3))\n",
    "sns.catplot(data=df, x='h_fec_lld', y='h_tarifa_total', hue = 'ID_Tipo_Habitacion')"
   ]
  },
  {
   "cell_type": "markdown",
   "id": "c3779116",
   "metadata": {},
   "source": [
    "### Análisis de variables desbalanceadas"
   ]
  },
  {
   "cell_type": "code",
   "execution_count": 97,
   "id": "759675da",
   "metadata": {},
   "outputs": [
    {
     "data": {
      "application/vnd.microsoft.datawrangler.viewer.v0+json": {
       "columns": [
        {
         "name": "index",
         "rawType": "int64",
         "type": "integer"
        },
        {
         "name": "Columna",
         "rawType": "object",
         "type": "string"
        },
        {
         "name": "Skew",
         "rawType": "float64",
         "type": "float"
        },
        {
         "name": "Sesgo",
         "rawType": "object",
         "type": "string"
        },
        {
         "name": "Kurtosis",
         "rawType": "float64",
         "type": "float"
        },
        {
         "name": "Curtosis",
         "rawType": "object",
         "type": "string"
        }
       ],
       "conversionMethod": "pd.DataFrame",
       "ref": "d546fd5f-5db7-4a0a-8d04-e2e03e643cb9",
       "rows": [
        [
         "0",
         "ID_Reserva",
         "0.0003",
         "Bajo",
         "-1.2004",
         "Platicúrtica"
        ],
        [
         "1",
         "h_num_per",
         "1.8039",
         "Alto",
         "17.8581",
         "Leptocúrtica"
        ],
        [
         "2",
         "aa_h_num_per",
         "1.8137",
         "Alto",
         "17.8871",
         "Leptocúrtica"
        ],
        [
         "3",
         "h_num_adultos",
         "1.0609",
         "Alto",
         "4.3739",
         "Leptocúrtica"
        ],
        [
         "4",
         "aa_h_num_adultos",
         "1.0628",
         "Alto",
         "4.2391",
         "Leptocúrtica"
        ],
        [
         "5",
         "h_num_men",
         "16.4259",
         "Alto",
         "604.2444",
         "Leptocúrtica"
        ],
        [
         "6",
         "aa_h_num_men",
         "16.5828",
         "Alto",
         "614.5634",
         "Leptocúrtica"
        ],
        [
         "7",
         "h_num_noches",
         "81.0508",
         "Alto",
         "17178.6148",
         "Leptocúrtica"
        ],
        [
         "8",
         "aa_h_num_noches",
         "82.339",
         "Alto",
         "17616.8252",
         "Leptocúrtica"
        ],
        [
         "9",
         "h_tot_hab",
         "0.1306",
         "Bajo",
         "-1.234",
         "Platicúrtica"
        ],
        [
         "10",
         "aa_h_tot_hab",
         "0.1538",
         "Bajo",
         "-1.2441",
         "Platicúrtica"
        ],
        [
         "11",
         "Cliente_Disp",
         "1.0609",
         "Alto",
         "4.3739",
         "Leptocúrtica"
        ],
        [
         "12",
         "aa_Cliente_Disp",
         "1.0628",
         "Alto",
         "4.2391",
         "Leptocúrtica"
        ],
        [
         "13",
         "h_tarifa_total",
         "27.3286",
         "Alto",
         "3696.226",
         "Leptocúrtica"
        ]
       ],
       "shape": {
        "columns": 5,
        "rows": 14
       }
      },
      "text/html": [
       "<div>\n",
       "<style scoped>\n",
       "    .dataframe tbody tr th:only-of-type {\n",
       "        vertical-align: middle;\n",
       "    }\n",
       "\n",
       "    .dataframe tbody tr th {\n",
       "        vertical-align: top;\n",
       "    }\n",
       "\n",
       "    .dataframe thead th {\n",
       "        text-align: right;\n",
       "    }\n",
       "</style>\n",
       "<table border=\"1\" class=\"dataframe\">\n",
       "  <thead>\n",
       "    <tr style=\"text-align: right;\">\n",
       "      <th></th>\n",
       "      <th>Columna</th>\n",
       "      <th>Skew</th>\n",
       "      <th>Sesgo</th>\n",
       "      <th>Kurtosis</th>\n",
       "      <th>Curtosis</th>\n",
       "    </tr>\n",
       "  </thead>\n",
       "  <tbody>\n",
       "    <tr>\n",
       "      <th>0</th>\n",
       "      <td>ID_Reserva</td>\n",
       "      <td>0.0003</td>\n",
       "      <td>Bajo</td>\n",
       "      <td>-1.2004</td>\n",
       "      <td>Platicúrtica</td>\n",
       "    </tr>\n",
       "    <tr>\n",
       "      <th>1</th>\n",
       "      <td>h_num_per</td>\n",
       "      <td>1.8039</td>\n",
       "      <td>Alto</td>\n",
       "      <td>17.8581</td>\n",
       "      <td>Leptocúrtica</td>\n",
       "    </tr>\n",
       "    <tr>\n",
       "      <th>2</th>\n",
       "      <td>aa_h_num_per</td>\n",
       "      <td>1.8137</td>\n",
       "      <td>Alto</td>\n",
       "      <td>17.8871</td>\n",
       "      <td>Leptocúrtica</td>\n",
       "    </tr>\n",
       "    <tr>\n",
       "      <th>3</th>\n",
       "      <td>h_num_adultos</td>\n",
       "      <td>1.0609</td>\n",
       "      <td>Alto</td>\n",
       "      <td>4.3739</td>\n",
       "      <td>Leptocúrtica</td>\n",
       "    </tr>\n",
       "    <tr>\n",
       "      <th>4</th>\n",
       "      <td>aa_h_num_adultos</td>\n",
       "      <td>1.0628</td>\n",
       "      <td>Alto</td>\n",
       "      <td>4.2391</td>\n",
       "      <td>Leptocúrtica</td>\n",
       "    </tr>\n",
       "    <tr>\n",
       "      <th>5</th>\n",
       "      <td>h_num_men</td>\n",
       "      <td>16.4259</td>\n",
       "      <td>Alto</td>\n",
       "      <td>604.2444</td>\n",
       "      <td>Leptocúrtica</td>\n",
       "    </tr>\n",
       "    <tr>\n",
       "      <th>6</th>\n",
       "      <td>aa_h_num_men</td>\n",
       "      <td>16.5828</td>\n",
       "      <td>Alto</td>\n",
       "      <td>614.5634</td>\n",
       "      <td>Leptocúrtica</td>\n",
       "    </tr>\n",
       "    <tr>\n",
       "      <th>7</th>\n",
       "      <td>h_num_noches</td>\n",
       "      <td>81.0508</td>\n",
       "      <td>Alto</td>\n",
       "      <td>17178.6148</td>\n",
       "      <td>Leptocúrtica</td>\n",
       "    </tr>\n",
       "    <tr>\n",
       "      <th>8</th>\n",
       "      <td>aa_h_num_noches</td>\n",
       "      <td>82.3390</td>\n",
       "      <td>Alto</td>\n",
       "      <td>17616.8252</td>\n",
       "      <td>Leptocúrtica</td>\n",
       "    </tr>\n",
       "    <tr>\n",
       "      <th>9</th>\n",
       "      <td>h_tot_hab</td>\n",
       "      <td>0.1306</td>\n",
       "      <td>Bajo</td>\n",
       "      <td>-1.2340</td>\n",
       "      <td>Platicúrtica</td>\n",
       "    </tr>\n",
       "    <tr>\n",
       "      <th>10</th>\n",
       "      <td>aa_h_tot_hab</td>\n",
       "      <td>0.1538</td>\n",
       "      <td>Bajo</td>\n",
       "      <td>-1.2441</td>\n",
       "      <td>Platicúrtica</td>\n",
       "    </tr>\n",
       "    <tr>\n",
       "      <th>11</th>\n",
       "      <td>Cliente_Disp</td>\n",
       "      <td>1.0609</td>\n",
       "      <td>Alto</td>\n",
       "      <td>4.3739</td>\n",
       "      <td>Leptocúrtica</td>\n",
       "    </tr>\n",
       "    <tr>\n",
       "      <th>12</th>\n",
       "      <td>aa_Cliente_Disp</td>\n",
       "      <td>1.0628</td>\n",
       "      <td>Alto</td>\n",
       "      <td>4.2391</td>\n",
       "      <td>Leptocúrtica</td>\n",
       "    </tr>\n",
       "    <tr>\n",
       "      <th>13</th>\n",
       "      <td>h_tarifa_total</td>\n",
       "      <td>27.3286</td>\n",
       "      <td>Alto</td>\n",
       "      <td>3696.2260</td>\n",
       "      <td>Leptocúrtica</td>\n",
       "    </tr>\n",
       "  </tbody>\n",
       "</table>\n",
       "</div>"
      ],
      "text/plain": [
       "             Columna     Skew Sesgo    Kurtosis      Curtosis\n",
       "0         ID_Reserva   0.0003  Bajo     -1.2004  Platicúrtica\n",
       "1          h_num_per   1.8039  Alto     17.8581  Leptocúrtica\n",
       "2       aa_h_num_per   1.8137  Alto     17.8871  Leptocúrtica\n",
       "3      h_num_adultos   1.0609  Alto      4.3739  Leptocúrtica\n",
       "4   aa_h_num_adultos   1.0628  Alto      4.2391  Leptocúrtica\n",
       "5          h_num_men  16.4259  Alto    604.2444  Leptocúrtica\n",
       "6       aa_h_num_men  16.5828  Alto    614.5634  Leptocúrtica\n",
       "7       h_num_noches  81.0508  Alto  17178.6148  Leptocúrtica\n",
       "8    aa_h_num_noches  82.3390  Alto  17616.8252  Leptocúrtica\n",
       "9          h_tot_hab   0.1306  Bajo     -1.2340  Platicúrtica\n",
       "10      aa_h_tot_hab   0.1538  Bajo     -1.2441  Platicúrtica\n",
       "11      Cliente_Disp   1.0609  Alto      4.3739  Leptocúrtica\n",
       "12   aa_Cliente_Disp   1.0628  Alto      4.2391  Leptocúrtica\n",
       "13    h_tarifa_total  27.3286  Alto   3696.2260  Leptocúrtica"
      ]
     },
     "execution_count": 97,
     "metadata": {},
     "output_type": "execute_result"
    }
   ],
   "source": [
    "# Lista para resultados\n",
    "results = []\n",
    "\n",
    "for column in df.select_dtypes(include=['int', 'float']).columns:\n",
    "    skewness = stats.skew(df[column])\n",
    "    kurtosis = stats.kurtosis(df[column])\n",
    "\n",
    "    # Sesgo\n",
    "    if abs(skewness) < 0.5:\n",
    "        skewness_level = \"Bajo\"\n",
    "    elif abs(skewness) < 1:\n",
    "        skewness_level = \"Moderado\"\n",
    "    else:\n",
    "        skewness_level = \"Alto\"\n",
    "\n",
    "    # Curtosis\n",
    "    if abs(kurtosis) < 1:\n",
    "        kurtosis_level = \"Mesocúrtica\"\n",
    "    elif kurtosis > 1:\n",
    "        kurtosis_level = \"Leptocúrtica\"\n",
    "    else:\n",
    "        kurtosis_level = \"Platicúrtica\"\n",
    "\n",
    "    results.append({\n",
    "        'Columna': column,\n",
    "        'Skew': round(skewness, 4),\n",
    "        'Sesgo': skewness_level,\n",
    "        'Kurtosis': round(kurtosis, 4),\n",
    "        'Curtosis': kurtosis_level\n",
    "    })\n",
    "\n",
    "# DataFrame\n",
    "sesgo_df = pd.DataFrame(results)\n",
    "\n",
    "# Resultados\n",
    "sesgo_df.head(14)\n"
   ]
  },
  {
   "cell_type": "markdown",
   "id": "88c70647",
   "metadata": {},
   "source": []
  },
  {
   "cell_type": "markdown",
   "id": "32b2c4cc",
   "metadata": {},
   "source": [
    "## Pandas Data Profiling \n",
    "Aplicamos nuevamente esta herramienta después de realizar el análisis"
   ]
  },
  {
   "cell_type": "code",
   "execution_count": 96,
   "id": "2d95a435",
   "metadata": {},
   "outputs": [
    {
     "name": "stderr",
     "output_type": "stream",
     "text": [
      "100%|██████████| 45/45 [00:01<00:00, 38.19it/s]1<00:00, 27.06it/s, Describe variable: h_ult_cam_fec_okt]       \n",
      "Summarize dataset: 100%|██████████| 279/279 [00:22<00:00, 12.36it/s, Completed]                                   \n",
      "Generate report structure: 100%|██████████| 1/1 [00:05<00:00,  5.75s/it]\n",
      "Render HTML: 100%|██████████| 1/1 [00:03<00:00,  3.42s/it]\n",
      "Export report to file: 100%|██████████| 1/1 [00:00<00:00, 30.83it/s]\n"
     ]
    }
   ],
   "source": [
    "profile_report = ProfileReport(df, title=\"Profiling Report Clean\")\n",
    "profile_report.to_file(\"Profile_report_clean.html\")"
   ]
  }
 ],
 "metadata": {
  "kernelspec": {
   "display_name": "Python 3",
   "language": "python",
   "name": "python3"
  },
  "language_info": {
   "codemirror_mode": {
    "name": "ipython",
    "version": 3
   },
   "file_extension": ".py",
   "mimetype": "text/x-python",
   "name": "python",
   "nbconvert_exporter": "python",
   "pygments_lexer": "ipython3",
   "version": "3.11.11"
  }
 },
 "nbformat": 4,
 "nbformat_minor": 5
}
