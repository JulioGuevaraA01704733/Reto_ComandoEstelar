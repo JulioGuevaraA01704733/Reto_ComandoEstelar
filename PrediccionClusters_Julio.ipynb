{
 "cells": [
  {
   "cell_type": "code",
   "execution_count": null,
   "id": "8d070ba8",
   "metadata": {},
   "outputs": [],
   "source": [
    "import pandas as pd\n",
    "from sklearn.model_selection import train_test_split\n",
    "from sklearn.tree import DecisionTreeClassifier\n",
    "from sklearn.metrics import classification_report\n",
    "import joblib\n",
    "import warnings\n",
    "warnings.simplefilter(\"ignore\")"
   ]
  },
  {
   "cell_type": "code",
   "execution_count": 20,
   "id": "dce5a230",
   "metadata": {},
   "outputs": [],
   "source": [
    "df = pd.read_excel(\"C:/workspace/Reto/Datos/df_reducido.xlsx\")"
   ]
  },
  {
   "cell_type": "code",
   "execution_count": 29,
   "id": "13ccef15",
   "metadata": {},
   "outputs": [],
   "source": [
    "cols_class = ['h_num_adu', 'h_num_men', 'h_num_noc', 'h_edo', \n",
    "              'ID_canal', 'h_can_res', 'entre/fin_reservacion', 'ID_Agencia']"
   ]
  },
  {
   "cell_type": "code",
   "execution_count": 30,
   "id": "01b8a46f",
   "metadata": {},
   "outputs": [],
   "source": [
    "df_class = df[cols_class]"
   ]
  },
  {
   "cell_type": "code",
   "execution_count": 31,
   "id": "e8b22382",
   "metadata": {},
   "outputs": [],
   "source": [
    "df_class['mes_reservacion'] = df['h_res_fec'].dt.strftime(\"%B\")\n",
    "df_class['mes_estadia'] = df['h_fec_lld'].dt.strftime(\"%B\")"
   ]
  },
  {
   "cell_type": "code",
   "execution_count": 32,
   "id": "08a1c248",
   "metadata": {},
   "outputs": [],
   "source": [
    "# Supón que 'df' es tu dataframe, y 'target' es la columna objetivo\n",
    "X = df_class\n",
    "y = df['cluster']"
   ]
  },
  {
   "cell_type": "code",
   "execution_count": 33,
   "id": "b0297484",
   "metadata": {},
   "outputs": [
    {
     "name": "stdout",
     "output_type": "stream",
     "text": [
      "              precision    recall  f1-score   support\n",
      "\n",
      "           0       0.89      0.92      0.90      7986\n",
      "           1       0.87      0.85      0.86      5534\n",
      "           2       0.80      0.78      0.79      2785\n",
      "           3       0.77      0.74      0.76      2879\n",
      "\n",
      "    accuracy                           0.85     19184\n",
      "   macro avg       0.83      0.82      0.83     19184\n",
      "weighted avg       0.85      0.85      0.85     19184\n",
      "\n"
     ]
    }
   ],
   "source": [
    "# Codifica las variables categóricas\n",
    "X_encoded = pd.get_dummies(X)\n",
    "\n",
    "# Divide en train/test\n",
    "X_train, X_test, y_train, y_test = train_test_split(X_encoded, y, test_size=0.2, random_state=42)\n",
    "\n",
    "# Entrena el árbol de decisión\n",
    "clf = DecisionTreeClassifier(random_state=42)\n",
    "clf.fit(X_train, y_train)\n",
    "\n",
    "# Evalúa\n",
    "y_pred = clf.predict(X_test)\n",
    "print(classification_report(y_test, y_pred))"
   ]
  },
  {
   "cell_type": "code",
   "execution_count": null,
   "id": "225229d5",
   "metadata": {},
   "outputs": [
    {
     "data": {
      "text/plain": [
       "['clasificador.pkl']"
      ]
     },
     "execution_count": 42,
     "metadata": {},
     "output_type": "execute_result"
    }
   ],
   "source": [
    "# Suponiendo que ya entrenaste un modelo\n",
    "joblib.dump(clf, 'clasificador.pkl')  # Guarda el modelo"
   ]
  }
 ],
 "metadata": {
  "kernelspec": {
   "display_name": "Python 3",
   "language": "python",
   "name": "python3"
  },
  "language_info": {
   "codemirror_mode": {
    "name": "ipython",
    "version": 3
   },
   "file_extension": ".py",
   "mimetype": "text/x-python",
   "name": "python",
   "nbconvert_exporter": "python",
   "pygments_lexer": "ipython3",
   "version": "3.11.3"
  }
 },
 "nbformat": 4,
 "nbformat_minor": 5
}
