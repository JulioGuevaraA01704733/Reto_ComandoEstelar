{
 "cells": [
  {
   "cell_type": "code",
   "execution_count": 4,
   "id": "8d070ba8",
   "metadata": {},
   "outputs": [],
   "source": [
    "import pandas as pd\n",
    "from sklearn.model_selection import train_test_split\n",
    "from sklearn.tree import DecisionTreeClassifier\n",
    "from sklearn.metrics import classification_report\n",
    "import joblib\n",
    "import warnings\n",
    "import pickle\n",
    "warnings.simplefilter(\"ignore\")"
   ]
  },
  {
   "cell_type": "code",
   "execution_count": 12,
   "id": "dce5a230",
   "metadata": {},
   "outputs": [],
   "source": [
    "df = pd.read_excel(\"C:/workspace/Reto/Datos/df_reducido.xlsx\")"
   ]
  },
  {
   "cell_type": "code",
   "execution_count": 40,
   "id": "6433553e",
   "metadata": {},
   "outputs": [
    {
     "data": {
      "text/plain": [
       "Index(['ID_Reserva', 'Fecha_hoy', 'h_res_fec', 'h_num_per', 'aa_h_num_per',\n",
       "       'h_num_adu', 'aa_h_num_adu', 'h_num_men', 'aa_h_num_men', 'h_num_noc',\n",
       "       'aa_h_num_noc', 'h_tot_hab', 'aa_h_tot_hab', 'ID_Programa',\n",
       "       'ID_Paquete', 'ID_Segmento_Comp', 'ID_canal', 'h_fec_lld', 'h_fec_reg',\n",
       "       'h_fec_sda', 'ID_Pais_Origen', 'Reservacion', 'aa_Reservacion',\n",
       "       'ID_estatus_reservaciones', 'h_can_res', 'h_edo', 'h_tfa_total',\n",
       "       'aa_h_tfa_total', 'h_ult_cam_fec', 'dia_reservacion',\n",
       "       'entre/fin_reservacion', 'ID_Agencia', 'ID_Tipo_Habitacion',\n",
       "       'tarifa_x_noche', 'cluster'],\n",
       "      dtype='object')"
      ]
     },
     "execution_count": 40,
     "metadata": {},
     "output_type": "execute_result"
    }
   ],
   "source": [
    "df.columns"
   ]
  },
  {
   "cell_type": "code",
   "execution_count": 59,
   "id": "13ccef15",
   "metadata": {},
   "outputs": [],
   "source": [
    "cols_class = ['h_num_adu', 'h_num_men', 'h_num_noc', 'h_edo', 'ID_Agencia',\n",
    "              'ID_canal', 'h_can_res', 'entre/fin_reservacion']\n",
    "# Dia, id de agencia, estado, h can reservación, h res fecha (solo mes), h fecha llegada(solo mes)"
   ]
  },
  {
   "cell_type": "code",
   "execution_count": 60,
   "id": "01b8a46f",
   "metadata": {},
   "outputs": [],
   "source": [
    "df_class = df[cols_class]"
   ]
  },
  {
   "cell_type": "code",
   "execution_count": 61,
   "id": "e8b22382",
   "metadata": {},
   "outputs": [],
   "source": [
    "df_class['mes_reservacion'] = df['h_res_fec'].dt.strftime(\"%B\")\n",
    "df_class['mes_estadia'] = df['h_fec_lld'].dt.strftime(\"%B\")"
   ]
  },
  {
   "cell_type": "code",
   "execution_count": 62,
   "id": "08a1c248",
   "metadata": {},
   "outputs": [],
   "source": [
    "# Supón que 'df' es tu dataframe, y 'target' es la columna objetivo\n",
    "X = df_class\n",
    "y = df['cluster']"
   ]
  },
  {
   "cell_type": "code",
   "execution_count": 56,
   "id": "e801a382",
   "metadata": {},
   "outputs": [
    {
     "name": "stdout",
     "output_type": "stream",
     "text": [
      "<class 'pandas.core.frame.DataFrame'>\n",
      "RangeIndex: 95918 entries, 0 to 95917\n",
      "Data columns (total 9 columns):\n",
      " #   Column                 Non-Null Count  Dtype \n",
      "---  ------                 --------------  ----- \n",
      " 0   h_num_adu              95918 non-null  int64 \n",
      " 1   h_num_men              95918 non-null  int64 \n",
      " 2   h_num_noc              95918 non-null  int64 \n",
      " 3   h_edo                  95918 non-null  object\n",
      " 4   ID_canal               95918 non-null  int64 \n",
      " 5   h_can_res              95918 non-null  object\n",
      " 6   entre/fin_reservacion  95918 non-null  object\n",
      " 7   mes_reservacion        95918 non-null  object\n",
      " 8   mes_estadia            95918 non-null  object\n",
      "dtypes: int64(4), object(5)\n",
      "memory usage: 6.6+ MB\n"
     ]
    }
   ],
   "source": [
    "df_class.info()"
   ]
  },
  {
   "cell_type": "code",
   "execution_count": 63,
   "id": "b0297484",
   "metadata": {},
   "outputs": [
    {
     "name": "stdout",
     "output_type": "stream",
     "text": [
      "              precision    recall  f1-score   support\n",
      "\n",
      "           0       0.89      0.92      0.90      7986\n",
      "           1       0.87      0.85      0.86      5534\n",
      "           2       0.80      0.78      0.79      2785\n",
      "           3       0.77      0.75      0.76      2879\n",
      "\n",
      "    accuracy                           0.85     19184\n",
      "   macro avg       0.83      0.82      0.83     19184\n",
      "weighted avg       0.85      0.85      0.85     19184\n",
      "\n"
     ]
    }
   ],
   "source": [
    "# Codifica las variables categóricas\n",
    "X_encoded = pd.get_dummies(X)\n",
    "\n",
    "# Divide en train/test\n",
    "X_train, X_test, y_train, y_test = train_test_split(X_encoded, y, test_size=0.2, random_state=42)\n",
    "\n",
    "# Entrena el árbol de decisión\n",
    "clf = DecisionTreeClassifier(random_state=42)\n",
    "clf.fit(X_train, y_train)\n",
    "\n",
    "# Evalúa\n",
    "y_pred = clf.predict(X_test)\n",
    "print(classification_report(y_test, y_pred))"
   ]
  },
  {
   "cell_type": "code",
   "execution_count": 65,
   "id": "ee54bb51",
   "metadata": {},
   "outputs": [],
   "source": [
    "columnas_entrenamiento = X_encoded.columns.tolist()\n",
    "\n",
    "import pickle\n",
    "with open('clasificador.pkl', 'wb') as f:\n",
    "    pickle.dump({\n",
    "        'modelo': clf,\n",
    "        'columnas': columnas_entrenamiento\n",
    "        }, f)"
   ]
  },
  {
   "cell_type": "code",
   "execution_count": 66,
   "id": "8d0d1938",
   "metadata": {},
   "outputs": [],
   "source": [
    "with open('clasificador.pkl', 'rb') as f:\n",
    "    datos_guardados = pickle.load(f)"
   ]
  },
  {
   "cell_type": "code",
   "execution_count": 67,
   "id": "e70f2d1f",
   "metadata": {},
   "outputs": [],
   "source": [
    "modelo = datos_guardados['modelo']\n",
    "columnas_entrenamiento = datos_guardados['columnas']"
   ]
  },
  {
   "cell_type": "code",
   "execution_count": 71,
   "id": "8f2522e8",
   "metadata": {},
   "outputs": [],
   "source": [
    "# Supón que estas eran las variables categóricas originales\n",
    "nuevo_registro = pd.DataFrame([{\n",
    "    'h_num_adu' : 2,\n",
    "    'h_num_men': 1, \n",
    "    'h_num_noc': 7, \n",
    "    'h_edo': 'EMX  ', \n",
    "    'ID_canal': 1, \n",
    "    'h_can_res': '09',\n",
    "    'entre/fin_reservacion': 'Entre semana', \n",
    "    'mes_reservacion': 'March', \n",
    "    'mes_estadia': 'April'\n",
    "}])\n",
    "\n",
    "# Codificarlo igual que durante el entrenamiento\n",
    "nuevo_encoded = pd.get_dummies(nuevo_registro)\n",
    "\n",
    "# Añadir columnas faltantes con 0\n",
    "for col in columnas_entrenamiento:\n",
    "    if col not in nuevo_encoded.columns:\n",
    "        nuevo_encoded[col] = 0\n",
    "\n",
    "# Reordenar para que coincida exactamente\n",
    "nuevo_encoded = nuevo_encoded[columnas_entrenamiento]"
   ]
  },
  {
   "cell_type": "code",
   "execution_count": 72,
   "id": "2d64ae01",
   "metadata": {},
   "outputs": [
    {
     "name": "stdout",
     "output_type": "stream",
     "text": [
      "Predicción: 3\n"
     ]
    }
   ],
   "source": [
    "prediccion = modelo.predict(nuevo_encoded)\n",
    "print(\"Predicción:\", prediccion[0])"
   ]
  }
 ],
 "metadata": {
  "kernelspec": {
   "display_name": "Python 3",
   "language": "python",
   "name": "python3"
  },
  "language_info": {
   "codemirror_mode": {
    "name": "ipython",
    "version": 3
   },
   "file_extension": ".py",
   "mimetype": "text/x-python",
   "name": "python",
   "nbconvert_exporter": "python",
   "pygments_lexer": "ipython3",
   "version": "3.11.3"
  }
 },
 "nbformat": 4,
 "nbformat_minor": 5
}
