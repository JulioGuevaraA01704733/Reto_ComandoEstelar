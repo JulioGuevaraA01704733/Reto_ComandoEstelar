{
  "cells": [
    {
      "cell_type": "code",
      "execution_count": null,
      "metadata": {
        "id": "JWH6o5CcwJu2"
      },
      "outputs": [],
      "source": [
        "import sys\n",
        "import subprocess\n",
        "\n",
        "def install_if_missing(package):\n",
        "    try:\n",
        "        __import__(package)\n",
        "    except ImportError:\n",
        "        subprocess.check_call([sys.executable, \"-m\", \"pip\", \"install\", package])\n",
        "\n",
        "for pkg, mod in [\n",
        "    (\"numpy\", \"numpy\"),\n",
        "    (\"matplotlib\", \"matplotlib\"),\n",
        "    (\"pandas\", \"pandas\"),\n",
        "    (\"scikit-learn\", \"sklearn\"),\n",
        "    (\"seaborn\", \"seaborn\"),\n",
        "    (\"joblib\", \"joblib\"),\n",
        "]:\n",
        "    install_if_missing(pkg)\n",
        "\n",
        "# Librerias\n",
        "import numpy as np\n",
        "import matplotlib.pyplot as plt\n",
        "import pandas as pd\n",
        "from sklearn.model_selection import train_test_split\n",
        "from sklearn.metrics import classification_report, confusion_matrix\n",
        "import seaborn as sns\n",
        "import pickle\n",
        "import joblib\n",
        "from sklearn.preprocessing import LabelEncoder"
      ]
    },
    {
      "cell_type": "code",
      "source": [
        "print(\"NumPy version:\", np.__version__)\n",
        "print(\"Pandas version:\", pd.__version__)\n",
        "print(\"Scikit-learn version:\", sklearn.__version__)\n",
        "print(\"Seaborn version:\", sns.__version__)\n",
        "print(\"Joblib version:\", joblib.__version__)"
      ],
      "metadata": {
        "colab": {
          "base_uri": "https://localhost:8080/"
        },
        "id": "2MevUAGTokuo",
        "outputId": "38b944fc-af07-4a31-8ad2-e237f95ea1ec"
      },
      "execution_count": null,
      "outputs": [
        {
          "output_type": "stream",
          "name": "stdout",
          "text": [
            "NumPy version: 2.0.2\n",
            "Pandas version: 2.2.2\n",
            "Scikit-learn version: 1.7.0\n",
            "Seaborn version: 0.13.2\n",
            "Joblib version: 1.5.1\n"
          ]
        }
      ]
    },
    {
      "cell_type": "code",
      "source": [
        "from sklearn.preprocessing import OneHotEncoder, StandardScaler\n",
        "from sklearn.compose import ColumnTransformer\n",
        "from sklearn.pipeline import Pipeline"
      ],
      "metadata": {
        "id": "f7TA4-TyspaH"
      },
      "execution_count": null,
      "outputs": []
    },
    {
      "cell_type": "code",
      "execution_count": null,
      "metadata": {
        "id": "urU4cm3g9p59"
      },
      "outputs": [],
      "source": [
        "from sklearn.preprocessing import StandardScaler, label_binarize\n",
        "from sklearn.ensemble import RandomForestClassifier\n",
        "import matplotlib.pyplot as plt\n",
        "from itertools import cycle\n",
        "from sklearn.metrics import accuracy_score, f1_score, classification_report, confusion_matrix, ConfusionMatrixDisplay"
      ]
    },
    {
      "cell_type": "code",
      "execution_count": null,
      "metadata": {
        "id": "qiXSKUD2qsAr"
      },
      "outputs": [],
      "source": [
        "def get_numeric_and_categorical_columns(df, numeric_as_category = None):\n",
        "    \"\"\"\n",
        "    Distingue entre columnas numéricas y categóricas de un DataFrame,\n",
        "    permitiendo especificar columnas numéricas que deben tratarse como categóricas.\n",
        "\n",
        "    Parámetros:\n",
        "        df (pd.DataFrame): El DataFrame a analizar.\n",
        "        numeric_as_category (list, opcional): Lista de columnas numéricas a tratar como categóricas.\n",
        "\n",
        "    Returns:\n",
        "        tuple: (lista de columnas numéricas, lista de columnas categóricas)\n",
        "    \"\"\"\n",
        "    if numeric_as_category is None:\n",
        "        numeric_as_category = []\n",
        "    numeric_cols = df.select_dtypes(include=[np.number]).columns.difference(numeric_as_category).tolist()\n",
        "    categorical_cols = df.select_dtypes(include=['object', 'category']).columns.union(numeric_as_category).tolist()\n",
        "    return numeric_cols, categorical_cols"
      ]
    },
    {
      "cell_type": "code",
      "execution_count": null,
      "metadata": {
        "id": "zRsY_72JqsAs"
      },
      "outputs": [],
      "source": [
        "def desglose_fechas(df, columna_fecha, tipo, sufijo):\n",
        "    \"\"\"\n",
        "    Agrega una columna al DataFrame con el nombre del día o del mes extraído de una columna de fechas.\n",
        "\n",
        "    Parámetros:\n",
        "        df (pd.DataFrame): El DataFrame a modificar.\n",
        "        columna_fecha (str): Nombre de la columna de tipo datetime.\n",
        "        sufijo (str): Sufijo para la nueva columna (ej. 'reservacion', 'entrada', etc).\n",
        "        tipo (str): 'dia' para día de la semana, 'mes' para mes. Default: 'dia'.\n",
        "    \"\"\"\n",
        "    if columna_fecha not in df.columns:\n",
        "        print(f\"La columna '{columna_fecha}' no existe en el DataFrame.\")\n",
        "        return\n",
        "\n",
        "    if tipo == 'dia':\n",
        "        df[f'dia_{sufijo}'] = df[columna_fecha].dt.day_name()\n",
        "    elif tipo == 'mes':\n",
        "        df[f'mes_{sufijo}'] = df[columna_fecha].dt.month_name()\n",
        "    else:\n",
        "        print(\"El parámetro 'tipo' debe ser 'dia' o 'mes'.\")\n"
      ]
    },
    {
      "cell_type": "code",
      "execution_count": null,
      "metadata": {
        "id": "iG0akHgWqvcj",
        "colab": {
          "base_uri": "https://localhost:8080/"
        },
        "outputId": "15d04b44-8c9d-4525-ecf8-72e26e7cf3f1"
      },
      "outputs": [
        {
          "output_type": "execute_result",
          "data": {
            "text/plain": [
              "(88089, 27)"
            ]
          },
          "metadata": {},
          "execution_count": 57
        }
      ],
      "source": [
        "# Cargar data\n",
        "df = pd.read_csv('df_gmm.csv')\n",
        "df.shape\n",
        "# Columnas a utilizar\n",
        "#df = df[['ID_Paquete', 'h_can_res', 'h_res_fec', 'h_num_adu', 'h_num_noc', 'ID_Tipo_Habitacion', 'cluster_gmm']] # 'h_fec_lld',"
      ]
    },
    {
      "cell_type": "code",
      "execution_count": null,
      "metadata": {
        "id": "STR5nXqYqsAt"
      },
      "outputs": [],
      "source": [
        "df = df[['h_res_fec', 'h_fec_lld', 'h_num_adu', 'h_num_men', 'h_num_noc', 'ID_Tipo_Habitacion', 'ID_Paquete', 'h_can_res', 'cluster_gmm']]"
      ]
    },
    {
      "cell_type": "code",
      "source": [
        "df['h_res_fec'] = pd.to_datetime(df['h_res_fec'])\n",
        "df['h_fec_lld'] = pd.to_datetime(df['h_fec_lld'])\n",
        "df['ID_Tipo_Habitacion'] = df['ID_Tipo_Habitacion'].replace('Otro', '0')\n",
        "df['h_can_res'] = df['h_can_res'].replace('DI', '05')"
      ],
      "metadata": {
        "id": "AGsULV-Stswu"
      },
      "execution_count": null,
      "outputs": []
    },
    {
      "cell_type": "code",
      "source": [
        "desglose_fechas(df, 'h_res_fec', 'dia', 'reservacion')\n",
        "desglose_fechas(df, 'h_fec_lld', 'dia', 'entrada')\n",
        "desglose_fechas(df, 'h_res_fec', 'mes', 'reservacion')\n",
        "desglose_fechas(df, 'h_fec_lld', 'mes', 'entrada')\n",
        "df.drop(columns=['h_res_fec', 'h_fec_lld'], inplace=True)"
      ],
      "metadata": {
        "id": "LHbPkhVdtU0L"
      },
      "execution_count": null,
      "outputs": []
    },
    {
      "cell_type": "code",
      "source": [
        "# Preparación: Variables cíclicas\n",
        "# Ciclicidad de días de la semana\n",
        "day_map = {\n",
        "    'Monday': 0, 'Tuesday': 1, 'Wednesday': 2, 'Thursday': 3,\n",
        "    'Friday': 4, 'Saturday': 5, 'Sunday': 6\n",
        "}\n",
        "\n",
        "df['dia_reservacion'] = df['dia_reservacion'].map(day_map).astype(int)\n",
        "df['dia_entrada'] = df['dia_entrada'].map(day_map).astype(int)\n",
        "\n",
        "\n",
        "# Ciclicidad de meses del año\n",
        "mes_map = {\n",
        "    'January': 0, 'February': 1, 'March': 2, 'April': 3,\n",
        "    'May': 4, 'June': 5, 'July': 6, 'August': 7,\n",
        "    'September': 8, 'October': 9, 'November': 10, 'December': 11\n",
        "}\n",
        "\n",
        "df['mes_reservacion'] = df['mes_reservacion'].map(mes_map)\n",
        "df['mes_entrada'] = df['mes_entrada'].map(mes_map)"
      ],
      "metadata": {
        "id": "IXxYvH1KuRD_"
      },
      "execution_count": null,
      "outputs": []
    },
    {
      "cell_type": "code",
      "source": [
        "numerical_cols, categorical_cols = get_numeric_and_categorical_columns(df, numeric_as_category=['ID_Paquete', 'cluster_gmm', 'mes_entrada', 'mes_reservacion', 'dia_entrada', 'dia_reservacion'])"
      ],
      "metadata": {
        "id": "rWzao5sErU0l"
      },
      "execution_count": null,
      "outputs": []
    },
    {
      "cell_type": "code",
      "source": [
        "numerical_cols, categorical_cols"
      ],
      "metadata": {
        "id": "NQCT8QonuVyp",
        "colab": {
          "base_uri": "https://localhost:8080/"
        },
        "outputId": "a566ed24-f2ca-4ac7-cec8-d15b1b7df39d"
      },
      "execution_count": null,
      "outputs": [
        {
          "output_type": "execute_result",
          "data": {
            "text/plain": [
              "(['h_num_adu', 'h_num_men', 'h_num_noc'],\n",
              " ['ID_Paquete',\n",
              "  'ID_Tipo_Habitacion',\n",
              "  'cluster_gmm',\n",
              "  'dia_entrada',\n",
              "  'dia_reservacion',\n",
              "  'h_can_res',\n",
              "  'mes_entrada',\n",
              "  'mes_reservacion'])"
            ]
          },
          "metadata": {},
          "execution_count": 63
        }
      ]
    },
    {
      "cell_type": "code",
      "source": [
        "df = df[numerical_cols + categorical_cols]"
      ],
      "metadata": {
        "id": "lpceoFHQrtZM"
      },
      "execution_count": null,
      "outputs": []
    },
    {
      "cell_type": "code",
      "source": [
        "# Cardinalidad\n",
        "\n",
        "import pandas as pd\n",
        "# Obtener los 2 valores más frecuentes para 'ID_Tipo_Habitacion'\n",
        "top2_habitacion = df['ID_Tipo_Habitacion'].value_counts().nlargest(2).index.tolist()\n",
        "\n",
        "# Reemplazar los valores que no están en top2 con 'Otro_Habitacion'\n",
        "df['ID_Tipo_Habitacion'] = df['ID_Tipo_Habitacion'].apply(lambda x: x if x in top2_habitacion else 'Otro_Habitacion')\n",
        "\n",
        "# Convertir 'h_can_res' a numérico para poder encontrar los 2 valores más frecuentes numéricamente\n",
        "df['h_can_res_numeric'] = pd.to_numeric(df['h_can_res'], errors='coerce')\n",
        "\n",
        "# Obtener los 2 valores más frecuentes para 'h_can_res' (usando la columna numérica)\n",
        "top2_res = df['h_can_res_numeric'].dropna().value_counts().nlargest(2).index.tolist()\n",
        "\n",
        "# Convertir los valores numéricos de top2_res de vuelta a string para compararlos con la columna original 'h_can_res'\n",
        "top2_res_str = [str(int(x)) for x in top2_res]\n",
        "\n",
        "# Reemplazar los valores en 'h_can_res' que no están en top2 con 'Otro_Res'\n",
        "df['h_can_res'] = df['h_can_res'].apply(lambda x: x if str(x) in top2_res_str else 'Otro_Res')\n",
        "\n",
        "# Eliminar la columna temporal numérica\n",
        "df.drop(columns=['h_can_res_numeric'], inplace=True)\n",
        "\n",
        "# Actualizar las listas de columnas numéricas y categóricas después de la modificación\n",
        "numerical_cols, categorical_cols = get_numeric_and_categorical_columns(df, numeric_as_category=['ID_Paquete', 'cluster_gmm', 'mes_entrada', 'mes_reservacion', 'dia_entrada', 'dia_reservacion', 'ID_Tipo_Habitacion', 'h_can_res'])\n",
        "numerical_cols, categorical_cols\n",
        "df = df[numerical_cols + categorical_cols]\n",
        "df.dtypes"
      ],
      "metadata": {
        "id": "fV_J-gIby35G",
        "colab": {
          "base_uri": "https://localhost:8080/",
          "height": 429
        },
        "outputId": "f37bb254-ef86-4dec-fcf3-f5c6a43180c6"
      },
      "execution_count": null,
      "outputs": [
        {
          "output_type": "execute_result",
          "data": {
            "text/plain": [
              "h_num_adu              int64\n",
              "h_num_men              int64\n",
              "h_num_noc              int64\n",
              "ID_Paquete             int64\n",
              "ID_Tipo_Habitacion    object\n",
              "cluster_gmm            int64\n",
              "dia_entrada            int64\n",
              "dia_reservacion        int64\n",
              "h_can_res             object\n",
              "mes_entrada            int64\n",
              "mes_reservacion        int64\n",
              "dtype: object"
            ],
            "text/html": [
              "<div>\n",
              "<style scoped>\n",
              "    .dataframe tbody tr th:only-of-type {\n",
              "        vertical-align: middle;\n",
              "    }\n",
              "\n",
              "    .dataframe tbody tr th {\n",
              "        vertical-align: top;\n",
              "    }\n",
              "\n",
              "    .dataframe thead th {\n",
              "        text-align: right;\n",
              "    }\n",
              "</style>\n",
              "<table border=\"1\" class=\"dataframe\">\n",
              "  <thead>\n",
              "    <tr style=\"text-align: right;\">\n",
              "      <th></th>\n",
              "      <th>0</th>\n",
              "    </tr>\n",
              "  </thead>\n",
              "  <tbody>\n",
              "    <tr>\n",
              "      <th>h_num_adu</th>\n",
              "      <td>int64</td>\n",
              "    </tr>\n",
              "    <tr>\n",
              "      <th>h_num_men</th>\n",
              "      <td>int64</td>\n",
              "    </tr>\n",
              "    <tr>\n",
              "      <th>h_num_noc</th>\n",
              "      <td>int64</td>\n",
              "    </tr>\n",
              "    <tr>\n",
              "      <th>ID_Paquete</th>\n",
              "      <td>int64</td>\n",
              "    </tr>\n",
              "    <tr>\n",
              "      <th>ID_Tipo_Habitacion</th>\n",
              "      <td>object</td>\n",
              "    </tr>\n",
              "    <tr>\n",
              "      <th>cluster_gmm</th>\n",
              "      <td>int64</td>\n",
              "    </tr>\n",
              "    <tr>\n",
              "      <th>dia_entrada</th>\n",
              "      <td>int64</td>\n",
              "    </tr>\n",
              "    <tr>\n",
              "      <th>dia_reservacion</th>\n",
              "      <td>int64</td>\n",
              "    </tr>\n",
              "    <tr>\n",
              "      <th>h_can_res</th>\n",
              "      <td>object</td>\n",
              "    </tr>\n",
              "    <tr>\n",
              "      <th>mes_entrada</th>\n",
              "      <td>int64</td>\n",
              "    </tr>\n",
              "    <tr>\n",
              "      <th>mes_reservacion</th>\n",
              "      <td>int64</td>\n",
              "    </tr>\n",
              "  </tbody>\n",
              "</table>\n",
              "</div><br><label><b>dtype:</b> object</label>"
            ]
          },
          "metadata": {},
          "execution_count": 65
        }
      ]
    },
    {
      "cell_type": "markdown",
      "source": [
        "# SVM"
      ],
      "metadata": {
        "id": "xkPT5BA_-T24"
      }
    },
    {
      "cell_type": "code",
      "source": [
        "df.head(1)"
      ],
      "metadata": {
        "id": "dbtMBVFBhXx7",
        "colab": {
          "base_uri": "https://localhost:8080/",
          "height": 81
        },
        "outputId": "2d306846-7ca7-49b7-eff9-f69b388f4f97"
      },
      "execution_count": null,
      "outputs": [
        {
          "output_type": "execute_result",
          "data": {
            "text/plain": [
              "   h_num_adu  h_num_men  h_num_noc  ID_Paquete ID_Tipo_Habitacion  \\\n",
              "0          2          0          3           1    Otro_Habitacion   \n",
              "\n",
              "   cluster_gmm  dia_entrada  dia_reservacion h_can_res  mes_entrada  \\\n",
              "0            2            3                4  Otro_Res           10   \n",
              "\n",
              "   mes_reservacion  \n",
              "0                7  "
            ],
            "text/html": [
              "\n",
              "  <div id=\"df-b0eb8815-69c5-448b-b67b-35c7bfafe56f\" class=\"colab-df-container\">\n",
              "    <div>\n",
              "<style scoped>\n",
              "    .dataframe tbody tr th:only-of-type {\n",
              "        vertical-align: middle;\n",
              "    }\n",
              "\n",
              "    .dataframe tbody tr th {\n",
              "        vertical-align: top;\n",
              "    }\n",
              "\n",
              "    .dataframe thead th {\n",
              "        text-align: right;\n",
              "    }\n",
              "</style>\n",
              "<table border=\"1\" class=\"dataframe\">\n",
              "  <thead>\n",
              "    <tr style=\"text-align: right;\">\n",
              "      <th></th>\n",
              "      <th>h_num_adu</th>\n",
              "      <th>h_num_men</th>\n",
              "      <th>h_num_noc</th>\n",
              "      <th>ID_Paquete</th>\n",
              "      <th>ID_Tipo_Habitacion</th>\n",
              "      <th>cluster_gmm</th>\n",
              "      <th>dia_entrada</th>\n",
              "      <th>dia_reservacion</th>\n",
              "      <th>h_can_res</th>\n",
              "      <th>mes_entrada</th>\n",
              "      <th>mes_reservacion</th>\n",
              "    </tr>\n",
              "  </thead>\n",
              "  <tbody>\n",
              "    <tr>\n",
              "      <th>0</th>\n",
              "      <td>2</td>\n",
              "      <td>0</td>\n",
              "      <td>3</td>\n",
              "      <td>1</td>\n",
              "      <td>Otro_Habitacion</td>\n",
              "      <td>2</td>\n",
              "      <td>3</td>\n",
              "      <td>4</td>\n",
              "      <td>Otro_Res</td>\n",
              "      <td>10</td>\n",
              "      <td>7</td>\n",
              "    </tr>\n",
              "  </tbody>\n",
              "</table>\n",
              "</div>\n",
              "    <div class=\"colab-df-buttons\">\n",
              "\n",
              "  <div class=\"colab-df-container\">\n",
              "    <button class=\"colab-df-convert\" onclick=\"convertToInteractive('df-b0eb8815-69c5-448b-b67b-35c7bfafe56f')\"\n",
              "            title=\"Convert this dataframe to an interactive table.\"\n",
              "            style=\"display:none;\">\n",
              "\n",
              "  <svg xmlns=\"http://www.w3.org/2000/svg\" height=\"24px\" viewBox=\"0 -960 960 960\">\n",
              "    <path d=\"M120-120v-720h720v720H120Zm60-500h600v-160H180v160Zm220 220h160v-160H400v160Zm0 220h160v-160H400v160ZM180-400h160v-160H180v160Zm440 0h160v-160H620v160ZM180-180h160v-160H180v160Zm440 0h160v-160H620v160Z\"/>\n",
              "  </svg>\n",
              "    </button>\n",
              "\n",
              "  <style>\n",
              "    .colab-df-container {\n",
              "      display:flex;\n",
              "      gap: 12px;\n",
              "    }\n",
              "\n",
              "    .colab-df-convert {\n",
              "      background-color: #E8F0FE;\n",
              "      border: none;\n",
              "      border-radius: 50%;\n",
              "      cursor: pointer;\n",
              "      display: none;\n",
              "      fill: #1967D2;\n",
              "      height: 32px;\n",
              "      padding: 0 0 0 0;\n",
              "      width: 32px;\n",
              "    }\n",
              "\n",
              "    .colab-df-convert:hover {\n",
              "      background-color: #E2EBFA;\n",
              "      box-shadow: 0px 1px 2px rgba(60, 64, 67, 0.3), 0px 1px 3px 1px rgba(60, 64, 67, 0.15);\n",
              "      fill: #174EA6;\n",
              "    }\n",
              "\n",
              "    .colab-df-buttons div {\n",
              "      margin-bottom: 4px;\n",
              "    }\n",
              "\n",
              "    [theme=dark] .colab-df-convert {\n",
              "      background-color: #3B4455;\n",
              "      fill: #D2E3FC;\n",
              "    }\n",
              "\n",
              "    [theme=dark] .colab-df-convert:hover {\n",
              "      background-color: #434B5C;\n",
              "      box-shadow: 0px 1px 3px 1px rgba(0, 0, 0, 0.15);\n",
              "      filter: drop-shadow(0px 1px 2px rgba(0, 0, 0, 0.3));\n",
              "      fill: #FFFFFF;\n",
              "    }\n",
              "  </style>\n",
              "\n",
              "    <script>\n",
              "      const buttonEl =\n",
              "        document.querySelector('#df-b0eb8815-69c5-448b-b67b-35c7bfafe56f button.colab-df-convert');\n",
              "      buttonEl.style.display =\n",
              "        google.colab.kernel.accessAllowed ? 'block' : 'none';\n",
              "\n",
              "      async function convertToInteractive(key) {\n",
              "        const element = document.querySelector('#df-b0eb8815-69c5-448b-b67b-35c7bfafe56f');\n",
              "        const dataTable =\n",
              "          await google.colab.kernel.invokeFunction('convertToInteractive',\n",
              "                                                    [key], {});\n",
              "        if (!dataTable) return;\n",
              "\n",
              "        const docLinkHtml = 'Like what you see? Visit the ' +\n",
              "          '<a target=\"_blank\" href=https://colab.research.google.com/notebooks/data_table.ipynb>data table notebook</a>'\n",
              "          + ' to learn more about interactive tables.';\n",
              "        element.innerHTML = '';\n",
              "        dataTable['output_type'] = 'display_data';\n",
              "        await google.colab.output.renderOutput(dataTable, element);\n",
              "        const docLink = document.createElement('div');\n",
              "        docLink.innerHTML = docLinkHtml;\n",
              "        element.appendChild(docLink);\n",
              "      }\n",
              "    </script>\n",
              "  </div>\n",
              "\n",
              "\n",
              "    </div>\n",
              "  </div>\n"
            ],
            "application/vnd.google.colaboratory.intrinsic+json": {
              "type": "dataframe",
              "variable_name": "df",
              "summary": "{\n  \"name\": \"df\",\n  \"rows\": 88089,\n  \"fields\": [\n    {\n      \"column\": \"h_num_adu\",\n      \"properties\": {\n        \"dtype\": \"number\",\n        \"std\": 0,\n        \"min\": 1,\n        \"max\": 15,\n        \"num_unique_values\": 15,\n        \"samples\": [\n          15,\n          11,\n          2\n        ],\n        \"semantic_type\": \"\",\n        \"description\": \"\"\n      }\n    },\n    {\n      \"column\": \"h_num_men\",\n      \"properties\": {\n        \"dtype\": \"number\",\n        \"std\": 0,\n        \"min\": 0,\n        \"max\": 15,\n        \"num_unique_values\": 10,\n        \"samples\": [\n          15,\n          2,\n          5\n        ],\n        \"semantic_type\": \"\",\n        \"description\": \"\"\n      }\n    },\n    {\n      \"column\": \"h_num_noc\",\n      \"properties\": {\n        \"dtype\": \"number\",\n        \"std\": 1,\n        \"min\": 1,\n        \"max\": 28,\n        \"num_unique_values\": 19,\n        \"samples\": [\n          3,\n          5,\n          14\n        ],\n        \"semantic_type\": \"\",\n        \"description\": \"\"\n      }\n    },\n    {\n      \"column\": \"ID_Paquete\",\n      \"properties\": {\n        \"dtype\": \"number\",\n        \"std\": 0,\n        \"min\": 1,\n        \"max\": 5,\n        \"num_unique_values\": 4,\n        \"samples\": [\n          2,\n          3,\n          1\n        ],\n        \"semantic_type\": \"\",\n        \"description\": \"\"\n      }\n    },\n    {\n      \"column\": \"ID_Tipo_Habitacion\",\n      \"properties\": {\n        \"dtype\": \"category\",\n        \"num_unique_values\": 3,\n        \"samples\": [\n          \"Otro_Habitacion\",\n          \"4\",\n          \"19\"\n        ],\n        \"semantic_type\": \"\",\n        \"description\": \"\"\n      }\n    },\n    {\n      \"column\": \"cluster_gmm\",\n      \"properties\": {\n        \"dtype\": \"number\",\n        \"std\": 0,\n        \"min\": 0,\n        \"max\": 3,\n        \"num_unique_values\": 4,\n        \"samples\": [\n          1,\n          0,\n          2\n        ],\n        \"semantic_type\": \"\",\n        \"description\": \"\"\n      }\n    },\n    {\n      \"column\": \"dia_entrada\",\n      \"properties\": {\n        \"dtype\": \"number\",\n        \"std\": 1,\n        \"min\": 0,\n        \"max\": 6,\n        \"num_unique_values\": 7,\n        \"samples\": [\n          3,\n          6,\n          0\n        ],\n        \"semantic_type\": \"\",\n        \"description\": \"\"\n      }\n    },\n    {\n      \"column\": \"dia_reservacion\",\n      \"properties\": {\n        \"dtype\": \"number\",\n        \"std\": 1,\n        \"min\": 0,\n        \"max\": 6,\n        \"num_unique_values\": 7,\n        \"samples\": [\n          4,\n          1,\n          3\n        ],\n        \"semantic_type\": \"\",\n        \"description\": \"\"\n      }\n    },\n    {\n      \"column\": \"h_can_res\",\n      \"properties\": {\n        \"dtype\": \"category\",\n        \"num_unique_values\": 1,\n        \"samples\": [\n          \"Otro_Res\"\n        ],\n        \"semantic_type\": \"\",\n        \"description\": \"\"\n      }\n    },\n    {\n      \"column\": \"mes_entrada\",\n      \"properties\": {\n        \"dtype\": \"number\",\n        \"std\": 3,\n        \"min\": 0,\n        \"max\": 11,\n        \"num_unique_values\": 12,\n        \"samples\": [\n          1\n        ],\n        \"semantic_type\": \"\",\n        \"description\": \"\"\n      }\n    },\n    {\n      \"column\": \"mes_reservacion\",\n      \"properties\": {\n        \"dtype\": \"number\",\n        \"std\": 3,\n        \"min\": 0,\n        \"max\": 11,\n        \"num_unique_values\": 12,\n        \"samples\": [\n          8\n        ],\n        \"semantic_type\": \"\",\n        \"description\": \"\"\n      }\n    }\n  ]\n}"
            }
          },
          "metadata": {},
          "execution_count": 66
        }
      ]
    },
    {
      "cell_type": "code",
      "source": [
        "df.dtypes"
      ],
      "metadata": {
        "id": "zc8aoRZd3-Pn",
        "colab": {
          "base_uri": "https://localhost:8080/",
          "height": 429
        },
        "outputId": "4fe0d27a-bb5e-4a9d-df42-7a6ba219839d"
      },
      "execution_count": null,
      "outputs": [
        {
          "output_type": "execute_result",
          "data": {
            "text/plain": [
              "h_num_adu              int64\n",
              "h_num_men              int64\n",
              "h_num_noc              int64\n",
              "ID_Paquete             int64\n",
              "ID_Tipo_Habitacion    object\n",
              "cluster_gmm            int64\n",
              "dia_entrada            int64\n",
              "dia_reservacion        int64\n",
              "h_can_res             object\n",
              "mes_entrada            int64\n",
              "mes_reservacion        int64\n",
              "dtype: object"
            ],
            "text/html": [
              "<div>\n",
              "<style scoped>\n",
              "    .dataframe tbody tr th:only-of-type {\n",
              "        vertical-align: middle;\n",
              "    }\n",
              "\n",
              "    .dataframe tbody tr th {\n",
              "        vertical-align: top;\n",
              "    }\n",
              "\n",
              "    .dataframe thead th {\n",
              "        text-align: right;\n",
              "    }\n",
              "</style>\n",
              "<table border=\"1\" class=\"dataframe\">\n",
              "  <thead>\n",
              "    <tr style=\"text-align: right;\">\n",
              "      <th></th>\n",
              "      <th>0</th>\n",
              "    </tr>\n",
              "  </thead>\n",
              "  <tbody>\n",
              "    <tr>\n",
              "      <th>h_num_adu</th>\n",
              "      <td>int64</td>\n",
              "    </tr>\n",
              "    <tr>\n",
              "      <th>h_num_men</th>\n",
              "      <td>int64</td>\n",
              "    </tr>\n",
              "    <tr>\n",
              "      <th>h_num_noc</th>\n",
              "      <td>int64</td>\n",
              "    </tr>\n",
              "    <tr>\n",
              "      <th>ID_Paquete</th>\n",
              "      <td>int64</td>\n",
              "    </tr>\n",
              "    <tr>\n",
              "      <th>ID_Tipo_Habitacion</th>\n",
              "      <td>object</td>\n",
              "    </tr>\n",
              "    <tr>\n",
              "      <th>cluster_gmm</th>\n",
              "      <td>int64</td>\n",
              "    </tr>\n",
              "    <tr>\n",
              "      <th>dia_entrada</th>\n",
              "      <td>int64</td>\n",
              "    </tr>\n",
              "    <tr>\n",
              "      <th>dia_reservacion</th>\n",
              "      <td>int64</td>\n",
              "    </tr>\n",
              "    <tr>\n",
              "      <th>h_can_res</th>\n",
              "      <td>object</td>\n",
              "    </tr>\n",
              "    <tr>\n",
              "      <th>mes_entrada</th>\n",
              "      <td>int64</td>\n",
              "    </tr>\n",
              "    <tr>\n",
              "      <th>mes_reservacion</th>\n",
              "      <td>int64</td>\n",
              "    </tr>\n",
              "  </tbody>\n",
              "</table>\n",
              "</div><br><label><b>dtype:</b> object</label>"
            ]
          },
          "metadata": {},
          "execution_count": 67
        }
      ]
    },
    {
      "cell_type": "code",
      "source": [
        "import pandas as pd\n",
        "from sklearn.model_selection import train_test_split\n",
        "from sklearn.compose import ColumnTransformer\n",
        "from sklearn.preprocessing import StandardScaler, OneHotEncoder\n",
        "from sklearn.svm import SVC\n",
        "from sklearn.pipeline import Pipeline\n",
        "from sklearn.metrics import classification_report\n",
        "\n",
        "# Separar variables predictoras y etiquetas\n",
        "X = df.drop(columns=['cluster_gmm'])\n",
        "y = df['cluster_gmm']\n",
        "\n",
        "# Preprocesamiento\n",
        "preprocessor = ColumnTransformer(transformers=[\n",
        "    ('num', StandardScaler(), ['h_num_adu', 'h_num_men', 'h_num_noc']),\n",
        "    ('cat', OneHotEncoder(handle_unknown='ignore'), ['ID_Paquete', 'dia_entrada', 'dia_reservacion', 'mes_entrada', 'mes_reservacion', 'ID_Tipo_Habitacion', 'h_can_res'])\n",
        "])\n",
        "\n",
        "# Modelo SVM\n",
        "model = Pipeline(steps=[\n",
        "    ('preprocessing', preprocessor),\n",
        "    ('classifier', SVC(kernel='rbf', C=1.0, gamma='scale', decision_function_shape='ovo'))\n",
        "])\n",
        "\n",
        "# División del conjunto\n",
        "X_train, X_test, y_train, y_test = train_test_split(X, y, test_size=0.2, random_state=42)\n",
        "\n",
        "# Entrenamiento\n",
        "model.fit(X_train, y_train)\n",
        "\n",
        "# Evaluación\n",
        "y_pred = model.predict(X_test)\n",
        "print(classification_report(y_test, y_pred))"
      ],
      "metadata": {
        "id": "AciECprJ6UCQ",
        "colab": {
          "base_uri": "https://localhost:8080/"
        },
        "outputId": "e33733a4-902e-48f5-b7cd-7955212e4e42"
      },
      "execution_count": null,
      "outputs": [
        {
          "output_type": "stream",
          "name": "stdout",
          "text": [
            "              precision    recall  f1-score   support\n",
            "\n",
            "           0       0.95      0.97      0.96      2442\n",
            "           1       0.93      0.91      0.92      1371\n",
            "           2       1.00      1.00      1.00     13034\n",
            "           3       1.00      1.00      1.00       771\n",
            "\n",
            "    accuracy                           0.99     17618\n",
            "   macro avg       0.97      0.97      0.97     17618\n",
            "weighted avg       0.99      0.99      0.99     17618\n",
            "\n"
          ]
        }
      ]
    },
    {
      "cell_type": "code",
      "source": [
        "joblib.dump(model, 'svm_model.pkl')"
      ],
      "metadata": {
        "id": "C1ZKodg874Sy",
        "colab": {
          "base_uri": "https://localhost:8080/"
        },
        "outputId": "957d7042-9f68-43c9-bd5e-d20667fe3fee"
      },
      "execution_count": null,
      "outputs": [
        {
          "output_type": "execute_result",
          "data": {
            "text/plain": [
              "['svm_model.pkl']"
            ]
          },
          "metadata": {},
          "execution_count": 69
        }
      ]
    },
    {
      "cell_type": "code",
      "source": [
        "# Matriz de confusión\n",
        "cm = confusion_matrix(y_test, y_pred)\n",
        "disp = ConfusionMatrixDisplay(confusion_matrix=cm)\n",
        "disp.plot(cmap='Purples')\n",
        "plt.title(\"Matriz de Confusión\")\n",
        "plt.grid(False)\n",
        "plt.tight_layout()\n",
        "plt.show()"
      ],
      "metadata": {
        "id": "5KS4qAus_bg5",
        "colab": {
          "base_uri": "https://localhost:8080/",
          "height": 487
        },
        "outputId": "0c359efb-8ff8-46b3-d497-155beeff67ee"
      },
      "execution_count": null,
      "outputs": [
        {
          "output_type": "display_data",
          "data": {
            "text/plain": [
              "<Figure size 640x480 with 2 Axes>"
            ],
            "image/png": "[encoded data removed]"
          },
          "metadata": {}
        }
      ]
    }
  ],
  "metadata": {
    "colab": {
      "provenance": []
    },
    "kernelspec": {
      "display_name": "Python 3",
      "name": "python3"
    },
    "language_info": {
      "codemirror_mode": {
        "name": "ipython",
        "version": 3
      },
      "file_extension": ".py",
      "mimetype": "text/x-python",
      "name": "python",
      "nbconvert_exporter": "python",
      "pygments_lexer": "ipython3",
      "version": "3.11.5"
    }
  },
  "nbformat": 4,
  "nbformat_minor": 0
}
