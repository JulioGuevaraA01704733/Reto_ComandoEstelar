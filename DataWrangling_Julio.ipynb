{
 "cells": [
  {
   "cell_type": "code",
   "execution_count": 1,
   "id": "f776eac0",
   "metadata": {},
   "outputs": [],
   "source": [
    "import pandas as pd\n",
    "import numpy as np\n",
    "import matplotlib.pyplot as plt\n",
    "from itertools import combinations\n",
    "import warnings"
   ]
  },
  {
   "cell_type": "code",
   "execution_count": 2,
   "id": "9c958590",
   "metadata": {},
   "outputs": [],
   "source": [
    "warnings.simplefilter(\"ignore\")"
   ]
  },
  {
   "cell_type": "code",
   "execution_count": 3,
   "id": "af16cf6e",
   "metadata": {},
   "outputs": [],
   "source": [
    "df = pd.read_csv(\"C:/a space/S8/Reto/iar_Reservaciones.csv\")"
   ]
  },
  {
   "cell_type": "code",
   "execution_count": 4,
   "id": "b93452bf",
   "metadata": {},
   "outputs": [],
   "source": [
    "df.drop(['h_correo_e', 'h_nom'], axis='columns', inplace=True)"
   ]
  },
  {
   "cell_type": "code",
   "execution_count": 5,
   "id": "08dc3249",
   "metadata": {},
   "outputs": [
    {
     "data": {
      "text/plain": [
       "(203002, 47)"
      ]
     },
     "execution_count": 5,
     "metadata": {},
     "output_type": "execute_result"
    }
   ],
   "source": [
    "df.shape"
   ]
  },
  {
   "cell_type": "markdown",
   "id": "b39d044e",
   "metadata": {},
   "source": [
    "#### Reemplazamos los campos vacíos (con solo espacios) por valores nulos para mayor control"
   ]
  },
  {
   "cell_type": "code",
   "execution_count": 6,
   "id": "0627e296",
   "metadata": {},
   "outputs": [],
   "source": [
    "df = df.replace(r'^\\s*$', np.nan, regex=True)"
   ]
  },
  {
   "cell_type": "markdown",
   "id": "ece56de0",
   "metadata": {},
   "source": [
    "#### Contamos no nulos después de la corrección"
   ]
  },
  {
   "cell_type": "code",
   "execution_count": 7,
   "id": "d97f6463",
   "metadata": {},
   "outputs": [
    {
     "name": "stdout",
     "output_type": "stream",
     "text": [
      "<class 'pandas.core.frame.DataFrame'>\n",
      "RangeIndex: 203002 entries, 0 to 203001\n",
      "Data columns (total 47 columns):\n",
      " #   Column                    Non-Null Count   Dtype  \n",
      "---  ------                    --------------   -----  \n",
      " 0   ID_Reserva                203002 non-null  int64  \n",
      " 1   Fecha_hoy                 203002 non-null  object \n",
      " 2   h_res_fec                 203002 non-null  int64  \n",
      " 3   h_res_fec_ok              203002 non-null  object \n",
      " 4   h_res_fec_okt             203002 non-null  object \n",
      " 5   h_num_per                 203002 non-null  int64  \n",
      " 6   aa_h_num_per              203002 non-null  int64  \n",
      " 7   h_num_adu                 203002 non-null  int64  \n",
      " 8   aa_h_num_adu              203002 non-null  int64  \n",
      " 9   h_num_men                 203002 non-null  int64  \n",
      " 10  aa_h_num_men              203002 non-null  int64  \n",
      " 11  h_num_noc                 203002 non-null  int64  \n",
      " 12  aa_h_num_noc              203002 non-null  int64  \n",
      " 13  h_tot_hab                 203002 non-null  int64  \n",
      " 14  aa_h_tot_hab              203002 non-null  int64  \n",
      " 15  ID_Programa               203002 non-null  int64  \n",
      " 16  ID_Paquete                203002 non-null  int64  \n",
      " 17  ID_Segmento_Comp          203002 non-null  int64  \n",
      " 18  ID_Agencia                203002 non-null  int64  \n",
      " 19  ID_empresa                203002 non-null  int64  \n",
      " 20  ID_Tipo_Habitacion        203002 non-null  int64  \n",
      " 21  ID_canal                  203002 non-null  int64  \n",
      " 22  h_fec_lld                 203000 non-null  object \n",
      " 23  h_fec_lld_ok              203002 non-null  object \n",
      " 24  h_fec_lld_okt             203002 non-null  object \n",
      " 25  h_fec_reg                 201452 non-null  object \n",
      " 26  h_fec_reg_ok              203002 non-null  object \n",
      " 27  h_fec_reg_okt             203002 non-null  object \n",
      " 28  h_fec_sda                 202968 non-null  object \n",
      " 29  h_fec_sda_ok              203002 non-null  object \n",
      " 30  h_fec_sda_okt             203002 non-null  object \n",
      " 31  ID_Pais_Origen            203002 non-null  int64  \n",
      " 32  Cliente_Disp              203002 non-null  int64  \n",
      " 33  aa_Cliente_Disp           203002 non-null  int64  \n",
      " 34  Reservacion               203002 non-null  int64  \n",
      " 35  aa_Reservacion            203002 non-null  int64  \n",
      " 36  ID_estatus_reservaciones  203002 non-null  int64  \n",
      " 37  h_can_res                 202510 non-null  object \n",
      " 38  h_cod_reserva             74860 non-null   object \n",
      " 39  h_edo                     203000 non-null  object \n",
      " 40  h_codigop                 145678 non-null  object \n",
      " 41  h_tfa_total               203002 non-null  float64\n",
      " 42  aa_h_tfa_total            203002 non-null  float64\n",
      " 43  moneda_cve                203002 non-null  int64  \n",
      " 44  h_ult_cam_fec             202469 non-null  object \n",
      " 45  h_ult_cam_fec_ok          203002 non-null  object \n",
      " 46  h_ult_cam_fec_okt         203002 non-null  object \n",
      "dtypes: float64(2), int64(26), object(19)\n",
      "memory usage: 72.8+ MB\n"
     ]
    }
   ],
   "source": [
    "df.info()"
   ]
  },
  {
   "cell_type": "markdown",
   "id": "0425b930",
   "metadata": {},
   "source": [
    "#### Convertimos a tipo de dato fecha todas las columnas en las que corresponda, haciendo distinción dependiendo de su formato"
   ]
  },
  {
   "cell_type": "code",
   "execution_count": 8,
   "id": "31882479",
   "metadata": {},
   "outputs": [],
   "source": [
    "columnas_fechas = ['Fecha_hoy', 'h_fec_reg_ok', 'h_fec_reg_okt', 'h_res_fec_ok', 'h_res_fec_okt', 'h_fec_lld_ok', 'h_fec_lld_okt', 'h_ult_cam_fec_ok', 'h_ult_cam_fec_okt', 'h_fec_sda_ok', 'h_fec_sda_okt']\n",
    "columnas_fechas_sin_guion = ['h_fec_reg', 'h_fec_lld', 'h_res_fec','h_ult_cam_fec', 'h_fec_sda', ]\n",
    "\n",
    "for fecha in columnas_fechas:\n",
    "    df[fecha] = pd.to_datetime(df[fecha], errors='coerce')\n",
    "\n",
    "for fecha in columnas_fechas_sin_guion:\n",
    "    df[fecha] = pd.to_datetime(df[fecha], format='%Y%m%d', errors='coerce')\n"
   ]
  },
  {
   "cell_type": "code",
   "execution_count": 9,
   "id": "6e94cd76",
   "metadata": {},
   "outputs": [
    {
     "name": "stdout",
     "output_type": "stream",
     "text": [
      "<class 'pandas.core.frame.DataFrame'>\n",
      "RangeIndex: 203002 entries, 0 to 203001\n",
      "Data columns (total 47 columns):\n",
      " #   Column                    Non-Null Count   Dtype         \n",
      "---  ------                    --------------   -----         \n",
      " 0   ID_Reserva                203002 non-null  int64         \n",
      " 1   Fecha_hoy                 203002 non-null  datetime64[ns]\n",
      " 2   h_res_fec                 203002 non-null  datetime64[ns]\n",
      " 3   h_res_fec_ok              203002 non-null  datetime64[ns]\n",
      " 4   h_res_fec_okt             203002 non-null  datetime64[ns]\n",
      " 5   h_num_per                 203002 non-null  int64         \n",
      " 6   aa_h_num_per              203002 non-null  int64         \n",
      " 7   h_num_adu                 203002 non-null  int64         \n",
      " 8   aa_h_num_adu              203002 non-null  int64         \n",
      " 9   h_num_men                 203002 non-null  int64         \n",
      " 10  aa_h_num_men              203002 non-null  int64         \n",
      " 11  h_num_noc                 203002 non-null  int64         \n",
      " 12  aa_h_num_noc              203002 non-null  int64         \n",
      " 13  h_tot_hab                 203002 non-null  int64         \n",
      " 14  aa_h_tot_hab              203002 non-null  int64         \n",
      " 15  ID_Programa               203002 non-null  int64         \n",
      " 16  ID_Paquete                203002 non-null  int64         \n",
      " 17  ID_Segmento_Comp          203002 non-null  int64         \n",
      " 18  ID_Agencia                203002 non-null  int64         \n",
      " 19  ID_empresa                203002 non-null  int64         \n",
      " 20  ID_Tipo_Habitacion        203002 non-null  int64         \n",
      " 21  ID_canal                  203002 non-null  int64         \n",
      " 22  h_fec_lld                 203000 non-null  datetime64[ns]\n",
      " 23  h_fec_lld_ok              203002 non-null  datetime64[ns]\n",
      " 24  h_fec_lld_okt             203002 non-null  datetime64[ns]\n",
      " 25  h_fec_reg                 201452 non-null  datetime64[ns]\n",
      " 26  h_fec_reg_ok              203002 non-null  datetime64[ns]\n",
      " 27  h_fec_reg_okt             203002 non-null  datetime64[ns]\n",
      " 28  h_fec_sda                 202968 non-null  datetime64[ns]\n",
      " 29  h_fec_sda_ok              203002 non-null  datetime64[ns]\n",
      " 30  h_fec_sda_okt             203002 non-null  datetime64[ns]\n",
      " 31  ID_Pais_Origen            203002 non-null  int64         \n",
      " 32  Cliente_Disp              203002 non-null  int64         \n",
      " 33  aa_Cliente_Disp           203002 non-null  int64         \n",
      " 34  Reservacion               203002 non-null  int64         \n",
      " 35  aa_Reservacion            203002 non-null  int64         \n",
      " 36  ID_estatus_reservaciones  203002 non-null  int64         \n",
      " 37  h_can_res                 202510 non-null  object        \n",
      " 38  h_cod_reserva             74860 non-null   object        \n",
      " 39  h_edo                     203000 non-null  object        \n",
      " 40  h_codigop                 145678 non-null  object        \n",
      " 41  h_tfa_total               203002 non-null  float64       \n",
      " 42  aa_h_tfa_total            203002 non-null  float64       \n",
      " 43  moneda_cve                203002 non-null  int64         \n",
      " 44  h_ult_cam_fec             202469 non-null  datetime64[ns]\n",
      " 45  h_ult_cam_fec_ok          203002 non-null  datetime64[ns]\n",
      " 46  h_ult_cam_fec_okt         203002 non-null  datetime64[ns]\n",
      "dtypes: datetime64[ns](16), float64(2), int64(25), object(4)\n",
      "memory usage: 72.8+ MB\n"
     ]
    }
   ],
   "source": [
    "df.info()"
   ]
  },
  {
   "cell_type": "markdown",
   "id": "e83b8365",
   "metadata": {},
   "source": [
    "### Revisamos cantidad y porcentajes de valores nulos"
   ]
  },
  {
   "cell_type": "code",
   "execution_count": 10,
   "id": "c4063bba",
   "metadata": {},
   "outputs": [
    {
     "data": {
      "text/plain": [
       "h_cod_reserva               128142\n",
       "h_codigop                    57324\n",
       "h_fec_reg                     1550\n",
       "h_ult_cam_fec                  533\n",
       "h_can_res                      492\n",
       "h_fec_sda                       34\n",
       "h_fec_lld                        2\n",
       "h_edo                            2\n",
       "Cliente_Disp                     0\n",
       "h_fec_reg_ok                     0\n",
       "h_fec_reg_okt                    0\n",
       "h_fec_sda_ok                     0\n",
       "h_fec_sda_okt                    0\n",
       "ID_Pais_Origen                   0\n",
       "ID_Reserva                       0\n",
       "aa_Cliente_Disp                  0\n",
       "Reservacion                      0\n",
       "h_fec_lld_okt                    0\n",
       "ID_estatus_reservaciones         0\n",
       "h_tfa_total                      0\n",
       "aa_h_tfa_total                   0\n",
       "moneda_cve                       0\n",
       "h_ult_cam_fec_ok                 0\n",
       "aa_Reservacion                   0\n",
       "h_fec_lld_ok                     0\n",
       "Fecha_hoy                        0\n",
       "ID_canal                         0\n",
       "h_res_fec                        0\n",
       "h_res_fec_ok                     0\n",
       "h_res_fec_okt                    0\n",
       "h_num_per                        0\n",
       "aa_h_num_per                     0\n",
       "h_num_adu                        0\n",
       "aa_h_num_adu                     0\n",
       "h_num_men                        0\n",
       "aa_h_num_men                     0\n",
       "h_num_noc                        0\n",
       "aa_h_num_noc                     0\n",
       "h_tot_hab                        0\n",
       "aa_h_tot_hab                     0\n",
       "ID_Programa                      0\n",
       "ID_Paquete                       0\n",
       "ID_Segmento_Comp                 0\n",
       "ID_Agencia                       0\n",
       "ID_empresa                       0\n",
       "ID_Tipo_Habitacion               0\n",
       "h_ult_cam_fec_okt                0\n",
       "dtype: int64"
      ]
     },
     "execution_count": 10,
     "metadata": {},
     "output_type": "execute_result"
    }
   ],
   "source": [
    "df.isnull().sum().sort_values(ascending=False)"
   ]
  },
  {
   "cell_type": "code",
   "execution_count": 11,
   "id": "b76cc628",
   "metadata": {},
   "outputs": [
    {
     "data": {
      "text/plain": [
       "h_cod_reserva               63.123516\n",
       "h_codigop                   28.238145\n",
       "h_fec_reg                    0.763539\n",
       "h_ult_cam_fec                0.262559\n",
       "h_can_res                    0.242362\n",
       "h_fec_sda                    0.016749\n",
       "h_fec_lld                    0.000985\n",
       "h_edo                        0.000985\n",
       "Cliente_Disp                 0.000000\n",
       "h_fec_reg_ok                 0.000000\n",
       "h_fec_reg_okt                0.000000\n",
       "h_fec_sda_ok                 0.000000\n",
       "h_fec_sda_okt                0.000000\n",
       "ID_Pais_Origen               0.000000\n",
       "ID_Reserva                   0.000000\n",
       "aa_Cliente_Disp              0.000000\n",
       "Reservacion                  0.000000\n",
       "h_fec_lld_okt                0.000000\n",
       "ID_estatus_reservaciones     0.000000\n",
       "h_tfa_total                  0.000000\n",
       "aa_h_tfa_total               0.000000\n",
       "moneda_cve                   0.000000\n",
       "h_ult_cam_fec_ok             0.000000\n",
       "aa_Reservacion               0.000000\n",
       "h_fec_lld_ok                 0.000000\n",
       "Fecha_hoy                    0.000000\n",
       "ID_canal                     0.000000\n",
       "h_res_fec                    0.000000\n",
       "h_res_fec_ok                 0.000000\n",
       "h_res_fec_okt                0.000000\n",
       "h_num_per                    0.000000\n",
       "aa_h_num_per                 0.000000\n",
       "h_num_adu                    0.000000\n",
       "aa_h_num_adu                 0.000000\n",
       "h_num_men                    0.000000\n",
       "aa_h_num_men                 0.000000\n",
       "h_num_noc                    0.000000\n",
       "aa_h_num_noc                 0.000000\n",
       "h_tot_hab                    0.000000\n",
       "aa_h_tot_hab                 0.000000\n",
       "ID_Programa                  0.000000\n",
       "ID_Paquete                   0.000000\n",
       "ID_Segmento_Comp             0.000000\n",
       "ID_Agencia                   0.000000\n",
       "ID_empresa                   0.000000\n",
       "ID_Tipo_Habitacion           0.000000\n",
       "h_ult_cam_fec_okt            0.000000\n",
       "dtype: float64"
      ]
     },
     "execution_count": 11,
     "metadata": {},
     "output_type": "execute_result"
    }
   ],
   "source": [
    "(df.isnull().mean() * 100).sort_values(ascending=False)"
   ]
  },
  {
   "cell_type": "markdown",
   "id": "f230756d",
   "metadata": {},
   "source": [
    "#### Eliminamos columnas con mayores cantidades de valores nulos"
   ]
  },
  {
   "cell_type": "code",
   "execution_count": 12,
   "id": "b0cdf8d0",
   "metadata": {},
   "outputs": [],
   "source": [
    "df = df.drop(columns=['h_cod_reserva', 'h_codigop'])"
   ]
  },
  {
   "cell_type": "markdown",
   "id": "b3a94e9c",
   "metadata": {},
   "source": [
    "#### Eliminamos filas que contengan todavía algún valor nulo"
   ]
  },
  {
   "cell_type": "code",
   "execution_count": 13,
   "id": "4f14c01a",
   "metadata": {},
   "outputs": [],
   "source": [
    "df = df.dropna()"
   ]
  },
  {
   "cell_type": "code",
   "execution_count": 14,
   "id": "3ae7284a",
   "metadata": {},
   "outputs": [
    {
     "data": {
      "text/plain": [
       "(201412, 45)"
      ]
     },
     "execution_count": 14,
     "metadata": {},
     "output_type": "execute_result"
    }
   ],
   "source": [
    "df.shape"
   ]
  },
  {
   "cell_type": "code",
   "execution_count": 15,
   "id": "db5e42b9",
   "metadata": {},
   "outputs": [
    {
     "data": {
      "text/html": [
       "<div>\n",
       "<style scoped>\n",
       "    .dataframe tbody tr th:only-of-type {\n",
       "        vertical-align: middle;\n",
       "    }\n",
       "\n",
       "    .dataframe tbody tr th {\n",
       "        vertical-align: top;\n",
       "    }\n",
       "\n",
       "    .dataframe thead th {\n",
       "        text-align: right;\n",
       "    }\n",
       "</style>\n",
       "<table border=\"1\" class=\"dataframe\">\n",
       "  <thead>\n",
       "    <tr style=\"text-align: right;\">\n",
       "      <th></th>\n",
       "      <th>ID_Reserva</th>\n",
       "      <th>Fecha_hoy</th>\n",
       "      <th>h_res_fec</th>\n",
       "      <th>h_res_fec_ok</th>\n",
       "      <th>h_res_fec_okt</th>\n",
       "      <th>h_num_per</th>\n",
       "      <th>aa_h_num_per</th>\n",
       "      <th>h_num_adu</th>\n",
       "      <th>aa_h_num_adu</th>\n",
       "      <th>h_num_men</th>\n",
       "      <th>...</th>\n",
       "      <th>aa_Reservacion</th>\n",
       "      <th>ID_estatus_reservaciones</th>\n",
       "      <th>h_can_res</th>\n",
       "      <th>h_edo</th>\n",
       "      <th>h_tfa_total</th>\n",
       "      <th>aa_h_tfa_total</th>\n",
       "      <th>moneda_cve</th>\n",
       "      <th>h_ult_cam_fec</th>\n",
       "      <th>h_ult_cam_fec_ok</th>\n",
       "      <th>h_ult_cam_fec_okt</th>\n",
       "    </tr>\n",
       "  </thead>\n",
       "  <tbody>\n",
       "    <tr>\n",
       "      <th>0</th>\n",
       "      <td>0</td>\n",
       "      <td>2019-08-16</td>\n",
       "      <td>2019-08-16</td>\n",
       "      <td>2019-08-16</td>\n",
       "      <td>2019-08-16</td>\n",
       "      <td>2</td>\n",
       "      <td>0</td>\n",
       "      <td>2</td>\n",
       "      <td>0</td>\n",
       "      <td>0</td>\n",
       "      <td>...</td>\n",
       "      <td>0</td>\n",
       "      <td>9</td>\n",
       "      <td>09</td>\n",
       "      <td>EMX</td>\n",
       "      <td>2659.98</td>\n",
       "      <td>0.0</td>\n",
       "      <td>1</td>\n",
       "      <td>2019-11-10</td>\n",
       "      <td>2019-11-10</td>\n",
       "      <td>2019-11-10</td>\n",
       "    </tr>\n",
       "    <tr>\n",
       "      <th>1</th>\n",
       "      <td>1</td>\n",
       "      <td>2019-10-22</td>\n",
       "      <td>2019-10-22</td>\n",
       "      <td>2019-10-22</td>\n",
       "      <td>2019-10-22</td>\n",
       "      <td>4</td>\n",
       "      <td>0</td>\n",
       "      <td>4</td>\n",
       "      <td>0</td>\n",
       "      <td>0</td>\n",
       "      <td>...</td>\n",
       "      <td>0</td>\n",
       "      <td>9</td>\n",
       "      <td>09</td>\n",
       "      <td>EGT</td>\n",
       "      <td>1764.00</td>\n",
       "      <td>0.0</td>\n",
       "      <td>1</td>\n",
       "      <td>2019-12-05</td>\n",
       "      <td>2019-12-05</td>\n",
       "      <td>2019-12-05</td>\n",
       "    </tr>\n",
       "    <tr>\n",
       "      <th>2</th>\n",
       "      <td>2</td>\n",
       "      <td>2019-10-28</td>\n",
       "      <td>2019-10-28</td>\n",
       "      <td>2019-10-28</td>\n",
       "      <td>2019-10-28</td>\n",
       "      <td>2</td>\n",
       "      <td>0</td>\n",
       "      <td>2</td>\n",
       "      <td>0</td>\n",
       "      <td>0</td>\n",
       "      <td>...</td>\n",
       "      <td>0</td>\n",
       "      <td>9</td>\n",
       "      <td>09</td>\n",
       "      <td>EMC</td>\n",
       "      <td>2660.04</td>\n",
       "      <td>0.0</td>\n",
       "      <td>1</td>\n",
       "      <td>2019-12-05</td>\n",
       "      <td>2019-12-05</td>\n",
       "      <td>2019-12-05</td>\n",
       "    </tr>\n",
       "    <tr>\n",
       "      <th>3</th>\n",
       "      <td>3</td>\n",
       "      <td>2019-10-28</td>\n",
       "      <td>2019-10-28</td>\n",
       "      <td>2019-10-28</td>\n",
       "      <td>2019-10-28</td>\n",
       "      <td>4</td>\n",
       "      <td>0</td>\n",
       "      <td>3</td>\n",
       "      <td>0</td>\n",
       "      <td>0</td>\n",
       "      <td>...</td>\n",
       "      <td>0</td>\n",
       "      <td>9</td>\n",
       "      <td>09</td>\n",
       "      <td>EGT</td>\n",
       "      <td>1995.03</td>\n",
       "      <td>0.0</td>\n",
       "      <td>1</td>\n",
       "      <td>2019-12-11</td>\n",
       "      <td>2019-12-11</td>\n",
       "      <td>2019-12-11</td>\n",
       "    </tr>\n",
       "    <tr>\n",
       "      <th>4</th>\n",
       "      <td>4</td>\n",
       "      <td>2019-10-28</td>\n",
       "      <td>2019-10-28</td>\n",
       "      <td>2019-10-28</td>\n",
       "      <td>2019-10-28</td>\n",
       "      <td>2</td>\n",
       "      <td>0</td>\n",
       "      <td>2</td>\n",
       "      <td>0</td>\n",
       "      <td>0</td>\n",
       "      <td>...</td>\n",
       "      <td>0</td>\n",
       "      <td>9</td>\n",
       "      <td>12</td>\n",
       "      <td>EMX</td>\n",
       "      <td>13369.92</td>\n",
       "      <td>0.0</td>\n",
       "      <td>1</td>\n",
       "      <td>2019-12-12</td>\n",
       "      <td>2019-12-12</td>\n",
       "      <td>2019-12-12</td>\n",
       "    </tr>\n",
       "  </tbody>\n",
       "</table>\n",
       "<p>5 rows × 45 columns</p>\n",
       "</div>"
      ],
      "text/plain": [
       "   ID_Reserva  Fecha_hoy  h_res_fec h_res_fec_ok h_res_fec_okt  h_num_per  \\\n",
       "0           0 2019-08-16 2019-08-16   2019-08-16    2019-08-16          2   \n",
       "1           1 2019-10-22 2019-10-22   2019-10-22    2019-10-22          4   \n",
       "2           2 2019-10-28 2019-10-28   2019-10-28    2019-10-28          2   \n",
       "3           3 2019-10-28 2019-10-28   2019-10-28    2019-10-28          4   \n",
       "4           4 2019-10-28 2019-10-28   2019-10-28    2019-10-28          2   \n",
       "\n",
       "   aa_h_num_per  h_num_adu  aa_h_num_adu  h_num_men  ...  aa_Reservacion  \\\n",
       "0             0          2             0          0  ...               0   \n",
       "1             0          4             0          0  ...               0   \n",
       "2             0          2             0          0  ...               0   \n",
       "3             0          3             0          0  ...               0   \n",
       "4             0          2             0          0  ...               0   \n",
       "\n",
       "   ID_estatus_reservaciones  h_can_res   h_edo  h_tfa_total  aa_h_tfa_total  \\\n",
       "0                         9         09  EMX         2659.98             0.0   \n",
       "1                         9         09  EGT         1764.00             0.0   \n",
       "2                         9         09  EMC         2660.04             0.0   \n",
       "3                         9         09  EGT         1995.03             0.0   \n",
       "4                         9         12  EMX        13369.92             0.0   \n",
       "\n",
       "   moneda_cve  h_ult_cam_fec  h_ult_cam_fec_ok  h_ult_cam_fec_okt  \n",
       "0           1     2019-11-10        2019-11-10         2019-11-10  \n",
       "1           1     2019-12-05        2019-12-05         2019-12-05  \n",
       "2           1     2019-12-05        2019-12-05         2019-12-05  \n",
       "3           1     2019-12-11        2019-12-11         2019-12-11  \n",
       "4           1     2019-12-12        2019-12-12         2019-12-12  \n",
       "\n",
       "[5 rows x 45 columns]"
      ]
     },
     "execution_count": 15,
     "metadata": {},
     "output_type": "execute_result"
    }
   ],
   "source": [
    "df.head()"
   ]
  },
  {
   "cell_type": "markdown",
   "id": "91479df6",
   "metadata": {},
   "source": [
    "#### Observamos pares de columnas ordenadas por cantidad de datos iguales"
   ]
  },
  {
   "cell_type": "code",
   "execution_count": 16,
   "id": "b35d38cc",
   "metadata": {},
   "outputs": [],
   "source": [
    "def comparar_columnas(df):\n",
    "    resultados = []\n",
    "    for col1, col2 in combinations(df.columns, 2):\n",
    "        iguales = (df[col1] == df[col2]) & ~(df[col1].isna() | df[col2].isna())\n",
    "        conteo = iguales.sum()\n",
    "        resultados.append({\n",
    "            'columna_1': col1,\n",
    "            'columna_2': col2,\n",
    "            'valores_iguales': conteo\n",
    "        })\n",
    "\n",
    "    return pd.DataFrame(resultados)"
   ]
  },
  {
   "cell_type": "code",
   "execution_count": 17,
   "id": "8deb96a6",
   "metadata": {},
   "outputs": [],
   "source": [
    "resutados = comparar_columnas(df)"
   ]
  },
  {
   "cell_type": "code",
   "execution_count": 18,
   "id": "bb808f0e",
   "metadata": {},
   "outputs": [
    {
     "data": {
      "text/html": [
       "<div>\n",
       "<style scoped>\n",
       "    .dataframe tbody tr th:only-of-type {\n",
       "        vertical-align: middle;\n",
       "    }\n",
       "\n",
       "    .dataframe tbody tr th {\n",
       "        vertical-align: top;\n",
       "    }\n",
       "\n",
       "    .dataframe thead th {\n",
       "        text-align: right;\n",
       "    }\n",
       "</style>\n",
       "<table border=\"1\" class=\"dataframe\">\n",
       "  <thead>\n",
       "    <tr style=\"text-align: right;\">\n",
       "      <th></th>\n",
       "      <th>columna_1</th>\n",
       "      <th>columna_2</th>\n",
       "      <th>valores_iguales</th>\n",
       "    </tr>\n",
       "  </thead>\n",
       "  <tbody>\n",
       "    <tr>\n",
       "      <th>989</th>\n",
       "      <td>h_ult_cam_fec_ok</td>\n",
       "      <td>h_ult_cam_fec_okt</td>\n",
       "      <td>201412</td>\n",
       "    </tr>\n",
       "    <tr>\n",
       "      <th>311</th>\n",
       "      <td>h_num_adu</td>\n",
       "      <td>Cliente_Disp</td>\n",
       "      <td>201412</td>\n",
       "    </tr>\n",
       "    <tr>\n",
       "      <th>686</th>\n",
       "      <td>ID_empresa</td>\n",
       "      <td>moneda_cve</td>\n",
       "      <td>201412</td>\n",
       "    </tr>\n",
       "    <tr>\n",
       "      <th>737</th>\n",
       "      <td>h_fec_lld</td>\n",
       "      <td>h_fec_lld_ok</td>\n",
       "      <td>201412</td>\n",
       "    </tr>\n",
       "    <tr>\n",
       "      <th>738</th>\n",
       "      <td>h_fec_lld</td>\n",
       "      <td>h_fec_lld_okt</td>\n",
       "      <td>201412</td>\n",
       "    </tr>\n",
       "  </tbody>\n",
       "</table>\n",
       "</div>"
      ],
      "text/plain": [
       "            columna_1          columna_2  valores_iguales\n",
       "989  h_ult_cam_fec_ok  h_ult_cam_fec_okt           201412\n",
       "311         h_num_adu       Cliente_Disp           201412\n",
       "686        ID_empresa         moneda_cve           201412\n",
       "737         h_fec_lld       h_fec_lld_ok           201412\n",
       "738         h_fec_lld      h_fec_lld_okt           201412"
      ]
     },
     "execution_count": 18,
     "metadata": {},
     "output_type": "execute_result"
    }
   ],
   "source": [
    "resutados.sort_values(by='valores_iguales', ascending=False).head()"
   ]
  },
  {
   "cell_type": "markdown",
   "id": "114196a0",
   "metadata": {},
   "source": [
    "#### Eliminamos columnas duplicadas"
   ]
  },
  {
   "cell_type": "code",
   "execution_count": 19,
   "id": "71ec2b66",
   "metadata": {},
   "outputs": [],
   "source": [
    "# Función para generar una lista basándose en la cantidad de valores iguales a otra\n",
    "def filtrar_valores(df, columna_evaluar, umbral, columna_extraer):\n",
    "    array = []\n",
    "    for index, row in df.iterrows():\n",
    "        if row[columna_evaluar] >= umbral:\n",
    "            array.append(row[columna_extraer])\n",
    "    return array"
   ]
  },
  {
   "cell_type": "code",
   "execution_count": 20,
   "id": "5e90c1f0",
   "metadata": {},
   "outputs": [],
   "source": [
    "# Tomamos el umbral para filtrar como el total de filas, es decir, que las columnas sean 100% idénticas\n",
    "umbral = df.shape[0]\n",
    "array_repetidas = filtrar_valores(resutados, 'valores_iguales', umbral, 'columna_2')"
   ]
  },
  {
   "cell_type": "code",
   "execution_count": 21,
   "id": "c013a887",
   "metadata": {},
   "outputs": [],
   "source": [
    "df.drop(array_repetidas, axis='columns', inplace=True)"
   ]
  },
  {
   "cell_type": "code",
   "execution_count": 22,
   "id": "c3dfac67",
   "metadata": {},
   "outputs": [
    {
     "data": {
      "text/plain": [
       "(201412, 31)"
      ]
     },
     "execution_count": 22,
     "metadata": {},
     "output_type": "execute_result"
    }
   ],
   "source": [
    "df.shape"
   ]
  },
  {
   "cell_type": "markdown",
   "id": "e36de29b",
   "metadata": {},
   "source": [
    "##### *Falta revisar las columnas que sólo tienen uno o dos valores diferentes entre sí"
   ]
  },
  {
   "cell_type": "markdown",
   "id": "c02f80e5",
   "metadata": {},
   "source": [
    "### Aseguraremos la coherencia de los datos"
   ]
  },
  {
   "cell_type": "code",
   "execution_count": 23,
   "id": "c8b327b4",
   "metadata": {},
   "outputs": [
    {
     "data": {
      "text/plain": [
       "Index(['ID_Reserva', 'Fecha_hoy', 'h_res_fec', 'h_num_per', 'aa_h_num_per',\n",
       "       'h_num_adu', 'aa_h_num_adu', 'h_num_men', 'aa_h_num_men', 'h_num_noc',\n",
       "       'aa_h_num_noc', 'h_tot_hab', 'aa_h_tot_hab', 'ID_Programa',\n",
       "       'ID_Paquete', 'ID_Segmento_Comp', 'ID_Agencia', 'ID_Tipo_Habitacion',\n",
       "       'ID_canal', 'h_fec_lld', 'h_fec_reg', 'h_fec_sda', 'ID_Pais_Origen',\n",
       "       'Reservacion', 'aa_Reservacion', 'ID_estatus_reservaciones',\n",
       "       'h_can_res', 'h_edo', 'h_tfa_total', 'aa_h_tfa_total', 'h_ult_cam_fec'],\n",
       "      dtype='object')"
      ]
     },
     "execution_count": 23,
     "metadata": {},
     "output_type": "execute_result"
    }
   ],
   "source": [
    "df.columns"
   ]
  },
  {
   "cell_type": "code",
   "execution_count": 24,
   "id": "2aea5205",
   "metadata": {},
   "outputs": [
    {
     "data": {
      "text/plain": [
       "h_num_per\n",
       "0     100019\n",
       "2      71325\n",
       "3      14922\n",
       "4       7710\n",
       "1       4900\n",
       "5       1280\n",
       "6        781\n",
       "8        228\n",
       "7         96\n",
       "12        40\n",
       "10        21\n",
       "11        18\n",
       "9         17\n",
       "17        13\n",
       "32        10\n",
       "16         8\n",
       "18         6\n",
       "14         6\n",
       "19         5\n",
       "13         3\n",
       "20         2\n",
       "15         2\n",
       "Name: count, dtype: int64"
      ]
     },
     "execution_count": 24,
     "metadata": {},
     "output_type": "execute_result"
    }
   ],
   "source": [
    "# Observamos que hay más de 100,000 registros con número de personas = 0, lo cual es incoherente\n",
    "df['h_num_per'].value_counts()"
   ]
  },
  {
   "cell_type": "code",
   "execution_count": 25,
   "id": "a65b880d",
   "metadata": {},
   "outputs": [
    {
     "data": {
      "text/plain": [
       "aa_h_num_per\n",
       "0     101393\n",
       "2      70108\n",
       "3      14861\n",
       "4       7654\n",
       "1       4887\n",
       "5       1276\n",
       "6        775\n",
       "8        215\n",
       "7         96\n",
       "12        38\n",
       "10        20\n",
       "11        18\n",
       "9         17\n",
       "17        13\n",
       "32        10\n",
       "16         8\n",
       "18         6\n",
       "14         6\n",
       "19         5\n",
       "13         3\n",
       "20         2\n",
       "15         1\n",
       "Name: count, dtype: int64"
      ]
     },
     "execution_count": 25,
     "metadata": {},
     "output_type": "execute_result"
    }
   ],
   "source": [
    "df['aa_h_num_per'].value_counts()"
   ]
  },
  {
   "cell_type": "code",
   "execution_count": 26,
   "id": "6fb087de",
   "metadata": {},
   "outputs": [
    {
     "data": {
      "text/plain": [
       "h_num_per\n",
       "0     100019\n",
       "2      71325\n",
       "3      14922\n",
       "4       7710\n",
       "1       4900\n",
       "5       1280\n",
       "6        781\n",
       "8        228\n",
       "7         96\n",
       "12        40\n",
       "10        21\n",
       "11        18\n",
       "9         17\n",
       "17        13\n",
       "32        10\n",
       "16         8\n",
       "18         6\n",
       "14         6\n",
       "19         5\n",
       "13         3\n",
       "20         2\n",
       "15         2\n",
       "Name: count, dtype: int64"
      ]
     },
     "execution_count": 26,
     "metadata": {},
     "output_type": "execute_result"
    }
   ],
   "source": [
    "df['h_num_per'].value_counts()"
   ]
  },
  {
   "cell_type": "markdown",
   "id": "305550ba",
   "metadata": {},
   "source": [
    "#### Reemplazaremos todos los valores de \"número de personas\" por el resultado de la suma de número de adultos + número de menores"
   ]
  },
  {
   "cell_type": "code",
   "execution_count": 27,
   "id": "cb095ff6",
   "metadata": {},
   "outputs": [],
   "source": [
    "df.loc[df['h_num_per'], 'h_num_per'] = df['h_num_men'] + df['h_num_adu']\n",
    "df.loc[df['aa_h_num_per'], 'aa_h_num_per'] = df['aa_h_num_men'] + df['aa_h_num_adu']\n"
   ]
  },
  {
   "cell_type": "code",
   "execution_count": 28,
   "id": "e1655599",
   "metadata": {},
   "outputs": [
    {
     "data": {
      "text/html": [
       "<div>\n",
       "<style scoped>\n",
       "    .dataframe tbody tr th:only-of-type {\n",
       "        vertical-align: middle;\n",
       "    }\n",
       "\n",
       "    .dataframe tbody tr th {\n",
       "        vertical-align: top;\n",
       "    }\n",
       "\n",
       "    .dataframe thead th {\n",
       "        text-align: right;\n",
       "    }\n",
       "</style>\n",
       "<table border=\"1\" class=\"dataframe\">\n",
       "  <thead>\n",
       "    <tr style=\"text-align: right;\">\n",
       "      <th></th>\n",
       "      <th>ID_Reserva</th>\n",
       "      <th>Fecha_hoy</th>\n",
       "      <th>h_res_fec</th>\n",
       "      <th>h_num_per</th>\n",
       "      <th>aa_h_num_per</th>\n",
       "      <th>h_num_adu</th>\n",
       "      <th>aa_h_num_adu</th>\n",
       "      <th>h_num_men</th>\n",
       "      <th>aa_h_num_men</th>\n",
       "      <th>h_num_noc</th>\n",
       "      <th>...</th>\n",
       "      <th>h_fec_sda</th>\n",
       "      <th>ID_Pais_Origen</th>\n",
       "      <th>Reservacion</th>\n",
       "      <th>aa_Reservacion</th>\n",
       "      <th>ID_estatus_reservaciones</th>\n",
       "      <th>h_can_res</th>\n",
       "      <th>h_edo</th>\n",
       "      <th>h_tfa_total</th>\n",
       "      <th>aa_h_tfa_total</th>\n",
       "      <th>h_ult_cam_fec</th>\n",
       "    </tr>\n",
       "  </thead>\n",
       "  <tbody>\n",
       "    <tr>\n",
       "      <th>102199</th>\n",
       "      <td>102199</td>\n",
       "      <td>2020-08-16</td>\n",
       "      <td>2019-08-16</td>\n",
       "      <td>0</td>\n",
       "      <td>2</td>\n",
       "      <td>0</td>\n",
       "      <td>2</td>\n",
       "      <td>0</td>\n",
       "      <td>0</td>\n",
       "      <td>0</td>\n",
       "      <td>...</td>\n",
       "      <td>2019-11-10</td>\n",
       "      <td>157</td>\n",
       "      <td>0</td>\n",
       "      <td>1</td>\n",
       "      <td>9</td>\n",
       "      <td>09</td>\n",
       "      <td>EMX</td>\n",
       "      <td>0.0</td>\n",
       "      <td>2659.98</td>\n",
       "      <td>2019-11-10</td>\n",
       "    </tr>\n",
       "    <tr>\n",
       "      <th>102200</th>\n",
       "      <td>102200</td>\n",
       "      <td>2020-10-22</td>\n",
       "      <td>2019-10-22</td>\n",
       "      <td>0</td>\n",
       "      <td>4</td>\n",
       "      <td>0</td>\n",
       "      <td>4</td>\n",
       "      <td>0</td>\n",
       "      <td>0</td>\n",
       "      <td>0</td>\n",
       "      <td>...</td>\n",
       "      <td>2019-12-05</td>\n",
       "      <td>157</td>\n",
       "      <td>0</td>\n",
       "      <td>1</td>\n",
       "      <td>9</td>\n",
       "      <td>09</td>\n",
       "      <td>EGT</td>\n",
       "      <td>0.0</td>\n",
       "      <td>1764.00</td>\n",
       "      <td>2019-12-05</td>\n",
       "    </tr>\n",
       "    <tr>\n",
       "      <th>102201</th>\n",
       "      <td>102201</td>\n",
       "      <td>2020-10-28</td>\n",
       "      <td>2019-10-28</td>\n",
       "      <td>0</td>\n",
       "      <td>2</td>\n",
       "      <td>0</td>\n",
       "      <td>2</td>\n",
       "      <td>0</td>\n",
       "      <td>0</td>\n",
       "      <td>0</td>\n",
       "      <td>...</td>\n",
       "      <td>2019-12-05</td>\n",
       "      <td>157</td>\n",
       "      <td>0</td>\n",
       "      <td>1</td>\n",
       "      <td>9</td>\n",
       "      <td>09</td>\n",
       "      <td>EMC</td>\n",
       "      <td>0.0</td>\n",
       "      <td>2660.04</td>\n",
       "      <td>2019-12-05</td>\n",
       "    </tr>\n",
       "    <tr>\n",
       "      <th>102202</th>\n",
       "      <td>102202</td>\n",
       "      <td>2020-10-28</td>\n",
       "      <td>2019-10-28</td>\n",
       "      <td>0</td>\n",
       "      <td>4</td>\n",
       "      <td>0</td>\n",
       "      <td>3</td>\n",
       "      <td>0</td>\n",
       "      <td>0</td>\n",
       "      <td>0</td>\n",
       "      <td>...</td>\n",
       "      <td>2019-12-11</td>\n",
       "      <td>157</td>\n",
       "      <td>0</td>\n",
       "      <td>1</td>\n",
       "      <td>9</td>\n",
       "      <td>09</td>\n",
       "      <td>EGT</td>\n",
       "      <td>0.0</td>\n",
       "      <td>1995.03</td>\n",
       "      <td>2019-12-11</td>\n",
       "    </tr>\n",
       "    <tr>\n",
       "      <th>102203</th>\n",
       "      <td>102203</td>\n",
       "      <td>2020-10-28</td>\n",
       "      <td>2019-10-28</td>\n",
       "      <td>0</td>\n",
       "      <td>2</td>\n",
       "      <td>0</td>\n",
       "      <td>2</td>\n",
       "      <td>0</td>\n",
       "      <td>0</td>\n",
       "      <td>0</td>\n",
       "      <td>...</td>\n",
       "      <td>2019-12-12</td>\n",
       "      <td>157</td>\n",
       "      <td>0</td>\n",
       "      <td>1</td>\n",
       "      <td>9</td>\n",
       "      <td>12</td>\n",
       "      <td>EMX</td>\n",
       "      <td>0.0</td>\n",
       "      <td>13369.92</td>\n",
       "      <td>2019-12-12</td>\n",
       "    </tr>\n",
       "  </tbody>\n",
       "</table>\n",
       "<p>5 rows × 31 columns</p>\n",
       "</div>"
      ],
      "text/plain": [
       "        ID_Reserva  Fecha_hoy  h_res_fec  h_num_per  aa_h_num_per  h_num_adu  \\\n",
       "102199      102199 2020-08-16 2019-08-16          0             2          0   \n",
       "102200      102200 2020-10-22 2019-10-22          0             4          0   \n",
       "102201      102201 2020-10-28 2019-10-28          0             2          0   \n",
       "102202      102202 2020-10-28 2019-10-28          0             4          0   \n",
       "102203      102203 2020-10-28 2019-10-28          0             2          0   \n",
       "\n",
       "        aa_h_num_adu  h_num_men  aa_h_num_men  h_num_noc  ...  h_fec_sda  \\\n",
       "102199             2          0             0          0  ... 2019-11-10   \n",
       "102200             4          0             0          0  ... 2019-12-05   \n",
       "102201             2          0             0          0  ... 2019-12-05   \n",
       "102202             3          0             0          0  ... 2019-12-11   \n",
       "102203             2          0             0          0  ... 2019-12-12   \n",
       "\n",
       "        ID_Pais_Origen  Reservacion  aa_Reservacion  ID_estatus_reservaciones  \\\n",
       "102199             157            0               1                         9   \n",
       "102200             157            0               1                         9   \n",
       "102201             157            0               1                         9   \n",
       "102202             157            0               1                         9   \n",
       "102203             157            0               1                         9   \n",
       "\n",
       "        h_can_res   h_edo  h_tfa_total  aa_h_tfa_total h_ult_cam_fec  \n",
       "102199         09  EMX             0.0         2659.98    2019-11-10  \n",
       "102200         09  EGT             0.0         1764.00    2019-12-05  \n",
       "102201         09  EMC             0.0         2660.04    2019-12-05  \n",
       "102202         09  EGT             0.0         1995.03    2019-12-11  \n",
       "102203         12  EMX             0.0        13369.92    2019-12-12  \n",
       "\n",
       "[5 rows x 31 columns]"
      ]
     },
     "execution_count": 28,
     "metadata": {},
     "output_type": "execute_result"
    }
   ],
   "source": [
    "# *Chale, pues no redujimos los ceros, revisamos si en efecto tiene lógica\n",
    "df[df['h_num_per'] == 0].head()"
   ]
  },
  {
   "cell_type": "code",
   "execution_count": 29,
   "id": "a2724c1e",
   "metadata": {},
   "outputs": [],
   "source": [
    "df.loc[df['h_num_per'], 'h_num_per'] = df['h_num_men'] + df['h_num_adu']"
   ]
  },
  {
   "cell_type": "markdown",
   "id": "832ab808",
   "metadata": {},
   "source": [
    "#### Contaremos las columnas en las que fecha de llegada es posterior a la fecha de salida"
   ]
  },
  {
   "cell_type": "code",
   "execution_count": 30,
   "id": "cd447b80",
   "metadata": {},
   "outputs": [
    {
     "name": "stdout",
     "output_type": "stream",
     "text": [
      "0\n"
     ]
    }
   ],
   "source": [
    "conteo = (df['h_fec_lld'] > df['h_fec_sda']).sum()\n",
    "print(conteo)"
   ]
  },
  {
   "cell_type": "markdown",
   "id": "1b12aa49",
   "metadata": {},
   "source": [
    "#### Reemplazaremos los registros de cantidad de noches por la diferencia entre fecha de salida y fecha de entrada"
   ]
  },
  {
   "cell_type": "code",
   "execution_count": 31,
   "id": "a3ee5fbe",
   "metadata": {},
   "outputs": [],
   "source": [
    "# Nótese que no tenemos columna de año anterior para fecha de llegada y de salida, fueron eliminadas en proceso de colunas repetidas\n",
    "df.loc[df['h_num_noc'], 'h_num_noc'] = df['h_fec_sda'] - df['h_fec_lld']"
   ]
  },
  {
   "cell_type": "markdown",
   "id": "950d471e",
   "metadata": {},
   "source": [
    "### Línea de código para extraer el día de la semana de cualquier fecha"
   ]
  },
  {
   "cell_type": "code",
   "execution_count": 32,
   "id": "3618b44d",
   "metadata": {},
   "outputs": [],
   "source": [
    "# Ejemplo\n",
    "fecha_por_extraer = 'reservacion'\n",
    "columna = 'h_res_fec'\n",
    "\n",
    "#Agrega una nueva columna\n",
    "df[f'dia_{fecha_por_extraer}'] = df[columna].dt.day_name()"
   ]
  },
  {
   "cell_type": "code",
   "execution_count": null,
   "id": "c7d11b5a",
   "metadata": {},
   "outputs": [],
   "source": [
    "# Ejemplo\n",
    "fecha_por_extraer = 'reservacion'\n",
    "columna = 'h_res_fec'\n",
    "\n",
    "# Crear nueva columna indicando si es fin de semana o entre semana (se puede aplicar sin tener una columna que indique día de la semana)\n",
    "df[f'entre/fin_{fecha_por_extraer}'] = df[columna].dt.weekday.apply(lambda x: 'Fin de semana' if x >= 5 else 'Entre semana')\n"
   ]
  },
  {
   "cell_type": "markdown",
   "id": "3974133a",
   "metadata": {},
   "source": [
    "#### Vamos a generar un dataframe que tenga la ocupación y cantidad de reservaciones por fecha"
   ]
  },
  {
   "cell_type": "code",
   "execution_count": 34,
   "id": "8162d469",
   "metadata": {},
   "outputs": [],
   "source": [
    "# Generamos todas las fechas posibles entre los datos del dataframe y obtenemos el total de personas hospedadas\n",
    "\n",
    "rows = []\n",
    "for _, row in df.iterrows():\n",
    "    rango_fechas = pd.date_range(start=row['h_fec_lld'], end=row['h_fec_sda'] - pd.Timedelta(days=1))\n",
    "    for Fecha in rango_fechas:\n",
    "        rows.append({'Fecha': Fecha, 'Personas': row['h_num_per']})\n",
    "\n",
    "df_estancia = pd.DataFrame(rows)\n",
    "\n",
    "personas_por_fecha = df_estancia.groupby('Fecha').sum().reset_index()\n"
   ]
  },
  {
   "cell_type": "code",
   "execution_count": 35,
   "id": "824078aa",
   "metadata": {},
   "outputs": [],
   "source": [
    "# Obtenemos la cantidad de reservaciones por fecha \n",
    "reservaciones_por_fecha = (\n",
    "    df.groupby('h_res_fec')\n",
    "    .size()\n",
    "    .reset_index(name='Reservaciones')\n",
    "    .rename(columns={'h_res_fec': 'Fecha'})\n",
    ")"
   ]
  },
  {
   "cell_type": "code",
   "execution_count": 36,
   "id": "d1073217",
   "metadata": {},
   "outputs": [],
   "source": [
    "# Unimos ambos resultados en un solo dataframe\n",
    "\n",
    "ValoresxFecha = pd.merge(personas_por_fecha, reservaciones_por_fecha, on='Fecha', how='outer').fillna(0)\n",
    "\n",
    "ValoresxFecha['Personas'] = ValoresxFecha['Personas'].astype(int)\n",
    "ValoresxFecha['Reservaciones'] = ValoresxFecha['Reservaciones'].astype(int)\n",
    "\n",
    "ValoresxFecha = ValoresxFecha.sort_values('Fecha')\n"
   ]
  },
  {
   "cell_type": "code",
   "execution_count": 37,
   "id": "7997c464",
   "metadata": {},
   "outputs": [
    {
     "data": {
      "text/html": [
       "<div>\n",
       "<style scoped>\n",
       "    .dataframe tbody tr th:only-of-type {\n",
       "        vertical-align: middle;\n",
       "    }\n",
       "\n",
       "    .dataframe tbody tr th {\n",
       "        vertical-align: top;\n",
       "    }\n",
       "\n",
       "    .dataframe thead th {\n",
       "        text-align: right;\n",
       "    }\n",
       "</style>\n",
       "<table border=\"1\" class=\"dataframe\">\n",
       "  <thead>\n",
       "    <tr style=\"text-align: right;\">\n",
       "      <th></th>\n",
       "      <th>Fecha</th>\n",
       "      <th>Personas</th>\n",
       "      <th>Reservaciones</th>\n",
       "    </tr>\n",
       "  </thead>\n",
       "  <tbody>\n",
       "    <tr>\n",
       "      <th>0</th>\n",
       "      <td>2019-01-02</td>\n",
       "      <td>0</td>\n",
       "      <td>46</td>\n",
       "    </tr>\n",
       "    <tr>\n",
       "      <th>1</th>\n",
       "      <td>2019-01-03</td>\n",
       "      <td>0</td>\n",
       "      <td>94</td>\n",
       "    </tr>\n",
       "    <tr>\n",
       "      <th>2</th>\n",
       "      <td>2019-01-04</td>\n",
       "      <td>0</td>\n",
       "      <td>142</td>\n",
       "    </tr>\n",
       "    <tr>\n",
       "      <th>3</th>\n",
       "      <td>2019-01-05</td>\n",
       "      <td>0</td>\n",
       "      <td>56</td>\n",
       "    </tr>\n",
       "    <tr>\n",
       "      <th>4</th>\n",
       "      <td>2019-01-06</td>\n",
       "      <td>0</td>\n",
       "      <td>12</td>\n",
       "    </tr>\n",
       "  </tbody>\n",
       "</table>\n",
       "</div>"
      ],
      "text/plain": [
       "       Fecha  Personas  Reservaciones\n",
       "0 2019-01-02         0             46\n",
       "1 2019-01-03         0             94\n",
       "2 2019-01-04         0            142\n",
       "3 2019-01-05         0             56\n",
       "4 2019-01-06         0             12"
      ]
     },
     "execution_count": 37,
     "metadata": {},
     "output_type": "execute_result"
    }
   ],
   "source": [
    "ValoresxFecha.head()"
   ]
  },
  {
   "cell_type": "code",
   "execution_count": 38,
   "id": "5c7f598e",
   "metadata": {},
   "outputs": [
    {
     "data": {
      "image/png": "[encoded data removed]",
      "text/plain": [
       "<Figure size 1200x600 with 1 Axes>"
      ]
     },
     "metadata": {},
     "output_type": "display_data"
    }
   ],
   "source": [
    "plt.figure(figsize=(12, 6))\n",
    "plt.plot(ValoresxFecha['Fecha'], ValoresxFecha['Personas'], label='Personas')\n",
    "plt.plot(ValoresxFecha['Fecha'], ValoresxFecha['Reservaciones'], label='Reservaciones hechas')\n",
    "plt.xlabel('Fecha')\n",
    "plt.ylabel('Cantidad')\n",
    "plt.title('Personas y reservaciones por fecha')\n",
    "plt.legend()\n",
    "plt.grid(True)\n",
    "plt.xticks(rotation=45)\n",
    "plt.tight_layout()\n",
    "plt.show()"
   ]
  },
  {
   "cell_type": "code",
   "execution_count": 39,
   "id": "9e1d0e39",
   "metadata": {},
   "outputs": [
    {
     "data": {
      "text/plain": [
       "h_num_per\n",
       "0     100019\n",
       "2      71326\n",
       "3      14922\n",
       "4       7709\n",
       "1       4900\n",
       "5       1280\n",
       "6        781\n",
       "8        228\n",
       "7         96\n",
       "12        40\n",
       "10        21\n",
       "11        18\n",
       "9         17\n",
       "17        13\n",
       "32        10\n",
       "16         8\n",
       "18         6\n",
       "14         6\n",
       "19         5\n",
       "13         3\n",
       "20         2\n",
       "15         2\n",
       "Name: count, dtype: int64"
      ]
     },
     "execution_count": 39,
     "metadata": {},
     "output_type": "execute_result"
    }
   ],
   "source": [
    "df['h_num_per'].value_counts()"
   ]
  },
  {
   "cell_type": "markdown",
   "id": "4ceee173",
   "metadata": {},
   "source": [
    "#### Contamos cuantos casos hay donde la cantidad de personas es 0"
   ]
  },
  {
   "cell_type": "code",
   "execution_count": 40,
   "id": "d2ec2d8f",
   "metadata": {},
   "outputs": [
    {
     "data": {
      "text/plain": [
       "(100019, 32)"
      ]
     },
     "execution_count": 40,
     "metadata": {},
     "output_type": "execute_result"
    }
   ],
   "source": [
    "df[df['h_num_per'] == 0].shape"
   ]
  },
  {
   "cell_type": "markdown",
   "id": "7bfee249",
   "metadata": {},
   "source": [
    "#### Vamos a revisar si todos los casos en los que el número de personas es 0, también la tarifa total y las noches lo son (sospechando que son casos de \"no-show\")"
   ]
  },
  {
   "cell_type": "code",
   "execution_count": 41,
   "id": "f9bbfd9a",
   "metadata": {},
   "outputs": [
    {
     "data": {
      "text/plain": [
       "(100019, 32)"
      ]
     },
     "execution_count": 41,
     "metadata": {},
     "output_type": "execute_result"
    }
   ],
   "source": [
    "# Todos los que tienen no. de personas = 0, también tienen no. de noches y tarifa total iguales a 0\n",
    "cond_1 = (df['h_num_per'] == 0) & (df['h_num_noc'] == 0) & (df['h_tfa_total'] == 0)\n",
    "df[cond_1].shape"
   ]
  },
  {
   "cell_type": "code",
   "execution_count": null,
   "id": "00baf75f",
   "metadata": {},
   "outputs": [
    {
     "data": {
      "text/plain": [
       "(203, 32)"
      ]
     },
     "execution_count": 42,
     "metadata": {},
     "output_type": "execute_result"
    }
   ],
   "source": [
    "# Hay 203 registros que tienen no. de noches igual a 0, pero no. de personas y tarifa diferentes de 0 \n",
    "cond_2 = (df['h_num_noc'] == 0) & (df['h_num_per'] != 0)\n",
    "df[cond_2].shape"
   ]
  },
  {
   "cell_type": "code",
   "execution_count": 45,
   "id": "2ee9e3c1",
   "metadata": {},
   "outputs": [
    {
     "data": {
      "text/html": [
       "<div>\n",
       "<style scoped>\n",
       "    .dataframe tbody tr th:only-of-type {\n",
       "        vertical-align: middle;\n",
       "    }\n",
       "\n",
       "    .dataframe tbody tr th {\n",
       "        vertical-align: top;\n",
       "    }\n",
       "\n",
       "    .dataframe thead th {\n",
       "        text-align: right;\n",
       "    }\n",
       "</style>\n",
       "<table border=\"1\" class=\"dataframe\">\n",
       "  <thead>\n",
       "    <tr style=\"text-align: right;\">\n",
       "      <th></th>\n",
       "      <th>ID_Reserva</th>\n",
       "      <th>Fecha_hoy</th>\n",
       "      <th>h_res_fec</th>\n",
       "      <th>h_num_per</th>\n",
       "      <th>aa_h_num_per</th>\n",
       "      <th>h_num_adu</th>\n",
       "      <th>aa_h_num_adu</th>\n",
       "      <th>h_num_men</th>\n",
       "      <th>aa_h_num_men</th>\n",
       "      <th>h_num_noc</th>\n",
       "      <th>...</th>\n",
       "      <th>ID_Pais_Origen</th>\n",
       "      <th>Reservacion</th>\n",
       "      <th>aa_Reservacion</th>\n",
       "      <th>ID_estatus_reservaciones</th>\n",
       "      <th>h_can_res</th>\n",
       "      <th>h_edo</th>\n",
       "      <th>h_tfa_total</th>\n",
       "      <th>aa_h_tfa_total</th>\n",
       "      <th>h_ult_cam_fec</th>\n",
       "      <th>dia_reservacion</th>\n",
       "    </tr>\n",
       "  </thead>\n",
       "  <tbody>\n",
       "    <tr>\n",
       "      <th>545</th>\n",
       "      <td>545</td>\n",
       "      <td>2019-11-28</td>\n",
       "      <td>2019-11-28</td>\n",
       "      <td>2</td>\n",
       "      <td>0</td>\n",
       "      <td>2</td>\n",
       "      <td>0</td>\n",
       "      <td>0</td>\n",
       "      <td>0</td>\n",
       "      <td>0</td>\n",
       "      <td>...</td>\n",
       "      <td>157</td>\n",
       "      <td>1</td>\n",
       "      <td>0</td>\n",
       "      <td>9</td>\n",
       "      <td>00</td>\n",
       "      <td>EMC</td>\n",
       "      <td>3000.0</td>\n",
       "      <td>0.0</td>\n",
       "      <td>2019-12-20</td>\n",
       "      <td>Thursday</td>\n",
       "    </tr>\n",
       "    <tr>\n",
       "      <th>969</th>\n",
       "      <td>969</td>\n",
       "      <td>2019-12-08</td>\n",
       "      <td>2019-12-08</td>\n",
       "      <td>4</td>\n",
       "      <td>0</td>\n",
       "      <td>4</td>\n",
       "      <td>0</td>\n",
       "      <td>0</td>\n",
       "      <td>0</td>\n",
       "      <td>0</td>\n",
       "      <td>...</td>\n",
       "      <td>157</td>\n",
       "      <td>1</td>\n",
       "      <td>0</td>\n",
       "      <td>9</td>\n",
       "      <td>00</td>\n",
       "      <td>EGT</td>\n",
       "      <td>637.0</td>\n",
       "      <td>0.0</td>\n",
       "      <td>2019-12-08</td>\n",
       "      <td>Sunday</td>\n",
       "    </tr>\n",
       "    <tr>\n",
       "      <th>972</th>\n",
       "      <td>972</td>\n",
       "      <td>2019-12-08</td>\n",
       "      <td>2019-12-08</td>\n",
       "      <td>4</td>\n",
       "      <td>0</td>\n",
       "      <td>4</td>\n",
       "      <td>0</td>\n",
       "      <td>0</td>\n",
       "      <td>0</td>\n",
       "      <td>0</td>\n",
       "      <td>...</td>\n",
       "      <td>157</td>\n",
       "      <td>1</td>\n",
       "      <td>0</td>\n",
       "      <td>9</td>\n",
       "      <td>00</td>\n",
       "      <td>EGT</td>\n",
       "      <td>637.0</td>\n",
       "      <td>0.0</td>\n",
       "      <td>2019-12-08</td>\n",
       "      <td>Sunday</td>\n",
       "    </tr>\n",
       "    <tr>\n",
       "      <th>1419</th>\n",
       "      <td>1419</td>\n",
       "      <td>2019-02-02</td>\n",
       "      <td>2019-02-02</td>\n",
       "      <td>2</td>\n",
       "      <td>0</td>\n",
       "      <td>2</td>\n",
       "      <td>0</td>\n",
       "      <td>0</td>\n",
       "      <td>0</td>\n",
       "      <td>0</td>\n",
       "      <td>...</td>\n",
       "      <td>157</td>\n",
       "      <td>1</td>\n",
       "      <td>0</td>\n",
       "      <td>2</td>\n",
       "      <td>DI</td>\n",
       "      <td>EQR</td>\n",
       "      <td>0.0</td>\n",
       "      <td>0.0</td>\n",
       "      <td>2019-02-28</td>\n",
       "      <td>Saturday</td>\n",
       "    </tr>\n",
       "    <tr>\n",
       "      <th>2447</th>\n",
       "      <td>2447</td>\n",
       "      <td>2019-12-17</td>\n",
       "      <td>2019-12-17</td>\n",
       "      <td>3</td>\n",
       "      <td>0</td>\n",
       "      <td>3</td>\n",
       "      <td>0</td>\n",
       "      <td>0</td>\n",
       "      <td>0</td>\n",
       "      <td>0</td>\n",
       "      <td>...</td>\n",
       "      <td>157</td>\n",
       "      <td>1</td>\n",
       "      <td>0</td>\n",
       "      <td>9</td>\n",
       "      <td>00</td>\n",
       "      <td>EGR</td>\n",
       "      <td>1.0</td>\n",
       "      <td>0.0</td>\n",
       "      <td>2019-12-17</td>\n",
       "      <td>Tuesday</td>\n",
       "    </tr>\n",
       "  </tbody>\n",
       "</table>\n",
       "<p>5 rows × 32 columns</p>\n",
       "</div>"
      ],
      "text/plain": [
       "      ID_Reserva  Fecha_hoy  h_res_fec  h_num_per  aa_h_num_per  h_num_adu  \\\n",
       "545          545 2019-11-28 2019-11-28          2             0          2   \n",
       "969          969 2019-12-08 2019-12-08          4             0          4   \n",
       "972          972 2019-12-08 2019-12-08          4             0          4   \n",
       "1419        1419 2019-02-02 2019-02-02          2             0          2   \n",
       "2447        2447 2019-12-17 2019-12-17          3             0          3   \n",
       "\n",
       "      aa_h_num_adu  h_num_men  aa_h_num_men h_num_noc  ...  ID_Pais_Origen  \\\n",
       "545              0          0             0         0  ...             157   \n",
       "969              0          0             0         0  ...             157   \n",
       "972              0          0             0         0  ...             157   \n",
       "1419             0          0             0         0  ...             157   \n",
       "2447             0          0             0         0  ...             157   \n",
       "\n",
       "      Reservacion  aa_Reservacion  ID_estatus_reservaciones  h_can_res  \\\n",
       "545             1               0                         9         00   \n",
       "969             1               0                         9         00   \n",
       "972             1               0                         9         00   \n",
       "1419            1               0                         2         DI   \n",
       "2447            1               0                         9         00   \n",
       "\n",
       "       h_edo  h_tfa_total  aa_h_tfa_total  h_ult_cam_fec dia_reservacion  \n",
       "545   EMC          3000.0             0.0     2019-12-20        Thursday  \n",
       "969   EGT           637.0             0.0     2019-12-08          Sunday  \n",
       "972   EGT           637.0             0.0     2019-12-08          Sunday  \n",
       "1419  EQR             0.0             0.0     2019-02-28        Saturday  \n",
       "2447  EGR             1.0             0.0     2019-12-17         Tuesday  \n",
       "\n",
       "[5 rows x 32 columns]"
      ]
     },
     "execution_count": 45,
     "metadata": {},
     "output_type": "execute_result"
    }
   ],
   "source": [
    "df[cond_2].head()"
   ]
  },
  {
   "cell_type": "code",
   "execution_count": 43,
   "id": "8a02d9e0",
   "metadata": {},
   "outputs": [
    {
     "data": {
      "text/plain": [
       "(5272, 32)"
      ]
     },
     "execution_count": 43,
     "metadata": {},
     "output_type": "execute_result"
    }
   ],
   "source": [
    "# Hay más de 5 mil registros que tienen tarifa total 0, pero numero de noches y personas diferente de 0 \n",
    "cond_3 = (df['h_tfa_total'] == 0) & (df['h_num_noc'] != 0) & (df['h_num_per'] != 0)\n",
    "df[cond_3].shape"
   ]
  },
  {
   "cell_type": "markdown",
   "id": "8fd626fd",
   "metadata": {},
   "source": [
    "#### Análisis de Cardinalidad y agrupación de valores"
   ]
  },
  {
   "cell_type": "code",
   "execution_count": null,
   "id": "e7bb0067",
   "metadata": {},
   "outputs": [],
   "source": [
    "# Porcentaje acumulado que deseamos conservar. Es decir, la nueva categoría \"Otro\" contendrá como máximo el 10% de los valores \n",
    "umbral = 0.90\n",
    "\n",
    "# Seleccionar columnas\n",
    "cols = ['ID_Agencia']\n",
    "\n",
    "# En caso de querer aplicar a todas las columnas categóticas\n",
    "# cols = df.select_dtypes(include='object').columns\n",
    "\n",
    "# Crear y conservar solo las versiones reducidas\n",
    "for col in cols:\n",
    "    freqs = df[col].value_counts(normalize=True)\n",
    "    top_cats = freqs.cumsum()[freqs.cumsum() <= umbral].index\n",
    "    df[col + '_reducida'] = df[col].where(df[col].isin(top_cats), other='Otro')\n",
    "\n",
    "df.drop(columns=cols, inplace=True)\n",
    "df.columns = [col.replace('_reducida', '') for col in df.columns]\n"
   ]
  },
  {
   "cell_type": "code",
   "execution_count": null,
   "id": "7c5f76c7",
   "metadata": {},
   "outputs": [],
   "source": [
    "# También se puede realizar basándonos en un umbral de frecuencias absolutas en lugar de porcentajes\n",
    "# En el caso de País de Origen, por ejemplo, podría ser útil, ya que con porcentajes se terminan sustituyendo todos los valores por \"Otro\"\n",
    "\n",
    "'''umbral = 50\n",
    "\n",
    "for col in cols:\n",
    "    frecuentes = df[col].value_counts()[lambda x: x >= umbral].index\n",
    "    df[col + '_reducida'] = df[col].where(df[col].isin(frecuentes), other='Otro')\n",
    "    \n",
    "df.drop(columns=cols, inplace=True)\n",
    "df.columns = [col.replace('_reducida', '') for col in df.columns]'''"
   ]
  },
  {
   "cell_type": "markdown",
   "id": "2ad225cd",
   "metadata": {},
   "source": [
    "#### Regresamos al análisis de la columna estado"
   ]
  },
  {
   "cell_type": "code",
   "execution_count": 44,
   "id": "cd083566",
   "metadata": {},
   "outputs": [
    {
     "name": "stdout",
     "output_type": "stream",
     "text": [
      "['EMX   ' 'EGT   ' 'EMC   ' 'EGR   ' 'EAZ   ' 'ESL   ' 'ENL   ' 'EMR   '\n",
      " 'EDF   ' 'EQR   ' 'EHG   ' 'EQE   ' 'EON   ' 'EMB   ' 'ECA   ' 'EAB   '\n",
      " 'EBC   ' 'EJA   ' 'ESO   ' 'ECH   ' 'EZA   ' 'EOR   ' 'ETX   ' 'EIL   '\n",
      " 'EME   ' 'EMO   ' 'ENV   ' 'ESZI  ' 'EWA   ' 'ENC   ' 'ESED  ' 'EAL   '\n",
      " 'EPB   ' 'EAGU  ' 'EVE   ' 'EPA   ' 'EDE   ' 'ENM   ' 'EIN   ' 'EMI   '\n",
      " 'ENY   ' 'ECOL  ' 'ELA   ' 'EAS   ' 'ECU   ' 'EHI   ' 'EAAB  ' 'EDC   '\n",
      " 'EID   ' 'EBCN  ' 'ECL   ' 'EGU   ' 'ESI   ' 'ENT   ' 'EAR   ' 'EGA   '\n",
      " 'ECO   ' 'EESP  ' 'EFL   ' 'EUYU  ' 'ETM   ' 'EWI   ' 'EDG   ' 'ENA   '\n",
      " 'ETB   ' 'ESK   ' 'EMN   ' 'EOA   ' 'EPRI  ' 'EMT   ' 'EMA   ' 'EQC   '\n",
      " 'EGTE  ' 'EJPA  ' 'ECHS  ' 'EWY   ' 'EAK   ' 'EVA   ' 'EKRO  ' 'EMS   '\n",
      " 'ENB   ' 'EVI   ' 'ETL   ' 'EDEG  ' 'EGBU  ' 'EALB  ' 'ECRI  ' 'EIA   '\n",
      " 'EYU   ' 'ECS   ' 'EPE   ' 'EYT   ' 'EITA  ' 'EGDR  ' 'EOH   ' 'ENJ   '\n",
      " 'EECU  ' 'ENE   ' 'EKEN  ' 'EGAB  ' 'EKS   ' 'ECM   ' 'EAUS  ' 'EAEU  '\n",
      " 'EUMO  ' 'EMH   ' 'EVT   ' 'EFRA  ' 'ECLE  ' 'ESVA  ' 'EGUA  ' 'EBSU  '\n",
      " 'END   ' 'EPER  ' 'ECT   ' 'EGPE  ' 'ESD   ' 'EMKF  ' 'EKY   ' 'EGLE  '\n",
      " 'EGSS  ' 'EARG  ' 'ETFS  ' 'ENF   ' 'EOK   ' 'ED01  ' 'EVEN  ' 'EUT   '\n",
      " 'EGFR  ' 'EGIB  ' 'ETN   ' 'EAZE  ' 'ELSO  ' 'ERU   ' 'ED13  ' 'EILS  '\n",
      " 'ED23  ' 'EPR   ' 'ESC   ' 'EBOP  ' 'EGEO  ' 'EBRA  ' 'EEHW  ' 'EDKE  '\n",
      " 'EPTG  ' 'EPAN  ' 'EPLA  ']\n"
     ]
    }
   ],
   "source": [
    "print(df['h_edo'].unique())"
   ]
  }
 ],
 "metadata": {
  "kernelspec": {
   "display_name": "Python 3",
   "language": "python",
   "name": "python3"
  },
  "language_info": {
   "codemirror_mode": {
    "name": "ipython",
    "version": 3
   },
   "file_extension": ".py",
   "mimetype": "text/x-python",
   "name": "python",
   "nbconvert_exporter": "python",
   "pygments_lexer": "ipython3",
   "version": "3.11.3"
  }
 },
 "nbformat": 4,
 "nbformat_minor": 5
}
