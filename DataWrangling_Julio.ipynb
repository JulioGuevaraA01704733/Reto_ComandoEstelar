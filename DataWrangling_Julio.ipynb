{
 "cells": [
  {
   "cell_type": "code",
   "execution_count": 1,
   "id": "f776eac0",
   "metadata": {},
   "outputs": [],
   "source": [
    "import pandas as pd\n",
    "import numpy as np\n",
    "import warnings"
   ]
  },
  {
   "cell_type": "code",
   "execution_count": 2,
   "id": "9c958590",
   "metadata": {},
   "outputs": [],
   "source": [
    "warnings.simplefilter(\"ignore\")"
   ]
  },
  {
   "cell_type": "code",
   "execution_count": 3,
   "id": "af16cf6e",
   "metadata": {},
   "outputs": [],
   "source": [
    "df = pd.read_csv(\"C:/a space/S8/Reto/iar_Reservaciones.csv\")"
   ]
  },
  {
   "cell_type": "code",
   "execution_count": 4,
   "id": "62ea48a3",
   "metadata": {},
   "outputs": [
    {
     "name": "stdout",
     "output_type": "stream",
     "text": [
      "<class 'pandas.core.frame.DataFrame'>\n",
      "RangeIndex: 203002 entries, 0 to 203001\n",
      "Data columns (total 49 columns):\n",
      " #   Column                    Non-Null Count   Dtype  \n",
      "---  ------                    --------------   -----  \n",
      " 0   ID_Reserva                203002 non-null  int64  \n",
      " 1   Fecha_hoy                 203002 non-null  object \n",
      " 2   h_res_fec                 203002 non-null  int64  \n",
      " 3   h_res_fec_ok              203002 non-null  object \n",
      " 4   h_res_fec_okt             203002 non-null  object \n",
      " 5   h_num_per                 203002 non-null  int64  \n",
      " 6   aa_h_num_per              203002 non-null  int64  \n",
      " 7   h_num_adu                 203002 non-null  int64  \n",
      " 8   aa_h_num_adu              203002 non-null  int64  \n",
      " 9   h_num_men                 203002 non-null  int64  \n",
      " 10  aa_h_num_men              203002 non-null  int64  \n",
      " 11  h_num_noc                 203002 non-null  int64  \n",
      " 12  aa_h_num_noc              203002 non-null  int64  \n",
      " 13  h_tot_hab                 203002 non-null  int64  \n",
      " 14  aa_h_tot_hab              203002 non-null  int64  \n",
      " 15  ID_Programa               203002 non-null  int64  \n",
      " 16  ID_Paquete                203002 non-null  int64  \n",
      " 17  ID_Segmento_Comp          203002 non-null  int64  \n",
      " 18  ID_Agencia                203002 non-null  int64  \n",
      " 19  ID_empresa                203002 non-null  int64  \n",
      " 20  ID_Tipo_Habitacion        203002 non-null  int64  \n",
      " 21  ID_canal                  203002 non-null  int64  \n",
      " 22  h_fec_lld                 203002 non-null  object \n",
      " 23  h_fec_lld_ok              203002 non-null  object \n",
      " 24  h_fec_lld_okt             203002 non-null  object \n",
      " 25  h_fec_reg                 203002 non-null  object \n",
      " 26  h_fec_reg_ok              203002 non-null  object \n",
      " 27  h_fec_reg_okt             203002 non-null  object \n",
      " 28  h_fec_sda                 203002 non-null  object \n",
      " 29  h_fec_sda_ok              203002 non-null  object \n",
      " 30  h_fec_sda_okt             203002 non-null  object \n",
      " 31  ID_Pais_Origen            203002 non-null  int64  \n",
      " 32  Cliente_Disp              203002 non-null  int64  \n",
      " 33  aa_Cliente_Disp           203002 non-null  int64  \n",
      " 34  Reservacion               203002 non-null  int64  \n",
      " 35  aa_Reservacion            203002 non-null  int64  \n",
      " 36  ID_estatus_reservaciones  203002 non-null  int64  \n",
      " 37  h_can_res                 203002 non-null  object \n",
      " 38  h_cod_reserva             203002 non-null  object \n",
      " 39  h_edo                     203002 non-null  object \n",
      " 40  h_codigop                 203002 non-null  object \n",
      " 41  h_correo_e                0 non-null       float64\n",
      " 42  h_nom                     0 non-null       float64\n",
      " 43  h_tfa_total               203002 non-null  float64\n",
      " 44  aa_h_tfa_total            203002 non-null  float64\n",
      " 45  moneda_cve                203002 non-null  int64  \n",
      " 46  h_ult_cam_fec             203002 non-null  object \n",
      " 47  h_ult_cam_fec_ok          203002 non-null  object \n",
      " 48  h_ult_cam_fec_okt         203002 non-null  object \n",
      "dtypes: float64(4), int64(26), object(19)\n",
      "memory usage: 75.9+ MB\n"
     ]
    }
   ],
   "source": [
    "df.info()"
   ]
  },
  {
   "cell_type": "code",
   "execution_count": 5,
   "id": "b93452bf",
   "metadata": {},
   "outputs": [],
   "source": [
    "df.drop(['h_correo_e', 'h_nom'], axis='columns', inplace=True)"
   ]
  },
  {
   "cell_type": "code",
   "execution_count": 7,
   "id": "08dc3249",
   "metadata": {},
   "outputs": [
    {
     "data": {
      "text/plain": [
       "(203002, 47)"
      ]
     },
     "execution_count": 7,
     "metadata": {},
     "output_type": "execute_result"
    }
   ],
   "source": [
    "df.shape"
   ]
  },
  {
   "cell_type": "markdown",
   "id": "b39d044e",
   "metadata": {},
   "source": [
    "#### Reemplazamos los campos vacíos (con solo espacios) por valores nulos para mayor control"
   ]
  },
  {
   "cell_type": "code",
   "execution_count": 8,
   "id": "0627e296",
   "metadata": {},
   "outputs": [],
   "source": [
    "df = df.replace(r'^\\s*$', np.nan, regex=True)"
   ]
  },
  {
   "cell_type": "markdown",
   "id": "ece56de0",
   "metadata": {},
   "source": [
    "#### Contamos no nulos después de la corrección"
   ]
  },
  {
   "cell_type": "code",
   "execution_count": 9,
   "id": "d97f6463",
   "metadata": {},
   "outputs": [
    {
     "name": "stdout",
     "output_type": "stream",
     "text": [
      "<class 'pandas.core.frame.DataFrame'>\n",
      "RangeIndex: 203002 entries, 0 to 203001\n",
      "Data columns (total 47 columns):\n",
      " #   Column                    Non-Null Count   Dtype  \n",
      "---  ------                    --------------   -----  \n",
      " 0   ID_Reserva                203002 non-null  int64  \n",
      " 1   Fecha_hoy                 203002 non-null  object \n",
      " 2   h_res_fec                 203002 non-null  int64  \n",
      " 3   h_res_fec_ok              203002 non-null  object \n",
      " 4   h_res_fec_okt             203002 non-null  object \n",
      " 5   h_num_per                 203002 non-null  int64  \n",
      " 6   aa_h_num_per              203002 non-null  int64  \n",
      " 7   h_num_adu                 203002 non-null  int64  \n",
      " 8   aa_h_num_adu              203002 non-null  int64  \n",
      " 9   h_num_men                 203002 non-null  int64  \n",
      " 10  aa_h_num_men              203002 non-null  int64  \n",
      " 11  h_num_noc                 203002 non-null  int64  \n",
      " 12  aa_h_num_noc              203002 non-null  int64  \n",
      " 13  h_tot_hab                 203002 non-null  int64  \n",
      " 14  aa_h_tot_hab              203002 non-null  int64  \n",
      " 15  ID_Programa               203002 non-null  int64  \n",
      " 16  ID_Paquete                203002 non-null  int64  \n",
      " 17  ID_Segmento_Comp          203002 non-null  int64  \n",
      " 18  ID_Agencia                203002 non-null  int64  \n",
      " 19  ID_empresa                203002 non-null  int64  \n",
      " 20  ID_Tipo_Habitacion        203002 non-null  int64  \n",
      " 21  ID_canal                  203002 non-null  int64  \n",
      " 22  h_fec_lld                 203000 non-null  object \n",
      " 23  h_fec_lld_ok              203002 non-null  object \n",
      " 24  h_fec_lld_okt             203002 non-null  object \n",
      " 25  h_fec_reg                 201452 non-null  object \n",
      " 26  h_fec_reg_ok              203002 non-null  object \n",
      " 27  h_fec_reg_okt             203002 non-null  object \n",
      " 28  h_fec_sda                 202968 non-null  object \n",
      " 29  h_fec_sda_ok              203002 non-null  object \n",
      " 30  h_fec_sda_okt             203002 non-null  object \n",
      " 31  ID_Pais_Origen            203002 non-null  int64  \n",
      " 32  Cliente_Disp              203002 non-null  int64  \n",
      " 33  aa_Cliente_Disp           203002 non-null  int64  \n",
      " 34  Reservacion               203002 non-null  int64  \n",
      " 35  aa_Reservacion            203002 non-null  int64  \n",
      " 36  ID_estatus_reservaciones  203002 non-null  int64  \n",
      " 37  h_can_res                 202510 non-null  object \n",
      " 38  h_cod_reserva             74860 non-null   object \n",
      " 39  h_edo                     203000 non-null  object \n",
      " 40  h_codigop                 145678 non-null  object \n",
      " 41  h_tfa_total               203002 non-null  float64\n",
      " 42  aa_h_tfa_total            203002 non-null  float64\n",
      " 43  moneda_cve                203002 non-null  int64  \n",
      " 44  h_ult_cam_fec             202469 non-null  object \n",
      " 45  h_ult_cam_fec_ok          203002 non-null  object \n",
      " 46  h_ult_cam_fec_okt         203002 non-null  object \n",
      "dtypes: float64(2), int64(26), object(19)\n",
      "memory usage: 72.8+ MB\n"
     ]
    }
   ],
   "source": [
    "df.info()"
   ]
  },
  {
   "cell_type": "code",
   "execution_count": 23,
   "id": "7129c1b0",
   "metadata": {},
   "outputs": [
    {
     "data": {
      "text/plain": [
       "0         2019-11-10\n",
       "1         2019-12-05\n",
       "2         2019-12-05\n",
       "3         2019-12-11\n",
       "4         2019-12-12\n",
       "             ...    \n",
       "202997    2019-04-10\n",
       "202998    2019-06-17\n",
       "202999    2019-06-02\n",
       "203000    2019-08-12\n",
       "203001    2019-02-28\n",
       "Name: h_fec_sda_okt, Length: 203002, dtype: object"
      ]
     },
     "execution_count": 23,
     "metadata": {},
     "output_type": "execute_result"
    }
   ],
   "source": [
    "df['h_fec_sda_okt']"
   ]
  },
  {
   "cell_type": "code",
   "execution_count": 25,
   "id": "31882479",
   "metadata": {},
   "outputs": [],
   "source": [
    "columnas_fechas = ['Fecha_hoy', 'h_fec_reg_ok', 'h_fec_reg_okt', 'h_res_fec_ok', 'h_res_fec_okt', 'h_fec_lld_ok', 'h_fec_lld_okt', 'h_ult_cam_fec_ok', 'h_ult_cam_fec_okt', 'h_fec_sda_ok', 'h_fec_sda_okt']\n",
    "columnas_fechas_sin_guion = ['h_fec_reg', 'h_fec_lld', 'h_res_fec','h_ult_cam_fec', 'h_fec_sda', ]\n",
    "\n",
    "for fecha in columnas_fechas:\n",
    "    df[fecha] = pd.to_datetime(df[fecha], errors='coerce')\n",
    "\n",
    "for fecha in columnas_fechas_sin_guion:\n",
    "    df[fecha] = pd.to_datetime(df[fecha], format='%Y%m%d', errors='coerce')\n"
   ]
  },
  {
   "cell_type": "code",
   "execution_count": 26,
   "id": "6e94cd76",
   "metadata": {},
   "outputs": [
    {
     "name": "stdout",
     "output_type": "stream",
     "text": [
      "<class 'pandas.core.frame.DataFrame'>\n",
      "RangeIndex: 203002 entries, 0 to 203001\n",
      "Data columns (total 47 columns):\n",
      " #   Column                    Non-Null Count   Dtype         \n",
      "---  ------                    --------------   -----         \n",
      " 0   ID_Reserva                203002 non-null  int64         \n",
      " 1   Fecha_hoy                 203002 non-null  datetime64[ns]\n",
      " 2   h_res_fec                 203002 non-null  datetime64[ns]\n",
      " 3   h_res_fec_ok              203002 non-null  datetime64[ns]\n",
      " 4   h_res_fec_okt             203002 non-null  datetime64[ns]\n",
      " 5   h_num_per                 203002 non-null  int64         \n",
      " 6   aa_h_num_per              203002 non-null  int64         \n",
      " 7   h_num_adu                 203002 non-null  int64         \n",
      " 8   aa_h_num_adu              203002 non-null  int64         \n",
      " 9   h_num_men                 203002 non-null  int64         \n",
      " 10  aa_h_num_men              203002 non-null  int64         \n",
      " 11  h_num_noc                 203002 non-null  int64         \n",
      " 12  aa_h_num_noc              203002 non-null  int64         \n",
      " 13  h_tot_hab                 203002 non-null  int64         \n",
      " 14  aa_h_tot_hab              203002 non-null  int64         \n",
      " 15  ID_Programa               203002 non-null  int64         \n",
      " 16  ID_Paquete                203002 non-null  int64         \n",
      " 17  ID_Segmento_Comp          203002 non-null  int64         \n",
      " 18  ID_Agencia                203002 non-null  int64         \n",
      " 19  ID_empresa                203002 non-null  int64         \n",
      " 20  ID_Tipo_Habitacion        203002 non-null  int64         \n",
      " 21  ID_canal                  203002 non-null  int64         \n",
      " 22  h_fec_lld                 203000 non-null  datetime64[ns]\n",
      " 23  h_fec_lld_ok              203002 non-null  datetime64[ns]\n",
      " 24  h_fec_lld_okt             203002 non-null  datetime64[ns]\n",
      " 25  h_fec_reg                 201452 non-null  datetime64[ns]\n",
      " 26  h_fec_reg_ok              203002 non-null  datetime64[ns]\n",
      " 27  h_fec_reg_okt             203002 non-null  datetime64[ns]\n",
      " 28  h_fec_sda                 202968 non-null  datetime64[ns]\n",
      " 29  h_fec_sda_ok              203002 non-null  datetime64[ns]\n",
      " 30  h_fec_sda_okt             203002 non-null  datetime64[ns]\n",
      " 31  ID_Pais_Origen            203002 non-null  int64         \n",
      " 32  Cliente_Disp              203002 non-null  int64         \n",
      " 33  aa_Cliente_Disp           203002 non-null  int64         \n",
      " 34  Reservacion               203002 non-null  int64         \n",
      " 35  aa_Reservacion            203002 non-null  int64         \n",
      " 36  ID_estatus_reservaciones  203002 non-null  int64         \n",
      " 37  h_can_res                 202510 non-null  object        \n",
      " 38  h_cod_reserva             74860 non-null   object        \n",
      " 39  h_edo                     203000 non-null  object        \n",
      " 40  h_codigop                 145678 non-null  object        \n",
      " 41  h_tfa_total               203002 non-null  float64       \n",
      " 42  aa_h_tfa_total            203002 non-null  float64       \n",
      " 43  moneda_cve                203002 non-null  int64         \n",
      " 44  h_ult_cam_fec             202469 non-null  datetime64[ns]\n",
      " 45  h_ult_cam_fec_ok          203002 non-null  datetime64[ns]\n",
      " 46  h_ult_cam_fec_okt         203002 non-null  datetime64[ns]\n",
      "dtypes: datetime64[ns](16), float64(2), int64(25), object(4)\n",
      "memory usage: 72.8+ MB\n"
     ]
    }
   ],
   "source": [
    "df.info()"
   ]
  }
 ],
 "metadata": {
  "kernelspec": {
   "display_name": "Python 3",
   "language": "python",
   "name": "python3"
  },
  "language_info": {
   "codemirror_mode": {
    "name": "ipython",
    "version": 3
   },
   "file_extension": ".py",
   "mimetype": "text/x-python",
   "name": "python",
   "nbconvert_exporter": "python",
   "pygments_lexer": "ipython3",
   "version": "3.11.3"
  }
 },
 "nbformat": 4,
 "nbformat_minor": 5
}
